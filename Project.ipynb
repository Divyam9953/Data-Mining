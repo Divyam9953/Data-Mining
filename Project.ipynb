{
 "cells": [
  {
   "cell_type": "markdown",
   "metadata": {},
   "source": [
    "# Teclov Project"
   ]
  },
  {
   "cell_type": "code",
   "execution_count": 1,
   "metadata": {},
   "outputs": [],
   "source": [
    "import pandas as pd\n",
    "import numpy as np"
   ]
  },
  {
   "cell_type": "markdown",
   "metadata": {},
   "source": [
    "# Problem 1 <- DATA CLEANING "
   ]
  },
  {
   "cell_type": "markdown",
   "metadata": {},
   "source": [
    "## Importing File"
   ]
  },
  {
   "cell_type": "code",
   "execution_count": 2,
   "metadata": {},
   "outputs": [],
   "source": [
    "companies = pd.read_csv('C:/Users/Administrator/Desktop/Python/Teclov/Teclov/companies.txt',sep='\\t',encoding='ansi')"
   ]
  },
  {
   "cell_type": "code",
   "execution_count": 3,
   "metadata": {},
   "outputs": [
    {
     "data": {
      "text/plain": [
       "permalink            0\n",
       "name                 1\n",
       "homepage_url      5058\n",
       "category_list     3148\n",
       "status               0\n",
       "country_code      6958\n",
       "state_code        8547\n",
       "region            8030\n",
       "city              8028\n",
       "founded_at       15221\n",
       "dtype: int64"
      ]
     },
     "execution_count": 3,
     "metadata": {},
     "output_type": "execute_result"
    }
   ],
   "source": [
    "## Checking for null alues\n",
    "companies.isnull().sum()"
   ]
  },
  {
   "cell_type": "code",
   "execution_count": 4,
   "metadata": {},
   "outputs": [
    {
     "data": {
      "text/html": [
       "<div>\n",
       "<style scoped>\n",
       "    .dataframe tbody tr th:only-of-type {\n",
       "        vertical-align: middle;\n",
       "    }\n",
       "\n",
       "    .dataframe tbody tr th {\n",
       "        vertical-align: top;\n",
       "    }\n",
       "\n",
       "    .dataframe thead th {\n",
       "        text-align: right;\n",
       "    }\n",
       "</style>\n",
       "<table border=\"1\" class=\"dataframe\">\n",
       "  <thead>\n",
       "    <tr style=\"text-align: right;\">\n",
       "      <th></th>\n",
       "      <th>permalink</th>\n",
       "      <th>name</th>\n",
       "      <th>homepage_url</th>\n",
       "      <th>category_list</th>\n",
       "      <th>status</th>\n",
       "      <th>country_code</th>\n",
       "      <th>state_code</th>\n",
       "      <th>region</th>\n",
       "      <th>city</th>\n",
       "      <th>founded_at</th>\n",
       "    </tr>\n",
       "  </thead>\n",
       "  <tbody>\n",
       "    <tr>\n",
       "      <th>0</th>\n",
       "      <td>/Organization/-Fame</td>\n",
       "      <td>#fame</td>\n",
       "      <td>http://livfame.com</td>\n",
       "      <td>Media</td>\n",
       "      <td>operating</td>\n",
       "      <td>IND</td>\n",
       "      <td>16</td>\n",
       "      <td>Mumbai</td>\n",
       "      <td>Mumbai</td>\n",
       "      <td>NaN</td>\n",
       "    </tr>\n",
       "    <tr>\n",
       "      <th>1</th>\n",
       "      <td>/Organization/-Qounter</td>\n",
       "      <td>:Qounter</td>\n",
       "      <td>http://www.qounter.com</td>\n",
       "      <td>Application Platforms|Real Time|Social Network...</td>\n",
       "      <td>operating</td>\n",
       "      <td>USA</td>\n",
       "      <td>DE</td>\n",
       "      <td>DE - Other</td>\n",
       "      <td>Delaware City</td>\n",
       "      <td>04-09-2014</td>\n",
       "    </tr>\n",
       "    <tr>\n",
       "      <th>2</th>\n",
       "      <td>/Organization/-The-One-Of-Them-Inc-</td>\n",
       "      <td>(THE) ONE of THEM,Inc.</td>\n",
       "      <td>http://oneofthem.jp</td>\n",
       "      <td>Apps|Games|Mobile</td>\n",
       "      <td>operating</td>\n",
       "      <td>NaN</td>\n",
       "      <td>NaN</td>\n",
       "      <td>NaN</td>\n",
       "      <td>NaN</td>\n",
       "      <td>NaN</td>\n",
       "    </tr>\n",
       "    <tr>\n",
       "      <th>3</th>\n",
       "      <td>/Organization/0-6-Com</td>\n",
       "      <td>0-6.com</td>\n",
       "      <td>http://www.0-6.com</td>\n",
       "      <td>Curated Web</td>\n",
       "      <td>operating</td>\n",
       "      <td>CHN</td>\n",
       "      <td>22</td>\n",
       "      <td>Beijing</td>\n",
       "      <td>Beijing</td>\n",
       "      <td>01-01-2007</td>\n",
       "    </tr>\n",
       "    <tr>\n",
       "      <th>4</th>\n",
       "      <td>/Organization/004-Technologies</td>\n",
       "      <td>004 Technologies</td>\n",
       "      <td>http://004gmbh.de/en/004-interact</td>\n",
       "      <td>Software</td>\n",
       "      <td>operating</td>\n",
       "      <td>USA</td>\n",
       "      <td>IL</td>\n",
       "      <td>Springfield, Illinois</td>\n",
       "      <td>Champaign</td>\n",
       "      <td>01-01-2010</td>\n",
       "    </tr>\n",
       "  </tbody>\n",
       "</table>\n",
       "</div>"
      ],
      "text/plain": [
       "                             permalink                    name  \\\n",
       "0                  /Organization/-Fame                   #fame   \n",
       "1               /Organization/-Qounter                :Qounter   \n",
       "2  /Organization/-The-One-Of-Them-Inc-  (THE) ONE of THEM,Inc.   \n",
       "3                /Organization/0-6-Com                 0-6.com   \n",
       "4       /Organization/004-Technologies        004 Technologies   \n",
       "\n",
       "                        homepage_url  \\\n",
       "0                 http://livfame.com   \n",
       "1             http://www.qounter.com   \n",
       "2                http://oneofthem.jp   \n",
       "3                 http://www.0-6.com   \n",
       "4  http://004gmbh.de/en/004-interact   \n",
       "\n",
       "                                       category_list     status country_code  \\\n",
       "0                                              Media  operating          IND   \n",
       "1  Application Platforms|Real Time|Social Network...  operating          USA   \n",
       "2                                  Apps|Games|Mobile  operating          NaN   \n",
       "3                                        Curated Web  operating          CHN   \n",
       "4                                           Software  operating          USA   \n",
       "\n",
       "  state_code                 region           city  founded_at  \n",
       "0         16                 Mumbai         Mumbai         NaN  \n",
       "1         DE             DE - Other  Delaware City  04-09-2014  \n",
       "2        NaN                    NaN            NaN         NaN  \n",
       "3         22                Beijing        Beijing  01-01-2007  \n",
       "4         IL  Springfield, Illinois      Champaign  01-01-2010  "
      ]
     },
     "execution_count": 4,
     "metadata": {},
     "output_type": "execute_result"
    }
   ],
   "source": [
    "companies.head()"
   ]
  },
  {
   "cell_type": "code",
   "execution_count": 5,
   "metadata": {},
   "outputs": [],
   "source": [
    "## Getting name of the company and dropping permalink and name column from companies dataset\n",
    "x = companies['permalink'].str.split('/',expand=True)\n",
    "cols = ['Serial No','Org','Company']\n",
    "x.columns=cols\n",
    "x['Company'] = x['Company'].apply(lambda x: x.replace('-',''))\n",
    "y = x['Company']\n",
    "companies =companies.drop(['permalink','name'],axis=1)\n",
    "companies['Company'] = y"
   ]
  },
  {
   "cell_type": "code",
   "execution_count": 6,
   "metadata": {},
   "outputs": [],
   "source": [
    "## Converting Company column in lowercase.\n",
    "companies['Company'] = companies.Company.str.lower()"
   ]
  },
  {
   "cell_type": "code",
   "execution_count": 7,
   "metadata": {},
   "outputs": [
    {
     "data": {
      "text/html": [
       "<div>\n",
       "<style scoped>\n",
       "    .dataframe tbody tr th:only-of-type {\n",
       "        vertical-align: middle;\n",
       "    }\n",
       "\n",
       "    .dataframe tbody tr th {\n",
       "        vertical-align: top;\n",
       "    }\n",
       "\n",
       "    .dataframe thead th {\n",
       "        text-align: right;\n",
       "    }\n",
       "</style>\n",
       "<table border=\"1\" class=\"dataframe\">\n",
       "  <thead>\n",
       "    <tr style=\"text-align: right;\">\n",
       "      <th></th>\n",
       "      <th>homepage_url</th>\n",
       "      <th>category_list</th>\n",
       "      <th>status</th>\n",
       "      <th>country_code</th>\n",
       "      <th>state_code</th>\n",
       "      <th>region</th>\n",
       "      <th>city</th>\n",
       "      <th>founded_at</th>\n",
       "      <th>Company</th>\n",
       "    </tr>\n",
       "  </thead>\n",
       "  <tbody>\n",
       "    <tr>\n",
       "      <th>0</th>\n",
       "      <td>http://livfame.com</td>\n",
       "      <td>Media</td>\n",
       "      <td>operating</td>\n",
       "      <td>IND</td>\n",
       "      <td>16</td>\n",
       "      <td>Mumbai</td>\n",
       "      <td>Mumbai</td>\n",
       "      <td>NaN</td>\n",
       "      <td>fame</td>\n",
       "    </tr>\n",
       "    <tr>\n",
       "      <th>1</th>\n",
       "      <td>http://www.qounter.com</td>\n",
       "      <td>Application Platforms|Real Time|Social Network...</td>\n",
       "      <td>operating</td>\n",
       "      <td>USA</td>\n",
       "      <td>DE</td>\n",
       "      <td>DE - Other</td>\n",
       "      <td>Delaware City</td>\n",
       "      <td>04-09-2014</td>\n",
       "      <td>qounter</td>\n",
       "    </tr>\n",
       "    <tr>\n",
       "      <th>2</th>\n",
       "      <td>http://oneofthem.jp</td>\n",
       "      <td>Apps|Games|Mobile</td>\n",
       "      <td>operating</td>\n",
       "      <td>NaN</td>\n",
       "      <td>NaN</td>\n",
       "      <td>NaN</td>\n",
       "      <td>NaN</td>\n",
       "      <td>NaN</td>\n",
       "      <td>theoneoftheminc</td>\n",
       "    </tr>\n",
       "    <tr>\n",
       "      <th>3</th>\n",
       "      <td>http://www.0-6.com</td>\n",
       "      <td>Curated Web</td>\n",
       "      <td>operating</td>\n",
       "      <td>CHN</td>\n",
       "      <td>22</td>\n",
       "      <td>Beijing</td>\n",
       "      <td>Beijing</td>\n",
       "      <td>01-01-2007</td>\n",
       "      <td>06com</td>\n",
       "    </tr>\n",
       "    <tr>\n",
       "      <th>4</th>\n",
       "      <td>http://004gmbh.de/en/004-interact</td>\n",
       "      <td>Software</td>\n",
       "      <td>operating</td>\n",
       "      <td>USA</td>\n",
       "      <td>IL</td>\n",
       "      <td>Springfield, Illinois</td>\n",
       "      <td>Champaign</td>\n",
       "      <td>01-01-2010</td>\n",
       "      <td>004technologies</td>\n",
       "    </tr>\n",
       "  </tbody>\n",
       "</table>\n",
       "</div>"
      ],
      "text/plain": [
       "                        homepage_url  \\\n",
       "0                 http://livfame.com   \n",
       "1             http://www.qounter.com   \n",
       "2                http://oneofthem.jp   \n",
       "3                 http://www.0-6.com   \n",
       "4  http://004gmbh.de/en/004-interact   \n",
       "\n",
       "                                       category_list     status country_code  \\\n",
       "0                                              Media  operating          IND   \n",
       "1  Application Platforms|Real Time|Social Network...  operating          USA   \n",
       "2                                  Apps|Games|Mobile  operating          NaN   \n",
       "3                                        Curated Web  operating          CHN   \n",
       "4                                           Software  operating          USA   \n",
       "\n",
       "  state_code                 region           city  founded_at  \\\n",
       "0         16                 Mumbai         Mumbai         NaN   \n",
       "1         DE             DE - Other  Delaware City  04-09-2014   \n",
       "2        NaN                    NaN            NaN         NaN   \n",
       "3         22                Beijing        Beijing  01-01-2007   \n",
       "4         IL  Springfield, Illinois      Champaign  01-01-2010   \n",
       "\n",
       "           Company  \n",
       "0             fame  \n",
       "1          qounter  \n",
       "2  theoneoftheminc  \n",
       "3            06com  \n",
       "4  004technologies  "
      ]
     },
     "execution_count": 7,
     "metadata": {},
     "output_type": "execute_result"
    }
   ],
   "source": [
    "companies.head()"
   ]
  },
  {
   "cell_type": "code",
   "execution_count": 8,
   "metadata": {},
   "outputs": [],
   "source": [
    "## Importing round2 dataframe\n",
    "rounds2 = pd.read_csv('C:/Users/Administrator/Desktop/Python/Teclov/Teclov/rounds2.csv',encoding='ansi')"
   ]
  },
  {
   "cell_type": "code",
   "execution_count": 9,
   "metadata": {},
   "outputs": [
    {
     "data": {
      "text/plain": [
       "company_permalink              0\n",
       "funding_round_permalink        0\n",
       "funding_round_type             0\n",
       "funding_round_code         83809\n",
       "funded_at                      0\n",
       "raised_amount_usd          19990\n",
       "dtype: int64"
      ]
     },
     "execution_count": 9,
     "metadata": {},
     "output_type": "execute_result"
    }
   ],
   "source": [
    "## Checking for null values in rounds2 dataframe\n",
    "rounds2.isnull().sum()"
   ]
  },
  {
   "cell_type": "code",
   "execution_count": 10,
   "metadata": {},
   "outputs": [
    {
     "data": {
      "text/html": [
       "<div>\n",
       "<style scoped>\n",
       "    .dataframe tbody tr th:only-of-type {\n",
       "        vertical-align: middle;\n",
       "    }\n",
       "\n",
       "    .dataframe tbody tr th {\n",
       "        vertical-align: top;\n",
       "    }\n",
       "\n",
       "    .dataframe thead th {\n",
       "        text-align: right;\n",
       "    }\n",
       "</style>\n",
       "<table border=\"1\" class=\"dataframe\">\n",
       "  <thead>\n",
       "    <tr style=\"text-align: right;\">\n",
       "      <th></th>\n",
       "      <th>company_permalink</th>\n",
       "      <th>funding_round_permalink</th>\n",
       "      <th>funding_round_type</th>\n",
       "      <th>funding_round_code</th>\n",
       "      <th>funded_at</th>\n",
       "      <th>raised_amount_usd</th>\n",
       "    </tr>\n",
       "  </thead>\n",
       "  <tbody>\n",
       "    <tr>\n",
       "      <th>0</th>\n",
       "      <td>/organization/-fame</td>\n",
       "      <td>/funding-round/9a01d05418af9f794eebff7ace91f638</td>\n",
       "      <td>venture</td>\n",
       "      <td>B</td>\n",
       "      <td>05-01-2015</td>\n",
       "      <td>10000000.0</td>\n",
       "    </tr>\n",
       "    <tr>\n",
       "      <th>1</th>\n",
       "      <td>/ORGANIZATION/-QOUNTER</td>\n",
       "      <td>/funding-round/22dacff496eb7acb2b901dec1dfe5633</td>\n",
       "      <td>venture</td>\n",
       "      <td>A</td>\n",
       "      <td>14-10-2014</td>\n",
       "      <td>NaN</td>\n",
       "    </tr>\n",
       "    <tr>\n",
       "      <th>2</th>\n",
       "      <td>/organization/-qounter</td>\n",
       "      <td>/funding-round/b44fbb94153f6cdef13083530bb48030</td>\n",
       "      <td>seed</td>\n",
       "      <td>NaN</td>\n",
       "      <td>01-03-2014</td>\n",
       "      <td>700000.0</td>\n",
       "    </tr>\n",
       "    <tr>\n",
       "      <th>3</th>\n",
       "      <td>/ORGANIZATION/-THE-ONE-OF-THEM-INC-</td>\n",
       "      <td>/funding-round/650b8f704416801069bb178a1418776b</td>\n",
       "      <td>venture</td>\n",
       "      <td>B</td>\n",
       "      <td>30-01-2014</td>\n",
       "      <td>3406878.0</td>\n",
       "    </tr>\n",
       "    <tr>\n",
       "      <th>4</th>\n",
       "      <td>/organization/0-6-com</td>\n",
       "      <td>/funding-round/5727accaeaa57461bd22a9bdd945382d</td>\n",
       "      <td>venture</td>\n",
       "      <td>A</td>\n",
       "      <td>19-03-2008</td>\n",
       "      <td>2000000.0</td>\n",
       "    </tr>\n",
       "  </tbody>\n",
       "</table>\n",
       "</div>"
      ],
      "text/plain": [
       "                     company_permalink  \\\n",
       "0                  /organization/-fame   \n",
       "1               /ORGANIZATION/-QOUNTER   \n",
       "2               /organization/-qounter   \n",
       "3  /ORGANIZATION/-THE-ONE-OF-THEM-INC-   \n",
       "4                /organization/0-6-com   \n",
       "\n",
       "                           funding_round_permalink funding_round_type  \\\n",
       "0  /funding-round/9a01d05418af9f794eebff7ace91f638            venture   \n",
       "1  /funding-round/22dacff496eb7acb2b901dec1dfe5633            venture   \n",
       "2  /funding-round/b44fbb94153f6cdef13083530bb48030               seed   \n",
       "3  /funding-round/650b8f704416801069bb178a1418776b            venture   \n",
       "4  /funding-round/5727accaeaa57461bd22a9bdd945382d            venture   \n",
       "\n",
       "  funding_round_code   funded_at  raised_amount_usd  \n",
       "0                  B  05-01-2015         10000000.0  \n",
       "1                  A  14-10-2014                NaN  \n",
       "2                NaN  01-03-2014           700000.0  \n",
       "3                  B  30-01-2014          3406878.0  \n",
       "4                  A  19-03-2008          2000000.0  "
      ]
     },
     "execution_count": 10,
     "metadata": {},
     "output_type": "execute_result"
    }
   ],
   "source": [
    "rounds2.head()"
   ]
  },
  {
   "cell_type": "code",
   "execution_count": 11,
   "metadata": {},
   "outputs": [],
   "source": [
    "## Getting name of the company and dropping company_permalink column from round2 dataset\n",
    "x = rounds2['company_permalink'].str.split('/',expand=True)\n",
    "cols = ['Serial No','Org','Company']\n",
    "x.columns=cols\n",
    "x['Company'] = x['Company'].apply(lambda x: x.replace('-',''))\n",
    "y = x['Company']\n",
    "rounds2 = rounds2.drop('company_permalink',axis=1)\n",
    "rounds2['Company'] = y"
   ]
  },
  {
   "cell_type": "code",
   "execution_count": 12,
   "metadata": {},
   "outputs": [],
   "source": [
    "## Converting Company column of rounds2 dataframe in lowercase.\n",
    "rounds2['Company'] = rounds2.Company.str.lower()"
   ]
  },
  {
   "cell_type": "code",
   "execution_count": 13,
   "metadata": {},
   "outputs": [
    {
     "data": {
      "text/html": [
       "<div>\n",
       "<style scoped>\n",
       "    .dataframe tbody tr th:only-of-type {\n",
       "        vertical-align: middle;\n",
       "    }\n",
       "\n",
       "    .dataframe tbody tr th {\n",
       "        vertical-align: top;\n",
       "    }\n",
       "\n",
       "    .dataframe thead th {\n",
       "        text-align: right;\n",
       "    }\n",
       "</style>\n",
       "<table border=\"1\" class=\"dataframe\">\n",
       "  <thead>\n",
       "    <tr style=\"text-align: right;\">\n",
       "      <th></th>\n",
       "      <th>funding_round_permalink</th>\n",
       "      <th>funding_round_type</th>\n",
       "      <th>funding_round_code</th>\n",
       "      <th>funded_at</th>\n",
       "      <th>raised_amount_usd</th>\n",
       "      <th>Company</th>\n",
       "    </tr>\n",
       "  </thead>\n",
       "  <tbody>\n",
       "    <tr>\n",
       "      <th>0</th>\n",
       "      <td>/funding-round/9a01d05418af9f794eebff7ace91f638</td>\n",
       "      <td>venture</td>\n",
       "      <td>B</td>\n",
       "      <td>05-01-2015</td>\n",
       "      <td>10000000.0</td>\n",
       "      <td>fame</td>\n",
       "    </tr>\n",
       "    <tr>\n",
       "      <th>1</th>\n",
       "      <td>/funding-round/22dacff496eb7acb2b901dec1dfe5633</td>\n",
       "      <td>venture</td>\n",
       "      <td>A</td>\n",
       "      <td>14-10-2014</td>\n",
       "      <td>NaN</td>\n",
       "      <td>qounter</td>\n",
       "    </tr>\n",
       "    <tr>\n",
       "      <th>2</th>\n",
       "      <td>/funding-round/b44fbb94153f6cdef13083530bb48030</td>\n",
       "      <td>seed</td>\n",
       "      <td>NaN</td>\n",
       "      <td>01-03-2014</td>\n",
       "      <td>700000.0</td>\n",
       "      <td>qounter</td>\n",
       "    </tr>\n",
       "    <tr>\n",
       "      <th>3</th>\n",
       "      <td>/funding-round/650b8f704416801069bb178a1418776b</td>\n",
       "      <td>venture</td>\n",
       "      <td>B</td>\n",
       "      <td>30-01-2014</td>\n",
       "      <td>3406878.0</td>\n",
       "      <td>theoneoftheminc</td>\n",
       "    </tr>\n",
       "    <tr>\n",
       "      <th>4</th>\n",
       "      <td>/funding-round/5727accaeaa57461bd22a9bdd945382d</td>\n",
       "      <td>venture</td>\n",
       "      <td>A</td>\n",
       "      <td>19-03-2008</td>\n",
       "      <td>2000000.0</td>\n",
       "      <td>06com</td>\n",
       "    </tr>\n",
       "  </tbody>\n",
       "</table>\n",
       "</div>"
      ],
      "text/plain": [
       "                           funding_round_permalink funding_round_type  \\\n",
       "0  /funding-round/9a01d05418af9f794eebff7ace91f638            venture   \n",
       "1  /funding-round/22dacff496eb7acb2b901dec1dfe5633            venture   \n",
       "2  /funding-round/b44fbb94153f6cdef13083530bb48030               seed   \n",
       "3  /funding-round/650b8f704416801069bb178a1418776b            venture   \n",
       "4  /funding-round/5727accaeaa57461bd22a9bdd945382d            venture   \n",
       "\n",
       "  funding_round_code   funded_at  raised_amount_usd          Company  \n",
       "0                  B  05-01-2015         10000000.0             fame  \n",
       "1                  A  14-10-2014                NaN          qounter  \n",
       "2                NaN  01-03-2014           700000.0          qounter  \n",
       "3                  B  30-01-2014          3406878.0  theoneoftheminc  \n",
       "4                  A  19-03-2008          2000000.0            06com  "
      ]
     },
     "execution_count": 13,
     "metadata": {},
     "output_type": "execute_result"
    }
   ],
   "source": [
    "rounds2.head()"
   ]
  },
  {
   "cell_type": "markdown",
   "metadata": {},
   "source": [
    "### Q1. Number of Unique Companies present in round2 ?"
   ]
  },
  {
   "cell_type": "code",
   "execution_count": 14,
   "metadata": {},
   "outputs": [
    {
     "data": {
      "text/plain": [
       "66290"
      ]
     },
     "execution_count": 14,
     "metadata": {},
     "output_type": "execute_result"
    }
   ],
   "source": [
    "rounds2.groupby('Company')['Company'].unique().count()   ### There are 66,292 unique companies present in round2 dataset"
   ]
  },
  {
   "cell_type": "markdown",
   "metadata": {},
   "source": [
    "### Q2. Number of Unique Companies present in companies ?"
   ]
  },
  {
   "cell_type": "code",
   "execution_count": 15,
   "metadata": {},
   "outputs": [
    {
     "data": {
      "text/plain": [
       "66290"
      ]
     },
     "execution_count": 15,
     "metadata": {},
     "output_type": "execute_result"
    }
   ],
   "source": [
    "companies.Company.nunique()  ### There are 66,290 unique companies present in companies dataset"
   ]
  },
  {
   "cell_type": "markdown",
   "metadata": {},
   "source": [
    "### Q3. In the companies data frame, which column can be used as the unique key for each company?"
   ]
  },
  {
   "cell_type": "code",
   "execution_count": 16,
   "metadata": {},
   "outputs": [
    {
     "data": {
      "text/plain": [
       "array(['fame', 'qounter', 'theoneoftheminc', ..., 'ã\\x81eron', 'ã”asys2',\n",
       "       'ä°novatiffreklamvetanä±tä±mhizmetleritic'], dtype=object)"
      ]
     },
     "execution_count": 16,
     "metadata": {},
     "output_type": "execute_result"
    }
   ],
   "source": [
    "## Unique key is the Company column.\n",
    "companies.Company.unique()  "
   ]
  },
  {
   "cell_type": "markdown",
   "metadata": {},
   "source": [
    "### Q4. Are there any companies in the rounds2 ﬁle which are not present in companies? "
   ]
  },
  {
   "cell_type": "code",
   "execution_count": 17,
   "metadata": {},
   "outputs": [
    {
     "data": {
      "text/html": [
       "<div>\n",
       "<style scoped>\n",
       "    .dataframe tbody tr th:only-of-type {\n",
       "        vertical-align: middle;\n",
       "    }\n",
       "\n",
       "    .dataframe tbody tr th {\n",
       "        vertical-align: top;\n",
       "    }\n",
       "\n",
       "    .dataframe thead th {\n",
       "        text-align: right;\n",
       "    }\n",
       "</style>\n",
       "<table border=\"1\" class=\"dataframe\">\n",
       "  <thead>\n",
       "    <tr style=\"text-align: right;\">\n",
       "      <th></th>\n",
       "      <th>funding_round_permalink</th>\n",
       "      <th>funding_round_type</th>\n",
       "      <th>funding_round_code</th>\n",
       "      <th>funded_at</th>\n",
       "      <th>raised_amount_usd</th>\n",
       "      <th>Company</th>\n",
       "    </tr>\n",
       "  </thead>\n",
       "  <tbody>\n",
       "  </tbody>\n",
       "</table>\n",
       "</div>"
      ],
      "text/plain": [
       "Empty DataFrame\n",
       "Columns: [funding_round_permalink, funding_round_type, funding_round_code, funded_at, raised_amount_usd, Company]\n",
       "Index: []"
      ]
     },
     "execution_count": 17,
     "metadata": {},
     "output_type": "execute_result"
    }
   ],
   "source": [
    "### No,There are no unique companies that are present in round2 dataset that are not present in companies dataset.\n",
    "rounds2[~rounds2['Company'].isin(companies.Company)]  "
   ]
  },
  {
   "cell_type": "markdown",
   "metadata": {},
   "source": [
    "### Q5. Merge the two data frames so that all variables (columns) in the companies frame are added to the rounds2 data frame. Name the merged frame master_frame. How many observations are present in master_frame?\n",
    " "
   ]
  },
  {
   "cell_type": "code",
   "execution_count": 18,
   "metadata": {},
   "outputs": [
    {
     "data": {
      "text/plain": [
       "(115200, 14)"
      ]
     },
     "execution_count": 18,
     "metadata": {},
     "output_type": "execute_result"
    }
   ],
   "source": [
    "master_frame = pd.merge(companies,rounds2,how='left')\n",
    "### There are 1,15,193 rows and 14 columns in our master_frame dataframe.\n",
    "master_frame.shape  "
   ]
  },
  {
   "cell_type": "code",
   "execution_count": 19,
   "metadata": {},
   "outputs": [
    {
     "data": {
      "text/plain": [
       "homepage_url                6162\n",
       "category_list               3427\n",
       "status                         0\n",
       "country_code                8702\n",
       "state_code                 10978\n",
       "region                     10198\n",
       "city                       10195\n",
       "founded_at                 20585\n",
       "Company                        0\n",
       "funding_round_permalink        0\n",
       "funding_round_type             0\n",
       "funding_round_code         83983\n",
       "funded_at                      0\n",
       "raised_amount_usd          20031\n",
       "dtype: int64"
      ]
     },
     "execution_count": 19,
     "metadata": {},
     "output_type": "execute_result"
    }
   ],
   "source": [
    "## Checking for null values in master_frame.\n",
    "master_frame.isnull().sum()"
   ]
  },
  {
   "cell_type": "code",
   "execution_count": 20,
   "metadata": {},
   "outputs": [],
   "source": [
    "# We are removing those entries where status is closed as there is no investment going to happen for these companies.\n",
    "master_frame = master_frame[master_frame['status']!='closed']"
   ]
  },
  {
   "cell_type": "code",
   "execution_count": 21,
   "metadata": {},
   "outputs": [
    {
     "data": {
      "text/html": [
       "<div>\n",
       "<style scoped>\n",
       "    .dataframe tbody tr th:only-of-type {\n",
       "        vertical-align: middle;\n",
       "    }\n",
       "\n",
       "    .dataframe tbody tr th {\n",
       "        vertical-align: top;\n",
       "    }\n",
       "\n",
       "    .dataframe thead th {\n",
       "        text-align: right;\n",
       "    }\n",
       "</style>\n",
       "<table border=\"1\" class=\"dataframe\">\n",
       "  <thead>\n",
       "    <tr style=\"text-align: right;\">\n",
       "      <th></th>\n",
       "      <th>homepage_url</th>\n",
       "      <th>category_list</th>\n",
       "      <th>status</th>\n",
       "      <th>country_code</th>\n",
       "      <th>state_code</th>\n",
       "      <th>region</th>\n",
       "      <th>city</th>\n",
       "      <th>founded_at</th>\n",
       "      <th>Company</th>\n",
       "      <th>funding_round_permalink</th>\n",
       "      <th>funding_round_type</th>\n",
       "      <th>funding_round_code</th>\n",
       "      <th>funded_at</th>\n",
       "      <th>raised_amount_usd</th>\n",
       "    </tr>\n",
       "  </thead>\n",
       "  <tbody>\n",
       "    <tr>\n",
       "      <th>1</th>\n",
       "      <td>http://www.qounter.com</td>\n",
       "      <td>Application Platforms|Real Time|Social Network...</td>\n",
       "      <td>operating</td>\n",
       "      <td>USA</td>\n",
       "      <td>DE</td>\n",
       "      <td>DE - Other</td>\n",
       "      <td>Delaware City</td>\n",
       "      <td>04-09-2014</td>\n",
       "      <td>qounter</td>\n",
       "      <td>/funding-round/22dacff496eb7acb2b901dec1dfe5633</td>\n",
       "      <td>venture</td>\n",
       "      <td>A</td>\n",
       "      <td>14-10-2014</td>\n",
       "      <td>NaN</td>\n",
       "    </tr>\n",
       "    <tr>\n",
       "      <th>5</th>\n",
       "      <td>http://004gmbh.de/en/004-interact</td>\n",
       "      <td>Software</td>\n",
       "      <td>operating</td>\n",
       "      <td>USA</td>\n",
       "      <td>IL</td>\n",
       "      <td>Springfield, Illinois</td>\n",
       "      <td>Champaign</td>\n",
       "      <td>01-01-2010</td>\n",
       "      <td>004technologies</td>\n",
       "      <td>/funding-round/1278dd4e6a37fa4b7d7e06c21b3c1830</td>\n",
       "      <td>venture</td>\n",
       "      <td>NaN</td>\n",
       "      <td>24-07-2014</td>\n",
       "      <td>NaN</td>\n",
       "    </tr>\n",
       "    <tr>\n",
       "      <th>14</th>\n",
       "      <td>http://whatis1.com</td>\n",
       "      <td>Mobile</td>\n",
       "      <td>operating</td>\n",
       "      <td>USA</td>\n",
       "      <td>CA</td>\n",
       "      <td>SF Bay Area</td>\n",
       "      <td>San Francisco</td>\n",
       "      <td>01-08-2011</td>\n",
       "      <td>1</td>\n",
       "      <td>/funding-round/5de6d8828aef7d925d97918d15727670</td>\n",
       "      <td>undisclosed</td>\n",
       "      <td>NaN</td>\n",
       "      <td>05-02-2013</td>\n",
       "      <td>NaN</td>\n",
       "    </tr>\n",
       "    <tr>\n",
       "      <th>17</th>\n",
       "      <td>NaN</td>\n",
       "      <td>Entertainment|Games|Software</td>\n",
       "      <td>operating</td>\n",
       "      <td>USA</td>\n",
       "      <td>NC</td>\n",
       "      <td>NC - Other</td>\n",
       "      <td>Connellys Springs</td>\n",
       "      <td>NaN</td>\n",
       "      <td>14all</td>\n",
       "      <td>/funding-round/e97a192e13ea0ee3c4f71136b4f3ec16</td>\n",
       "      <td>equity_crowdfunding</td>\n",
       "      <td>NaN</td>\n",
       "      <td>21-04-2013</td>\n",
       "      <td>NaN</td>\n",
       "    </tr>\n",
       "    <tr>\n",
       "      <th>18</th>\n",
       "      <td>http://www.Homeandcondogallery.com</td>\n",
       "      <td>Networking|Real Estate|Web Hosting</td>\n",
       "      <td>operating</td>\n",
       "      <td>USA</td>\n",
       "      <td>FL</td>\n",
       "      <td>Orlando</td>\n",
       "      <td>Orlando</td>\n",
       "      <td>07-12-2013</td>\n",
       "      <td>1618technology</td>\n",
       "      <td>/funding-round/83b8f4c7d37ecef5e001a5e953bf461a</td>\n",
       "      <td>equity_crowdfunding</td>\n",
       "      <td>NaN</td>\n",
       "      <td>22-01-2014</td>\n",
       "      <td>NaN</td>\n",
       "    </tr>\n",
       "    <tr>\n",
       "      <th>19</th>\n",
       "      <td>http://www.1800dentist.com</td>\n",
       "      <td>Health and Wellness</td>\n",
       "      <td>operating</td>\n",
       "      <td>USA</td>\n",
       "      <td>CA</td>\n",
       "      <td>Los Angeles</td>\n",
       "      <td>Los Angeles</td>\n",
       "      <td>01-01-1986</td>\n",
       "      <td>1800dentist</td>\n",
       "      <td>/funding-round/5274aacc211163fc7c86539ce94bbacc</td>\n",
       "      <td>undisclosed</td>\n",
       "      <td>NaN</td>\n",
       "      <td>19-08-2010</td>\n",
       "      <td>NaN</td>\n",
       "    </tr>\n",
       "    <tr>\n",
       "      <th>33</th>\n",
       "      <td>http://1000lookz.com</td>\n",
       "      <td>Beauty</td>\n",
       "      <td>operating</td>\n",
       "      <td>IND</td>\n",
       "      <td>25</td>\n",
       "      <td>Chennai</td>\n",
       "      <td>Chennai</td>\n",
       "      <td>01-01-2008</td>\n",
       "      <td>1000lookz</td>\n",
       "      <td>/funding-round/e07f6e580046d00c7aeb33fafb9d90a3</td>\n",
       "      <td>venture</td>\n",
       "      <td>NaN</td>\n",
       "      <td>22-07-2013</td>\n",
       "      <td>NaN</td>\n",
       "    </tr>\n",
       "    <tr>\n",
       "      <th>40</th>\n",
       "      <td>http://www.1000museums.com</td>\n",
       "      <td>Curated Web</td>\n",
       "      <td>operating</td>\n",
       "      <td>USA</td>\n",
       "      <td>MA</td>\n",
       "      <td>MA - Other</td>\n",
       "      <td>Lenox</td>\n",
       "      <td>01-01-2008</td>\n",
       "      <td>1000museumscom</td>\n",
       "      <td>/funding-round/6dcccfea326e6add866bf67aafb0a7df</td>\n",
       "      <td>convertible_note</td>\n",
       "      <td>NaN</td>\n",
       "      <td>01-12-2014</td>\n",
       "      <td>NaN</td>\n",
       "    </tr>\n",
       "    <tr>\n",
       "      <th>42</th>\n",
       "      <td>http://www.1000museums.com</td>\n",
       "      <td>Curated Web</td>\n",
       "      <td>operating</td>\n",
       "      <td>USA</td>\n",
       "      <td>MA</td>\n",
       "      <td>MA - Other</td>\n",
       "      <td>Lenox</td>\n",
       "      <td>01-01-2008</td>\n",
       "      <td>1000museumscom</td>\n",
       "      <td>/funding-round/adf2f3272af9f552b87e01f10f0b9234</td>\n",
       "      <td>venture</td>\n",
       "      <td>NaN</td>\n",
       "      <td>01-02-2014</td>\n",
       "      <td>NaN</td>\n",
       "    </tr>\n",
       "    <tr>\n",
       "      <th>51</th>\n",
       "      <td>http://www.1006.tv/</td>\n",
       "      <td>Games|Media</td>\n",
       "      <td>operating</td>\n",
       "      <td>CHN</td>\n",
       "      <td>22</td>\n",
       "      <td>Beijing</td>\n",
       "      <td>Beijing</td>\n",
       "      <td>01-01-2009</td>\n",
       "      <td>1006tv</td>\n",
       "      <td>/funding-round/a3631227d5232aa8c2303f252c4f1f87</td>\n",
       "      <td>angel</td>\n",
       "      <td>NaN</td>\n",
       "      <td>01-01-2011</td>\n",
       "      <td>NaN</td>\n",
       "    </tr>\n",
       "    <tr>\n",
       "      <th>53</th>\n",
       "      <td>http://www.1006.tv/</td>\n",
       "      <td>Games|Media</td>\n",
       "      <td>operating</td>\n",
       "      <td>CHN</td>\n",
       "      <td>22</td>\n",
       "      <td>Beijing</td>\n",
       "      <td>Beijing</td>\n",
       "      <td>01-01-2009</td>\n",
       "      <td>1006tv</td>\n",
       "      <td>/funding-round/c4dd206906e8f6834dde0eb9681002ac</td>\n",
       "      <td>venture</td>\n",
       "      <td>A</td>\n",
       "      <td>01-01-2013</td>\n",
       "      <td>NaN</td>\n",
       "    </tr>\n",
       "    <tr>\n",
       "      <th>54</th>\n",
       "      <td>http://www.100du.com</td>\n",
       "      <td>Hospitality</td>\n",
       "      <td>operating</td>\n",
       "      <td>CHN</td>\n",
       "      <td>23</td>\n",
       "      <td>Shanghai</td>\n",
       "      <td>Shanghai</td>\n",
       "      <td>NaN</td>\n",
       "      <td>100dutv</td>\n",
       "      <td>/funding-round/46a9d3228f69c036e8076f1362ac58cd</td>\n",
       "      <td>venture</td>\n",
       "      <td>C</td>\n",
       "      <td>13-08-2010</td>\n",
       "      <td>NaN</td>\n",
       "    </tr>\n",
       "    <tr>\n",
       "      <th>63</th>\n",
       "      <td>http://www.cliptone.me/</td>\n",
       "      <td>Advertising|Image Recognition|Sales and Market...</td>\n",
       "      <td>operating</td>\n",
       "      <td>CAN</td>\n",
       "      <td>ON</td>\n",
       "      <td>Toronto</td>\n",
       "      <td>Toronto</td>\n",
       "      <td>03-03-2012</td>\n",
       "      <td>10alike</td>\n",
       "      <td>/funding-round/36812b11cf7351e5184c59fecd828dea</td>\n",
       "      <td>seed</td>\n",
       "      <td>NaN</td>\n",
       "      <td>01-01-2013</td>\n",
       "      <td>NaN</td>\n",
       "    </tr>\n",
       "    <tr>\n",
       "      <th>64</th>\n",
       "      <td>http://www.cliptone.me/</td>\n",
       "      <td>Advertising|Image Recognition|Sales and Market...</td>\n",
       "      <td>operating</td>\n",
       "      <td>CAN</td>\n",
       "      <td>ON</td>\n",
       "      <td>Toronto</td>\n",
       "      <td>Toronto</td>\n",
       "      <td>03-03-2012</td>\n",
       "      <td>10alike</td>\n",
       "      <td>/funding-round/88d987f9cb2c320b809caafe43b8491b</td>\n",
       "      <td>seed</td>\n",
       "      <td>NaN</td>\n",
       "      <td>01-01-2014</td>\n",
       "      <td>NaN</td>\n",
       "    </tr>\n",
       "    <tr>\n",
       "      <th>67</th>\n",
       "      <td>https://10s.ec/</td>\n",
       "      <td>E-Commerce|Mobile Commerce|Social Commerce</td>\n",
       "      <td>operating</td>\n",
       "      <td>USA</td>\n",
       "      <td>CA</td>\n",
       "      <td>SF Bay Area</td>\n",
       "      <td>San Francisco</td>\n",
       "      <td>08-07-2013</td>\n",
       "      <td>10sec</td>\n",
       "      <td>/funding-round/2270c5f7c44fb5b460573166d64ccb55</td>\n",
       "      <td>seed</td>\n",
       "      <td>NaN</td>\n",
       "      <td>31-10-2013</td>\n",
       "      <td>NaN</td>\n",
       "    </tr>\n",
       "    <tr>\n",
       "      <th>70</th>\n",
       "      <td>http://10sixenergy.com</td>\n",
       "      <td>Batteries|Electronics|Energy</td>\n",
       "      <td>operating</td>\n",
       "      <td>USA</td>\n",
       "      <td>NY</td>\n",
       "      <td>New York City</td>\n",
       "      <td>New York</td>\n",
       "      <td>NaN</td>\n",
       "      <td>10six</td>\n",
       "      <td>/funding-round/e7e13a354af346863c51e678c63590c1</td>\n",
       "      <td>seed</td>\n",
       "      <td>NaN</td>\n",
       "      <td>01-02-2014</td>\n",
       "      <td>NaN</td>\n",
       "    </tr>\n",
       "    <tr>\n",
       "      <th>71</th>\n",
       "      <td>http://10tracks.com</td>\n",
       "      <td>iOS|Mobile|Music</td>\n",
       "      <td>operating</td>\n",
       "      <td>NaN</td>\n",
       "      <td>NaN</td>\n",
       "      <td>NaN</td>\n",
       "      <td>NaN</td>\n",
       "      <td>01-01-2012</td>\n",
       "      <td>10tracks2</td>\n",
       "      <td>/funding-round/74606b480fe509973a3d72c9017876ca</td>\n",
       "      <td>venture</td>\n",
       "      <td>NaN</td>\n",
       "      <td>03-02-2014</td>\n",
       "      <td>NaN</td>\n",
       "    </tr>\n",
       "    <tr>\n",
       "      <th>72</th>\n",
       "      <td>http://10tracks.com</td>\n",
       "      <td>iOS|Mobile|Music</td>\n",
       "      <td>operating</td>\n",
       "      <td>NaN</td>\n",
       "      <td>NaN</td>\n",
       "      <td>NaN</td>\n",
       "      <td>NaN</td>\n",
       "      <td>01-01-2012</td>\n",
       "      <td>10tracks2</td>\n",
       "      <td>/funding-round/e31e2474786f930fd72e292ec34e9126</td>\n",
       "      <td>seed</td>\n",
       "      <td>NaN</td>\n",
       "      <td>31-07-2013</td>\n",
       "      <td>NaN</td>\n",
       "    </tr>\n",
       "    <tr>\n",
       "      <th>77</th>\n",
       "      <td>NaN</td>\n",
       "      <td>Fashion</td>\n",
       "      <td>operating</td>\n",
       "      <td>CAN</td>\n",
       "      <td>ON</td>\n",
       "      <td>Toronto</td>\n",
       "      <td>Mississauga</td>\n",
       "      <td>05-01-2013</td>\n",
       "      <td>10â°north</td>\n",
       "      <td>/funding-round/b41ff7de932f8b6e5bbeed3966c0ed6a</td>\n",
       "      <td>equity_crowdfunding</td>\n",
       "      <td>NaN</td>\n",
       "      <td>12-08-2014</td>\n",
       "      <td>NaN</td>\n",
       "    </tr>\n",
       "    <tr>\n",
       "      <th>79</th>\n",
       "      <td>http://www.115.com/</td>\n",
       "      <td>EdTech|Education</td>\n",
       "      <td>operating</td>\n",
       "      <td>NaN</td>\n",
       "      <td>NaN</td>\n",
       "      <td>NaN</td>\n",
       "      <td>NaN</td>\n",
       "      <td>NaN</td>\n",
       "      <td>115networkdisks</td>\n",
       "      <td>/funding-round/0966b3b472f4b912e167abaf8d06f77d</td>\n",
       "      <td>angel</td>\n",
       "      <td>NaN</td>\n",
       "      <td>01-11-2011</td>\n",
       "      <td>NaN</td>\n",
       "    </tr>\n",
       "    <tr>\n",
       "      <th>83</th>\n",
       "      <td>http://www.12starsurvival.com</td>\n",
       "      <td>Sports</td>\n",
       "      <td>operating</td>\n",
       "      <td>DNK</td>\n",
       "      <td>21</td>\n",
       "      <td>DNK - Other</td>\n",
       "      <td>Vinding</td>\n",
       "      <td>17-07-2013</td>\n",
       "      <td>12starsurvival</td>\n",
       "      <td>/funding-round/9c08e07cfd6bdacade795671e09b86e6</td>\n",
       "      <td>equity_crowdfunding</td>\n",
       "      <td>NaN</td>\n",
       "      <td>17-10-2013</td>\n",
       "      <td>NaN</td>\n",
       "    </tr>\n",
       "    <tr>\n",
       "      <th>84</th>\n",
       "      <td>http://www.120sports.com</td>\n",
       "      <td>Sports</td>\n",
       "      <td>operating</td>\n",
       "      <td>USA</td>\n",
       "      <td>IL</td>\n",
       "      <td>Chicago</td>\n",
       "      <td>Chicago</td>\n",
       "      <td>01-01-2013</td>\n",
       "      <td>120sports</td>\n",
       "      <td>/funding-round/55642880265ba4cc73eda4abcac4f8da</td>\n",
       "      <td>undisclosed</td>\n",
       "      <td>NaN</td>\n",
       "      <td>20-02-2014</td>\n",
       "      <td>NaN</td>\n",
       "    </tr>\n",
       "    <tr>\n",
       "      <th>85</th>\n",
       "      <td>NaN</td>\n",
       "      <td>Real Estate</td>\n",
       "      <td>operating</td>\n",
       "      <td>USA</td>\n",
       "      <td>TX</td>\n",
       "      <td>TX - Other</td>\n",
       "      <td>Amarillo</td>\n",
       "      <td>12-04-2011</td>\n",
       "      <td>121rentals</td>\n",
       "      <td>/funding-round/18b148f4b89339b28b09ef132acb1ade</td>\n",
       "      <td>debt_financing</td>\n",
       "      <td>NaN</td>\n",
       "      <td>03-09-2014</td>\n",
       "      <td>NaN</td>\n",
       "    </tr>\n",
       "    <tr>\n",
       "      <th>98</th>\n",
       "      <td>http://www.123contactform.com</td>\n",
       "      <td>E-Commerce|SaaS</td>\n",
       "      <td>operating</td>\n",
       "      <td>ROM</td>\n",
       "      <td>36</td>\n",
       "      <td>Timisoara</td>\n",
       "      <td>Timisoara</td>\n",
       "      <td>01-01-2008</td>\n",
       "      <td>123contactform</td>\n",
       "      <td>/funding-round/b678dec4e0df10e2518a81215f8fd843</td>\n",
       "      <td>angel</td>\n",
       "      <td>NaN</td>\n",
       "      <td>01-01-2010</td>\n",
       "      <td>NaN</td>\n",
       "    </tr>\n",
       "    <tr>\n",
       "      <th>101</th>\n",
       "      <td>http://yelsterdigital.com</td>\n",
       "      <td>Local Search|Software|Web Design</td>\n",
       "      <td>acquired</td>\n",
       "      <td>AUT</td>\n",
       "      <td>9</td>\n",
       "      <td>Vienna</td>\n",
       "      <td>Vienna</td>\n",
       "      <td>01-01-2007</td>\n",
       "      <td>123people</td>\n",
       "      <td>/funding-round/246571dc273630b5f233010d50351e2f</td>\n",
       "      <td>seed</td>\n",
       "      <td>NaN</td>\n",
       "      <td>01-01-2008</td>\n",
       "      <td>NaN</td>\n",
       "    </tr>\n",
       "    <tr>\n",
       "      <th>107</th>\n",
       "      <td>http://www.12Society.com</td>\n",
       "      <td>E-Commerce</td>\n",
       "      <td>acquired</td>\n",
       "      <td>USA</td>\n",
       "      <td>CA</td>\n",
       "      <td>Los Angeles</td>\n",
       "      <td>West Hollywood</td>\n",
       "      <td>01-01-2012</td>\n",
       "      <td>12society</td>\n",
       "      <td>/funding-round/4076aae3a04e7e3e41d6125f80c866cf</td>\n",
       "      <td>seed</td>\n",
       "      <td>NaN</td>\n",
       "      <td>05-04-2012</td>\n",
       "      <td>NaN</td>\n",
       "    </tr>\n",
       "    <tr>\n",
       "      <th>117</th>\n",
       "      <td>http://www.139shop.com</td>\n",
       "      <td>E-Commerce</td>\n",
       "      <td>operating</td>\n",
       "      <td>CHN</td>\n",
       "      <td>NaN</td>\n",
       "      <td>NaN</td>\n",
       "      <td>NaN</td>\n",
       "      <td>NaN</td>\n",
       "      <td>139shop</td>\n",
       "      <td>/funding-round/ab94379ae87be8a333b45496f0dcb8e2</td>\n",
       "      <td>venture</td>\n",
       "      <td>A</td>\n",
       "      <td>01-02-2007</td>\n",
       "      <td>NaN</td>\n",
       "    </tr>\n",
       "    <tr>\n",
       "      <th>122</th>\n",
       "      <td>http://1417power.com</td>\n",
       "      <td>Finance|Venture Capital</td>\n",
       "      <td>operating</td>\n",
       "      <td>USA</td>\n",
       "      <td>TN</td>\n",
       "      <td>Nashville</td>\n",
       "      <td>Brentwood</td>\n",
       "      <td>12-01-2012</td>\n",
       "      <td>1417</td>\n",
       "      <td>/funding-round/300e54be2d535398a93fe355d123e9a4</td>\n",
       "      <td>equity_crowdfunding</td>\n",
       "      <td>NaN</td>\n",
       "      <td>21-01-2015</td>\n",
       "      <td>NaN</td>\n",
       "    </tr>\n",
       "    <tr>\n",
       "      <th>123</th>\n",
       "      <td>http://www.15fen.com/</td>\n",
       "      <td>NaN</td>\n",
       "      <td>operating</td>\n",
       "      <td>CHN</td>\n",
       "      <td>30</td>\n",
       "      <td>Guangzhou</td>\n",
       "      <td>Guangzhou</td>\n",
       "      <td>NaN</td>\n",
       "      <td>15fen</td>\n",
       "      <td>/funding-round/b660e2c345e5cda7db2f1e0176a450b3</td>\n",
       "      <td>seed</td>\n",
       "      <td>NaN</td>\n",
       "      <td>15-12-2013</td>\n",
       "      <td>NaN</td>\n",
       "    </tr>\n",
       "    <tr>\n",
       "      <th>128</th>\n",
       "      <td>http://15shopstop.com</td>\n",
       "      <td>Fashion</td>\n",
       "      <td>operating</td>\n",
       "      <td>USA</td>\n",
       "      <td>CA</td>\n",
       "      <td>Los Angeles</td>\n",
       "      <td>Los Angeles</td>\n",
       "      <td>17-11-2014</td>\n",
       "      <td>15shopstop</td>\n",
       "      <td>/funding-round/49d31ad47fcb4fae5621b6f242754a0e</td>\n",
       "      <td>equity_crowdfunding</td>\n",
       "      <td>NaN</td>\n",
       "      <td>17-11-2014</td>\n",
       "      <td>NaN</td>\n",
       "    </tr>\n",
       "    <tr>\n",
       "      <th>...</th>\n",
       "      <td>...</td>\n",
       "      <td>...</td>\n",
       "      <td>...</td>\n",
       "      <td>...</td>\n",
       "      <td>...</td>\n",
       "      <td>...</td>\n",
       "      <td>...</td>\n",
       "      <td>...</td>\n",
       "      <td>...</td>\n",
       "      <td>...</td>\n",
       "      <td>...</td>\n",
       "      <td>...</td>\n",
       "      <td>...</td>\n",
       "      <td>...</td>\n",
       "    </tr>\n",
       "    <tr>\n",
       "      <th>115016</th>\n",
       "      <td>http://www.zuli.io</td>\n",
       "      <td>Home Automation|Internet of Things|Mobile Soft...</td>\n",
       "      <td>operating</td>\n",
       "      <td>USA</td>\n",
       "      <td>CA</td>\n",
       "      <td>SF Bay Area</td>\n",
       "      <td>San Francisco</td>\n",
       "      <td>01-01-2012</td>\n",
       "      <td>zuli</td>\n",
       "      <td>/funding-round/d8bc314557d49d0bc43a642438fe0b06</td>\n",
       "      <td>venture</td>\n",
       "      <td>NaN</td>\n",
       "      <td>01-03-2015</td>\n",
       "      <td>NaN</td>\n",
       "    </tr>\n",
       "    <tr>\n",
       "      <th>115025</th>\n",
       "      <td>http://www.zumata.com</td>\n",
       "      <td>E-Commerce</td>\n",
       "      <td>operating</td>\n",
       "      <td>SGP</td>\n",
       "      <td>NaN</td>\n",
       "      <td>Singapore</td>\n",
       "      <td>Singapore</td>\n",
       "      <td>NaN</td>\n",
       "      <td>zumataltd</td>\n",
       "      <td>/funding-round/5025b8f61b13a73a54f06edb711b598f</td>\n",
       "      <td>seed</td>\n",
       "      <td>NaN</td>\n",
       "      <td>30-06-2014</td>\n",
       "      <td>NaN</td>\n",
       "    </tr>\n",
       "    <tr>\n",
       "      <th>115027</th>\n",
       "      <td>http://www.zumba.com</td>\n",
       "      <td>Health and Wellness</td>\n",
       "      <td>operating</td>\n",
       "      <td>USA</td>\n",
       "      <td>FL</td>\n",
       "      <td>FL - Other</td>\n",
       "      <td>Hallandale</td>\n",
       "      <td>01-01-2001</td>\n",
       "      <td>zumbafitness</td>\n",
       "      <td>/funding-round/1410ed624a727b8f7e76159933b2ffee</td>\n",
       "      <td>undisclosed</td>\n",
       "      <td>NaN</td>\n",
       "      <td>08-03-2012</td>\n",
       "      <td>NaN</td>\n",
       "    </tr>\n",
       "    <tr>\n",
       "      <th>115044</th>\n",
       "      <td>NaN</td>\n",
       "      <td>Cloud Computing|Digital Media|File Sharing</td>\n",
       "      <td>operating</td>\n",
       "      <td>NaN</td>\n",
       "      <td>NaN</td>\n",
       "      <td>NaN</td>\n",
       "      <td>NaN</td>\n",
       "      <td>NaN</td>\n",
       "      <td>zumodrive</td>\n",
       "      <td>/funding-round/8e802d38dafc2673e37668852603d2a4</td>\n",
       "      <td>convertible_note</td>\n",
       "      <td>NaN</td>\n",
       "      <td>01-09-2007</td>\n",
       "      <td>NaN</td>\n",
       "    </tr>\n",
       "    <tr>\n",
       "      <th>115057</th>\n",
       "      <td>http://zuoye.baidu.com/</td>\n",
       "      <td>NaN</td>\n",
       "      <td>operating</td>\n",
       "      <td>NaN</td>\n",
       "      <td>NaN</td>\n",
       "      <td>NaN</td>\n",
       "      <td>NaN</td>\n",
       "      <td>NaN</td>\n",
       "      <td>zuoyebang</td>\n",
       "      <td>/funding-round/720cfd18d9f4804df5cf722ca8116ec8</td>\n",
       "      <td>venture</td>\n",
       "      <td>A</td>\n",
       "      <td>03-09-2015</td>\n",
       "      <td>NaN</td>\n",
       "    </tr>\n",
       "    <tr>\n",
       "      <th>115058</th>\n",
       "      <td>http://www.zup.com.br/</td>\n",
       "      <td>Innovation Management|Project Management|Services</td>\n",
       "      <td>operating</td>\n",
       "      <td>BRA</td>\n",
       "      <td>15</td>\n",
       "      <td>BRA - Other</td>\n",
       "      <td>UberlÃ¢ndia</td>\n",
       "      <td>01-01-2011</td>\n",
       "      <td>zupitinnovation</td>\n",
       "      <td>/funding-round/9f145a5b14422f9475070b87421fb3ab</td>\n",
       "      <td>venture</td>\n",
       "      <td>A</td>\n",
       "      <td>27-10-2015</td>\n",
       "      <td>NaN</td>\n",
       "    </tr>\n",
       "    <tr>\n",
       "      <th>115060</th>\n",
       "      <td>http://www.zupcat.com</td>\n",
       "      <td>Games|Mobile</td>\n",
       "      <td>operating</td>\n",
       "      <td>ARG</td>\n",
       "      <td>7</td>\n",
       "      <td>Buenos Aires</td>\n",
       "      <td>Buenos Aires</td>\n",
       "      <td>01-09-2011</td>\n",
       "      <td>zupcat</td>\n",
       "      <td>/funding-round/1a5ef31ab0ceff103786dfad338686ea</td>\n",
       "      <td>angel</td>\n",
       "      <td>NaN</td>\n",
       "      <td>01-06-2015</td>\n",
       "      <td>NaN</td>\n",
       "    </tr>\n",
       "    <tr>\n",
       "      <th>115066</th>\n",
       "      <td>http://www.zura.com.br</td>\n",
       "      <td>E-Commerce</td>\n",
       "      <td>operating</td>\n",
       "      <td>BRA</td>\n",
       "      <td>27</td>\n",
       "      <td>BRA - Other</td>\n",
       "      <td>Brasil</td>\n",
       "      <td>NaN</td>\n",
       "      <td>zura</td>\n",
       "      <td>/funding-round/2a93c3460b0e2fbdfc1d08d7a8ca90d0</td>\n",
       "      <td>seed</td>\n",
       "      <td>NaN</td>\n",
       "      <td>01-01-2008</td>\n",
       "      <td>NaN</td>\n",
       "    </tr>\n",
       "    <tr>\n",
       "      <th>115069</th>\n",
       "      <td>http://www.zurex-pharma.com</td>\n",
       "      <td>Health Care</td>\n",
       "      <td>operating</td>\n",
       "      <td>USA</td>\n",
       "      <td>WI</td>\n",
       "      <td>Madison</td>\n",
       "      <td>Middleton</td>\n",
       "      <td>01-01-2010</td>\n",
       "      <td>zurexpharma</td>\n",
       "      <td>/funding-round/97652213d59c02f31e264265586d0d75</td>\n",
       "      <td>undisclosed</td>\n",
       "      <td>NaN</td>\n",
       "      <td>02-05-2011</td>\n",
       "      <td>NaN</td>\n",
       "    </tr>\n",
       "    <tr>\n",
       "      <th>115071</th>\n",
       "      <td>http://zurff.com</td>\n",
       "      <td>Brand Marketing|Social Bookmarking|Web Tools</td>\n",
       "      <td>operating</td>\n",
       "      <td>NLD</td>\n",
       "      <td>15</td>\n",
       "      <td>Amsterdam</td>\n",
       "      <td>Zwolle</td>\n",
       "      <td>01-01-2014</td>\n",
       "      <td>zurff</td>\n",
       "      <td>/funding-round/7dcd74443f6529ebde36844ec828ee7b</td>\n",
       "      <td>seed</td>\n",
       "      <td>NaN</td>\n",
       "      <td>25-07-2014</td>\n",
       "      <td>NaN</td>\n",
       "    </tr>\n",
       "    <tr>\n",
       "      <th>115073</th>\n",
       "      <td>http://www.zurn.com</td>\n",
       "      <td>Social Media</td>\n",
       "      <td>operating</td>\n",
       "      <td>CHN</td>\n",
       "      <td>NaN</td>\n",
       "      <td>NaN</td>\n",
       "      <td>NaN</td>\n",
       "      <td>01-01-2013</td>\n",
       "      <td>zurninternationalecommercecoltd</td>\n",
       "      <td>/funding-round/af8406636f2edaa2f1d8a4726f965da4</td>\n",
       "      <td>angel</td>\n",
       "      <td>NaN</td>\n",
       "      <td>01-12-2013</td>\n",
       "      <td>NaN</td>\n",
       "    </tr>\n",
       "    <tr>\n",
       "      <th>115074</th>\n",
       "      <td>http://www.zurrba.com</td>\n",
       "      <td>Software</td>\n",
       "      <td>operating</td>\n",
       "      <td>USA</td>\n",
       "      <td>CA</td>\n",
       "      <td>SF Bay Area</td>\n",
       "      <td>Palo Alto</td>\n",
       "      <td>NaN</td>\n",
       "      <td>zurrbagroup</td>\n",
       "      <td>/funding-round/07cb746856e1e2d43e43a4e6c5ddabbc</td>\n",
       "      <td>seed</td>\n",
       "      <td>NaN</td>\n",
       "      <td>15-01-2014</td>\n",
       "      <td>NaN</td>\n",
       "    </tr>\n",
       "    <tr>\n",
       "      <th>115078</th>\n",
       "      <td>NaN</td>\n",
       "      <td>Software</td>\n",
       "      <td>operating</td>\n",
       "      <td>USA</td>\n",
       "      <td>NY</td>\n",
       "      <td>New York City</td>\n",
       "      <td>New York</td>\n",
       "      <td>NaN</td>\n",
       "      <td>zuse</td>\n",
       "      <td>/funding-round/88fb7c19c4ab029020ecd39c0aae2374</td>\n",
       "      <td>angel</td>\n",
       "      <td>NaN</td>\n",
       "      <td>01-05-2013</td>\n",
       "      <td>NaN</td>\n",
       "    </tr>\n",
       "    <tr>\n",
       "      <th>115084</th>\n",
       "      <td>http://www.istorytime.com</td>\n",
       "      <td>Apps|Entertainment|Kids|Mobile|Publishing</td>\n",
       "      <td>acquired</td>\n",
       "      <td>USA</td>\n",
       "      <td>CA</td>\n",
       "      <td>Santa Barbara</td>\n",
       "      <td>Santa Barbara</td>\n",
       "      <td>10-04-2009</td>\n",
       "      <td>zuuka</td>\n",
       "      <td>/funding-round/6e0fc86125b5393102d605794b2389d9</td>\n",
       "      <td>undisclosed</td>\n",
       "      <td>NaN</td>\n",
       "      <td>24-01-2011</td>\n",
       "      <td>NaN</td>\n",
       "    </tr>\n",
       "    <tr>\n",
       "      <th>115085</th>\n",
       "      <td>http://www.istorytime.com</td>\n",
       "      <td>Apps|Entertainment|Kids|Mobile|Publishing</td>\n",
       "      <td>acquired</td>\n",
       "      <td>USA</td>\n",
       "      <td>CA</td>\n",
       "      <td>Santa Barbara</td>\n",
       "      <td>Santa Barbara</td>\n",
       "      <td>10-04-2009</td>\n",
       "      <td>zuuka</td>\n",
       "      <td>/funding-round/822fffffca8349b7c7df7a262179dcef</td>\n",
       "      <td>undisclosed</td>\n",
       "      <td>NaN</td>\n",
       "      <td>11-06-2012</td>\n",
       "      <td>NaN</td>\n",
       "    </tr>\n",
       "    <tr>\n",
       "      <th>115098</th>\n",
       "      <td>http://zvooq.com</td>\n",
       "      <td>Music</td>\n",
       "      <td>operating</td>\n",
       "      <td>RUS</td>\n",
       "      <td>48</td>\n",
       "      <td>Moscow</td>\n",
       "      <td>Moscow</td>\n",
       "      <td>01-01-2011</td>\n",
       "      <td>zvooq</td>\n",
       "      <td>/funding-round/e2acbf36798538e3f6aace754ca80345</td>\n",
       "      <td>venture</td>\n",
       "      <td>NaN</td>\n",
       "      <td>01-06-2011</td>\n",
       "      <td>NaN</td>\n",
       "    </tr>\n",
       "    <tr>\n",
       "      <th>115108</th>\n",
       "      <td>http://www.zyante.com</td>\n",
       "      <td>News</td>\n",
       "      <td>operating</td>\n",
       "      <td>USA</td>\n",
       "      <td>CA</td>\n",
       "      <td>SF Bay Area</td>\n",
       "      <td>Los Gatos</td>\n",
       "      <td>01-01-2012</td>\n",
       "      <td>zyante</td>\n",
       "      <td>/funding-round/fc7ee77c04a85a5185c25b6bf12e94a0</td>\n",
       "      <td>undisclosed</td>\n",
       "      <td>NaN</td>\n",
       "      <td>01-12-2013</td>\n",
       "      <td>NaN</td>\n",
       "    </tr>\n",
       "    <tr>\n",
       "      <th>115110</th>\n",
       "      <td>http://zyb.com</td>\n",
       "      <td>Mobile|Networking|Social Network Media</td>\n",
       "      <td>acquired</td>\n",
       "      <td>DNK</td>\n",
       "      <td>17</td>\n",
       "      <td>Copenhagen</td>\n",
       "      <td>Copenhagen</td>\n",
       "      <td>NaN</td>\n",
       "      <td>zyb</td>\n",
       "      <td>/funding-round/2490f7790f2b60137422cc89c2356747</td>\n",
       "      <td>angel</td>\n",
       "      <td>NaN</td>\n",
       "      <td>01-01-2005</td>\n",
       "      <td>NaN</td>\n",
       "    </tr>\n",
       "    <tr>\n",
       "      <th>115111</th>\n",
       "      <td>http://www.zyfin.com/</td>\n",
       "      <td>Finance</td>\n",
       "      <td>operating</td>\n",
       "      <td>NaN</td>\n",
       "      <td>NaN</td>\n",
       "      <td>NaN</td>\n",
       "      <td>NaN</td>\n",
       "      <td>NaN</td>\n",
       "      <td>zyfin</td>\n",
       "      <td>/funding-round/98cef3afd5e88487a9829ff182fb1a25</td>\n",
       "      <td>venture</td>\n",
       "      <td>A</td>\n",
       "      <td>01-11-2011</td>\n",
       "      <td>NaN</td>\n",
       "    </tr>\n",
       "    <tr>\n",
       "      <th>115129</th>\n",
       "      <td>http://www.zymesolutions.com</td>\n",
       "      <td>Hardware|Hardware + Software</td>\n",
       "      <td>operating</td>\n",
       "      <td>USA</td>\n",
       "      <td>CA</td>\n",
       "      <td>SF Bay Area</td>\n",
       "      <td>Redwood Shores</td>\n",
       "      <td>01-01-2004</td>\n",
       "      <td>zymesolutions</td>\n",
       "      <td>/funding-round/33d24808a624466e3498b0efc4942d23</td>\n",
       "      <td>private_equity</td>\n",
       "      <td>NaN</td>\n",
       "      <td>20-05-2013</td>\n",
       "      <td>NaN</td>\n",
       "    </tr>\n",
       "    <tr>\n",
       "      <th>115135</th>\n",
       "      <td>http://www.zymergen.com</td>\n",
       "      <td>Biotechnology</td>\n",
       "      <td>operating</td>\n",
       "      <td>USA</td>\n",
       "      <td>CA</td>\n",
       "      <td>SF Bay Area</td>\n",
       "      <td>Emeryville</td>\n",
       "      <td>01-01-2013</td>\n",
       "      <td>zymergen</td>\n",
       "      <td>/funding-round/6b08eaf89f9a6211f1c83494c2bf8e82</td>\n",
       "      <td>seed</td>\n",
       "      <td>NaN</td>\n",
       "      <td>01-01-2014</td>\n",
       "      <td>NaN</td>\n",
       "    </tr>\n",
       "    <tr>\n",
       "      <th>115146</th>\n",
       "      <td>http://www.zymochem.com</td>\n",
       "      <td>Specialty Chemicals</td>\n",
       "      <td>operating</td>\n",
       "      <td>USA</td>\n",
       "      <td>CA</td>\n",
       "      <td>SF Bay Area</td>\n",
       "      <td>San Francisco</td>\n",
       "      <td>01-05-2013</td>\n",
       "      <td>zymochem</td>\n",
       "      <td>/funding-round/7735e006f2ffa443d9d7e2312173bf93</td>\n",
       "      <td>venture</td>\n",
       "      <td>NaN</td>\n",
       "      <td>16-03-2015</td>\n",
       "      <td>NaN</td>\n",
       "    </tr>\n",
       "    <tr>\n",
       "      <th>115147</th>\n",
       "      <td>http://www.zympi.com</td>\n",
       "      <td>Mobile|Networking|Web Hosting</td>\n",
       "      <td>operating</td>\n",
       "      <td>USA</td>\n",
       "      <td>CA</td>\n",
       "      <td>Ontario - Inland Empire</td>\n",
       "      <td>Redlands</td>\n",
       "      <td>03-09-2010</td>\n",
       "      <td>zympi</td>\n",
       "      <td>/funding-round/4aaf79fabd66416d679c9830c01f31d1</td>\n",
       "      <td>equity_crowdfunding</td>\n",
       "      <td>NaN</td>\n",
       "      <td>22-11-2011</td>\n",
       "      <td>NaN</td>\n",
       "    </tr>\n",
       "    <tr>\n",
       "      <th>115148</th>\n",
       "      <td>http://www.zymr.com</td>\n",
       "      <td>Android|Apps|Cloud Computing|Cloud Infrastruct...</td>\n",
       "      <td>operating</td>\n",
       "      <td>USA</td>\n",
       "      <td>CA</td>\n",
       "      <td>SF Bay Area</td>\n",
       "      <td>Santa Clara</td>\n",
       "      <td>NaN</td>\n",
       "      <td>zymrinc</td>\n",
       "      <td>/funding-round/4d834ddb3c11728e1d0089efb998ec5b</td>\n",
       "      <td>angel</td>\n",
       "      <td>NaN</td>\n",
       "      <td>01-01-2013</td>\n",
       "      <td>NaN</td>\n",
       "    </tr>\n",
       "    <tr>\n",
       "      <th>115149</th>\n",
       "      <td>http://www.zymr.com</td>\n",
       "      <td>Android|Apps|Cloud Computing|Cloud Infrastruct...</td>\n",
       "      <td>operating</td>\n",
       "      <td>USA</td>\n",
       "      <td>CA</td>\n",
       "      <td>SF Bay Area</td>\n",
       "      <td>Santa Clara</td>\n",
       "      <td>NaN</td>\n",
       "      <td>zymrinc</td>\n",
       "      <td>/funding-round/651a78538c9b95afed28a47fb9244442</td>\n",
       "      <td>angel</td>\n",
       "      <td>NaN</td>\n",
       "      <td>01-01-2014</td>\n",
       "      <td>NaN</td>\n",
       "    </tr>\n",
       "    <tr>\n",
       "      <th>115150</th>\n",
       "      <td>http://www.zymr.com</td>\n",
       "      <td>Android|Apps|Cloud Computing|Cloud Infrastruct...</td>\n",
       "      <td>operating</td>\n",
       "      <td>USA</td>\n",
       "      <td>CA</td>\n",
       "      <td>SF Bay Area</td>\n",
       "      <td>Santa Clara</td>\n",
       "      <td>NaN</td>\n",
       "      <td>zymrinc</td>\n",
       "      <td>/funding-round/9048d1a80edeae803ed1790c9f473eec</td>\n",
       "      <td>angel</td>\n",
       "      <td>NaN</td>\n",
       "      <td>12-12-2012</td>\n",
       "      <td>NaN</td>\n",
       "    </tr>\n",
       "    <tr>\n",
       "      <th>115156</th>\n",
       "      <td>http://www.zynergygroup.net/</td>\n",
       "      <td>Clean Technology</td>\n",
       "      <td>operating</td>\n",
       "      <td>IND</td>\n",
       "      <td>25</td>\n",
       "      <td>Chennai</td>\n",
       "      <td>Chennai</td>\n",
       "      <td>NaN</td>\n",
       "      <td>zynergyprojectsservices</td>\n",
       "      <td>/funding-round/3d7dbd2d92220d93e2b5455f914a0918</td>\n",
       "      <td>venture</td>\n",
       "      <td>NaN</td>\n",
       "      <td>19-08-2015</td>\n",
       "      <td>NaN</td>\n",
       "    </tr>\n",
       "    <tr>\n",
       "      <th>115164</th>\n",
       "      <td>http://www.zynga.com</td>\n",
       "      <td>Facebook Applications|Games|Networking|Technology</td>\n",
       "      <td>ipo</td>\n",
       "      <td>USA</td>\n",
       "      <td>CA</td>\n",
       "      <td>SF Bay Area</td>\n",
       "      <td>San Francisco</td>\n",
       "      <td>01-07-2007</td>\n",
       "      <td>zynga</td>\n",
       "      <td>/funding-round/d27f10a20b15b4ef3d9961d54eabf6b1</td>\n",
       "      <td>angel</td>\n",
       "      <td>NaN</td>\n",
       "      <td>01-01-2007</td>\n",
       "      <td>NaN</td>\n",
       "    </tr>\n",
       "    <tr>\n",
       "      <th>115178</th>\n",
       "      <td>http://whisk.me</td>\n",
       "      <td>Public Transportation</td>\n",
       "      <td>operating</td>\n",
       "      <td>USA</td>\n",
       "      <td>NY</td>\n",
       "      <td>New York City</td>\n",
       "      <td>New York</td>\n",
       "      <td>01-01-2011</td>\n",
       "      <td>zypsee</td>\n",
       "      <td>/funding-round/c67e22c5448435adaf5a2d101e449dde</td>\n",
       "      <td>seed</td>\n",
       "      <td>NaN</td>\n",
       "      <td>26-07-2013</td>\n",
       "      <td>NaN</td>\n",
       "    </tr>\n",
       "    <tr>\n",
       "      <th>115197</th>\n",
       "      <td>http://www.aeron.hu/</td>\n",
       "      <td>NaN</td>\n",
       "      <td>operating</td>\n",
       "      <td>NaN</td>\n",
       "      <td>NaN</td>\n",
       "      <td>NaN</td>\n",
       "      <td>NaN</td>\n",
       "      <td>01-01-2011</td>\n",
       "      <td>ãeron</td>\n",
       "      <td>/funding-round/59f4dce44723b794f21ded3daed6e4fe</td>\n",
       "      <td>venture</td>\n",
       "      <td>A</td>\n",
       "      <td>01-08-2014</td>\n",
       "      <td>NaN</td>\n",
       "    </tr>\n",
       "  </tbody>\n",
       "</table>\n",
       "<p>18357 rows × 14 columns</p>\n",
       "</div>"
      ],
      "text/plain": [
       "                              homepage_url  \\\n",
       "1                   http://www.qounter.com   \n",
       "5        http://004gmbh.de/en/004-interact   \n",
       "14                      http://whatis1.com   \n",
       "17                                     NaN   \n",
       "18      http://www.Homeandcondogallery.com   \n",
       "19              http://www.1800dentist.com   \n",
       "33                    http://1000lookz.com   \n",
       "40              http://www.1000museums.com   \n",
       "42              http://www.1000museums.com   \n",
       "51                     http://www.1006.tv/   \n",
       "53                     http://www.1006.tv/   \n",
       "54                    http://www.100du.com   \n",
       "63                 http://www.cliptone.me/   \n",
       "64                 http://www.cliptone.me/   \n",
       "67                         https://10s.ec/   \n",
       "70                  http://10sixenergy.com   \n",
       "71                     http://10tracks.com   \n",
       "72                     http://10tracks.com   \n",
       "77                                     NaN   \n",
       "79                     http://www.115.com/   \n",
       "83           http://www.12starsurvival.com   \n",
       "84                http://www.120sports.com   \n",
       "85                                     NaN   \n",
       "98           http://www.123contactform.com   \n",
       "101              http://yelsterdigital.com   \n",
       "107               http://www.12Society.com   \n",
       "117                 http://www.139shop.com   \n",
       "122                   http://1417power.com   \n",
       "123                  http://www.15fen.com/   \n",
       "128                  http://15shopstop.com   \n",
       "...                                    ...   \n",
       "115016                  http://www.zuli.io   \n",
       "115025               http://www.zumata.com   \n",
       "115027                http://www.zumba.com   \n",
       "115044                                 NaN   \n",
       "115057             http://zuoye.baidu.com/   \n",
       "115058              http://www.zup.com.br/   \n",
       "115060               http://www.zupcat.com   \n",
       "115066              http://www.zura.com.br   \n",
       "115069         http://www.zurex-pharma.com   \n",
       "115071                    http://zurff.com   \n",
       "115073                 http://www.zurn.com   \n",
       "115074               http://www.zurrba.com   \n",
       "115078                                 NaN   \n",
       "115084           http://www.istorytime.com   \n",
       "115085           http://www.istorytime.com   \n",
       "115098                    http://zvooq.com   \n",
       "115108               http://www.zyante.com   \n",
       "115110                      http://zyb.com   \n",
       "115111               http://www.zyfin.com/   \n",
       "115129        http://www.zymesolutions.com   \n",
       "115135             http://www.zymergen.com   \n",
       "115146             http://www.zymochem.com   \n",
       "115147                http://www.zympi.com   \n",
       "115148                 http://www.zymr.com   \n",
       "115149                 http://www.zymr.com   \n",
       "115150                 http://www.zymr.com   \n",
       "115156        http://www.zynergygroup.net/   \n",
       "115164                http://www.zynga.com   \n",
       "115178                     http://whisk.me   \n",
       "115197                http://www.aeron.hu/   \n",
       "\n",
       "                                            category_list     status  \\\n",
       "1       Application Platforms|Real Time|Social Network...  operating   \n",
       "5                                                Software  operating   \n",
       "14                                                 Mobile  operating   \n",
       "17                           Entertainment|Games|Software  operating   \n",
       "18                     Networking|Real Estate|Web Hosting  operating   \n",
       "19                                    Health and Wellness  operating   \n",
       "33                                                 Beauty  operating   \n",
       "40                                            Curated Web  operating   \n",
       "42                                            Curated Web  operating   \n",
       "51                                            Games|Media  operating   \n",
       "53                                            Games|Media  operating   \n",
       "54                                            Hospitality  operating   \n",
       "63      Advertising|Image Recognition|Sales and Market...  operating   \n",
       "64      Advertising|Image Recognition|Sales and Market...  operating   \n",
       "67             E-Commerce|Mobile Commerce|Social Commerce  operating   \n",
       "70                           Batteries|Electronics|Energy  operating   \n",
       "71                                       iOS|Mobile|Music  operating   \n",
       "72                                       iOS|Mobile|Music  operating   \n",
       "77                                                Fashion  operating   \n",
       "79                                       EdTech|Education  operating   \n",
       "83                                                 Sports  operating   \n",
       "84                                                 Sports  operating   \n",
       "85                                            Real Estate  operating   \n",
       "98                                        E-Commerce|SaaS  operating   \n",
       "101                      Local Search|Software|Web Design   acquired   \n",
       "107                                            E-Commerce   acquired   \n",
       "117                                            E-Commerce  operating   \n",
       "122                               Finance|Venture Capital  operating   \n",
       "123                                                   NaN  operating   \n",
       "128                                               Fashion  operating   \n",
       "...                                                   ...        ...   \n",
       "115016  Home Automation|Internet of Things|Mobile Soft...  operating   \n",
       "115025                                         E-Commerce  operating   \n",
       "115027                                Health and Wellness  operating   \n",
       "115044         Cloud Computing|Digital Media|File Sharing  operating   \n",
       "115057                                                NaN  operating   \n",
       "115058  Innovation Management|Project Management|Services  operating   \n",
       "115060                                       Games|Mobile  operating   \n",
       "115066                                         E-Commerce  operating   \n",
       "115069                                        Health Care  operating   \n",
       "115071       Brand Marketing|Social Bookmarking|Web Tools  operating   \n",
       "115073                                       Social Media  operating   \n",
       "115074                                           Software  operating   \n",
       "115078                                           Software  operating   \n",
       "115084          Apps|Entertainment|Kids|Mobile|Publishing   acquired   \n",
       "115085          Apps|Entertainment|Kids|Mobile|Publishing   acquired   \n",
       "115098                                              Music  operating   \n",
       "115108                                               News  operating   \n",
       "115110             Mobile|Networking|Social Network Media   acquired   \n",
       "115111                                            Finance  operating   \n",
       "115129                       Hardware|Hardware + Software  operating   \n",
       "115135                                      Biotechnology  operating   \n",
       "115146                                Specialty Chemicals  operating   \n",
       "115147                      Mobile|Networking|Web Hosting  operating   \n",
       "115148  Android|Apps|Cloud Computing|Cloud Infrastruct...  operating   \n",
       "115149  Android|Apps|Cloud Computing|Cloud Infrastruct...  operating   \n",
       "115150  Android|Apps|Cloud Computing|Cloud Infrastruct...  operating   \n",
       "115156                                   Clean Technology  operating   \n",
       "115164  Facebook Applications|Games|Networking|Technology        ipo   \n",
       "115178                              Public Transportation  operating   \n",
       "115197                                                NaN  operating   \n",
       "\n",
       "       country_code state_code                   region               city  \\\n",
       "1               USA         DE               DE - Other      Delaware City   \n",
       "5               USA         IL    Springfield, Illinois          Champaign   \n",
       "14              USA         CA              SF Bay Area      San Francisco   \n",
       "17              USA         NC               NC - Other  Connellys Springs   \n",
       "18              USA         FL                  Orlando            Orlando   \n",
       "19              USA         CA              Los Angeles        Los Angeles   \n",
       "33              IND         25                  Chennai            Chennai   \n",
       "40              USA         MA               MA - Other              Lenox   \n",
       "42              USA         MA               MA - Other              Lenox   \n",
       "51              CHN         22                  Beijing            Beijing   \n",
       "53              CHN         22                  Beijing            Beijing   \n",
       "54              CHN         23                 Shanghai           Shanghai   \n",
       "63              CAN         ON                  Toronto            Toronto   \n",
       "64              CAN         ON                  Toronto            Toronto   \n",
       "67              USA         CA              SF Bay Area      San Francisco   \n",
       "70              USA         NY            New York City           New York   \n",
       "71              NaN        NaN                      NaN                NaN   \n",
       "72              NaN        NaN                      NaN                NaN   \n",
       "77              CAN         ON                  Toronto        Mississauga   \n",
       "79              NaN        NaN                      NaN                NaN   \n",
       "83              DNK         21              DNK - Other            Vinding   \n",
       "84              USA         IL                  Chicago            Chicago   \n",
       "85              USA         TX               TX - Other           Amarillo   \n",
       "98              ROM         36                Timisoara          Timisoara   \n",
       "101             AUT          9                   Vienna             Vienna   \n",
       "107             USA         CA              Los Angeles     West Hollywood   \n",
       "117             CHN        NaN                      NaN                NaN   \n",
       "122             USA         TN                Nashville          Brentwood   \n",
       "123             CHN         30                Guangzhou          Guangzhou   \n",
       "128             USA         CA              Los Angeles        Los Angeles   \n",
       "...             ...        ...                      ...                ...   \n",
       "115016          USA         CA              SF Bay Area      San Francisco   \n",
       "115025          SGP        NaN                Singapore          Singapore   \n",
       "115027          USA         FL               FL - Other         Hallandale   \n",
       "115044          NaN        NaN                      NaN                NaN   \n",
       "115057          NaN        NaN                      NaN                NaN   \n",
       "115058          BRA         15              BRA - Other        UberlÃ¢ndia   \n",
       "115060          ARG          7             Buenos Aires       Buenos Aires   \n",
       "115066          BRA         27              BRA - Other             Brasil   \n",
       "115069          USA         WI                  Madison          Middleton   \n",
       "115071          NLD         15                Amsterdam             Zwolle   \n",
       "115073          CHN        NaN                      NaN                NaN   \n",
       "115074          USA         CA              SF Bay Area          Palo Alto   \n",
       "115078          USA         NY            New York City           New York   \n",
       "115084          USA         CA            Santa Barbara      Santa Barbara   \n",
       "115085          USA         CA            Santa Barbara      Santa Barbara   \n",
       "115098          RUS         48                   Moscow             Moscow   \n",
       "115108          USA         CA              SF Bay Area          Los Gatos   \n",
       "115110          DNK         17               Copenhagen         Copenhagen   \n",
       "115111          NaN        NaN                      NaN                NaN   \n",
       "115129          USA         CA              SF Bay Area     Redwood Shores   \n",
       "115135          USA         CA              SF Bay Area         Emeryville   \n",
       "115146          USA         CA              SF Bay Area      San Francisco   \n",
       "115147          USA         CA  Ontario - Inland Empire           Redlands   \n",
       "115148          USA         CA              SF Bay Area        Santa Clara   \n",
       "115149          USA         CA              SF Bay Area        Santa Clara   \n",
       "115150          USA         CA              SF Bay Area        Santa Clara   \n",
       "115156          IND         25                  Chennai            Chennai   \n",
       "115164          USA         CA              SF Bay Area      San Francisco   \n",
       "115178          USA         NY            New York City           New York   \n",
       "115197          NaN        NaN                      NaN                NaN   \n",
       "\n",
       "        founded_at                          Company  \\\n",
       "1       04-09-2014                          qounter   \n",
       "5       01-01-2010                  004technologies   \n",
       "14      01-08-2011                                1   \n",
       "17             NaN                            14all   \n",
       "18      07-12-2013                   1618technology   \n",
       "19      01-01-1986                      1800dentist   \n",
       "33      01-01-2008                        1000lookz   \n",
       "40      01-01-2008                   1000museumscom   \n",
       "42      01-01-2008                   1000museumscom   \n",
       "51      01-01-2009                           1006tv   \n",
       "53      01-01-2009                           1006tv   \n",
       "54             NaN                          100dutv   \n",
       "63      03-03-2012                          10alike   \n",
       "64      03-03-2012                          10alike   \n",
       "67      08-07-2013                            10sec   \n",
       "70             NaN                            10six   \n",
       "71      01-01-2012                        10tracks2   \n",
       "72      01-01-2012                        10tracks2   \n",
       "77      05-01-2013                        10â°north   \n",
       "79             NaN                  115networkdisks   \n",
       "83      17-07-2013                   12starsurvival   \n",
       "84      01-01-2013                        120sports   \n",
       "85      12-04-2011                       121rentals   \n",
       "98      01-01-2008                   123contactform   \n",
       "101     01-01-2007                        123people   \n",
       "107     01-01-2012                        12society   \n",
       "117            NaN                          139shop   \n",
       "122     12-01-2012                             1417   \n",
       "123            NaN                            15fen   \n",
       "128     17-11-2014                       15shopstop   \n",
       "...            ...                              ...   \n",
       "115016  01-01-2012                             zuli   \n",
       "115025         NaN                        zumataltd   \n",
       "115027  01-01-2001                     zumbafitness   \n",
       "115044         NaN                        zumodrive   \n",
       "115057         NaN                        zuoyebang   \n",
       "115058  01-01-2011                  zupitinnovation   \n",
       "115060  01-09-2011                           zupcat   \n",
       "115066         NaN                             zura   \n",
       "115069  01-01-2010                      zurexpharma   \n",
       "115071  01-01-2014                            zurff   \n",
       "115073  01-01-2013  zurninternationalecommercecoltd   \n",
       "115074         NaN                      zurrbagroup   \n",
       "115078         NaN                             zuse   \n",
       "115084  10-04-2009                            zuuka   \n",
       "115085  10-04-2009                            zuuka   \n",
       "115098  01-01-2011                            zvooq   \n",
       "115108  01-01-2012                           zyante   \n",
       "115110         NaN                              zyb   \n",
       "115111         NaN                            zyfin   \n",
       "115129  01-01-2004                    zymesolutions   \n",
       "115135  01-01-2013                         zymergen   \n",
       "115146  01-05-2013                         zymochem   \n",
       "115147  03-09-2010                            zympi   \n",
       "115148         NaN                          zymrinc   \n",
       "115149         NaN                          zymrinc   \n",
       "115150         NaN                          zymrinc   \n",
       "115156         NaN          zynergyprojectsservices   \n",
       "115164  01-07-2007                            zynga   \n",
       "115178  01-01-2011                           zypsee   \n",
       "115197  01-01-2011                           ãeron   \n",
       "\n",
       "                                funding_round_permalink   funding_round_type  \\\n",
       "1       /funding-round/22dacff496eb7acb2b901dec1dfe5633              venture   \n",
       "5       /funding-round/1278dd4e6a37fa4b7d7e06c21b3c1830              venture   \n",
       "14      /funding-round/5de6d8828aef7d925d97918d15727670          undisclosed   \n",
       "17      /funding-round/e97a192e13ea0ee3c4f71136b4f3ec16  equity_crowdfunding   \n",
       "18      /funding-round/83b8f4c7d37ecef5e001a5e953bf461a  equity_crowdfunding   \n",
       "19      /funding-round/5274aacc211163fc7c86539ce94bbacc          undisclosed   \n",
       "33      /funding-round/e07f6e580046d00c7aeb33fafb9d90a3              venture   \n",
       "40      /funding-round/6dcccfea326e6add866bf67aafb0a7df     convertible_note   \n",
       "42      /funding-round/adf2f3272af9f552b87e01f10f0b9234              venture   \n",
       "51      /funding-round/a3631227d5232aa8c2303f252c4f1f87                angel   \n",
       "53      /funding-round/c4dd206906e8f6834dde0eb9681002ac              venture   \n",
       "54      /funding-round/46a9d3228f69c036e8076f1362ac58cd              venture   \n",
       "63      /funding-round/36812b11cf7351e5184c59fecd828dea                 seed   \n",
       "64      /funding-round/88d987f9cb2c320b809caafe43b8491b                 seed   \n",
       "67      /funding-round/2270c5f7c44fb5b460573166d64ccb55                 seed   \n",
       "70      /funding-round/e7e13a354af346863c51e678c63590c1                 seed   \n",
       "71      /funding-round/74606b480fe509973a3d72c9017876ca              venture   \n",
       "72      /funding-round/e31e2474786f930fd72e292ec34e9126                 seed   \n",
       "77      /funding-round/b41ff7de932f8b6e5bbeed3966c0ed6a  equity_crowdfunding   \n",
       "79      /funding-round/0966b3b472f4b912e167abaf8d06f77d                angel   \n",
       "83      /funding-round/9c08e07cfd6bdacade795671e09b86e6  equity_crowdfunding   \n",
       "84      /funding-round/55642880265ba4cc73eda4abcac4f8da          undisclosed   \n",
       "85      /funding-round/18b148f4b89339b28b09ef132acb1ade       debt_financing   \n",
       "98      /funding-round/b678dec4e0df10e2518a81215f8fd843                angel   \n",
       "101     /funding-round/246571dc273630b5f233010d50351e2f                 seed   \n",
       "107     /funding-round/4076aae3a04e7e3e41d6125f80c866cf                 seed   \n",
       "117     /funding-round/ab94379ae87be8a333b45496f0dcb8e2              venture   \n",
       "122     /funding-round/300e54be2d535398a93fe355d123e9a4  equity_crowdfunding   \n",
       "123     /funding-round/b660e2c345e5cda7db2f1e0176a450b3                 seed   \n",
       "128     /funding-round/49d31ad47fcb4fae5621b6f242754a0e  equity_crowdfunding   \n",
       "...                                                 ...                  ...   \n",
       "115016  /funding-round/d8bc314557d49d0bc43a642438fe0b06              venture   \n",
       "115025  /funding-round/5025b8f61b13a73a54f06edb711b598f                 seed   \n",
       "115027  /funding-round/1410ed624a727b8f7e76159933b2ffee          undisclosed   \n",
       "115044  /funding-round/8e802d38dafc2673e37668852603d2a4     convertible_note   \n",
       "115057  /funding-round/720cfd18d9f4804df5cf722ca8116ec8              venture   \n",
       "115058  /funding-round/9f145a5b14422f9475070b87421fb3ab              venture   \n",
       "115060  /funding-round/1a5ef31ab0ceff103786dfad338686ea                angel   \n",
       "115066  /funding-round/2a93c3460b0e2fbdfc1d08d7a8ca90d0                 seed   \n",
       "115069  /funding-round/97652213d59c02f31e264265586d0d75          undisclosed   \n",
       "115071  /funding-round/7dcd74443f6529ebde36844ec828ee7b                 seed   \n",
       "115073  /funding-round/af8406636f2edaa2f1d8a4726f965da4                angel   \n",
       "115074  /funding-round/07cb746856e1e2d43e43a4e6c5ddabbc                 seed   \n",
       "115078  /funding-round/88fb7c19c4ab029020ecd39c0aae2374                angel   \n",
       "115084  /funding-round/6e0fc86125b5393102d605794b2389d9          undisclosed   \n",
       "115085  /funding-round/822fffffca8349b7c7df7a262179dcef          undisclosed   \n",
       "115098  /funding-round/e2acbf36798538e3f6aace754ca80345              venture   \n",
       "115108  /funding-round/fc7ee77c04a85a5185c25b6bf12e94a0          undisclosed   \n",
       "115110  /funding-round/2490f7790f2b60137422cc89c2356747                angel   \n",
       "115111  /funding-round/98cef3afd5e88487a9829ff182fb1a25              venture   \n",
       "115129  /funding-round/33d24808a624466e3498b0efc4942d23       private_equity   \n",
       "115135  /funding-round/6b08eaf89f9a6211f1c83494c2bf8e82                 seed   \n",
       "115146  /funding-round/7735e006f2ffa443d9d7e2312173bf93              venture   \n",
       "115147  /funding-round/4aaf79fabd66416d679c9830c01f31d1  equity_crowdfunding   \n",
       "115148  /funding-round/4d834ddb3c11728e1d0089efb998ec5b                angel   \n",
       "115149  /funding-round/651a78538c9b95afed28a47fb9244442                angel   \n",
       "115150  /funding-round/9048d1a80edeae803ed1790c9f473eec                angel   \n",
       "115156  /funding-round/3d7dbd2d92220d93e2b5455f914a0918              venture   \n",
       "115164  /funding-round/d27f10a20b15b4ef3d9961d54eabf6b1                angel   \n",
       "115178  /funding-round/c67e22c5448435adaf5a2d101e449dde                 seed   \n",
       "115197  /funding-round/59f4dce44723b794f21ded3daed6e4fe              venture   \n",
       "\n",
       "       funding_round_code   funded_at  raised_amount_usd  \n",
       "1                       A  14-10-2014                NaN  \n",
       "5                     NaN  24-07-2014                NaN  \n",
       "14                    NaN  05-02-2013                NaN  \n",
       "17                    NaN  21-04-2013                NaN  \n",
       "18                    NaN  22-01-2014                NaN  \n",
       "19                    NaN  19-08-2010                NaN  \n",
       "33                    NaN  22-07-2013                NaN  \n",
       "40                    NaN  01-12-2014                NaN  \n",
       "42                    NaN  01-02-2014                NaN  \n",
       "51                    NaN  01-01-2011                NaN  \n",
       "53                      A  01-01-2013                NaN  \n",
       "54                      C  13-08-2010                NaN  \n",
       "63                    NaN  01-01-2013                NaN  \n",
       "64                    NaN  01-01-2014                NaN  \n",
       "67                    NaN  31-10-2013                NaN  \n",
       "70                    NaN  01-02-2014                NaN  \n",
       "71                    NaN  03-02-2014                NaN  \n",
       "72                    NaN  31-07-2013                NaN  \n",
       "77                    NaN  12-08-2014                NaN  \n",
       "79                    NaN  01-11-2011                NaN  \n",
       "83                    NaN  17-10-2013                NaN  \n",
       "84                    NaN  20-02-2014                NaN  \n",
       "85                    NaN  03-09-2014                NaN  \n",
       "98                    NaN  01-01-2010                NaN  \n",
       "101                   NaN  01-01-2008                NaN  \n",
       "107                   NaN  05-04-2012                NaN  \n",
       "117                     A  01-02-2007                NaN  \n",
       "122                   NaN  21-01-2015                NaN  \n",
       "123                   NaN  15-12-2013                NaN  \n",
       "128                   NaN  17-11-2014                NaN  \n",
       "...                   ...         ...                ...  \n",
       "115016                NaN  01-03-2015                NaN  \n",
       "115025                NaN  30-06-2014                NaN  \n",
       "115027                NaN  08-03-2012                NaN  \n",
       "115044                NaN  01-09-2007                NaN  \n",
       "115057                  A  03-09-2015                NaN  \n",
       "115058                  A  27-10-2015                NaN  \n",
       "115060                NaN  01-06-2015                NaN  \n",
       "115066                NaN  01-01-2008                NaN  \n",
       "115069                NaN  02-05-2011                NaN  \n",
       "115071                NaN  25-07-2014                NaN  \n",
       "115073                NaN  01-12-2013                NaN  \n",
       "115074                NaN  15-01-2014                NaN  \n",
       "115078                NaN  01-05-2013                NaN  \n",
       "115084                NaN  24-01-2011                NaN  \n",
       "115085                NaN  11-06-2012                NaN  \n",
       "115098                NaN  01-06-2011                NaN  \n",
       "115108                NaN  01-12-2013                NaN  \n",
       "115110                NaN  01-01-2005                NaN  \n",
       "115111                  A  01-11-2011                NaN  \n",
       "115129                NaN  20-05-2013                NaN  \n",
       "115135                NaN  01-01-2014                NaN  \n",
       "115146                NaN  16-03-2015                NaN  \n",
       "115147                NaN  22-11-2011                NaN  \n",
       "115148                NaN  01-01-2013                NaN  \n",
       "115149                NaN  01-01-2014                NaN  \n",
       "115150                NaN  12-12-2012                NaN  \n",
       "115156                NaN  19-08-2015                NaN  \n",
       "115164                NaN  01-01-2007                NaN  \n",
       "115178                NaN  26-07-2013                NaN  \n",
       "115197                  A  01-08-2014                NaN  \n",
       "\n",
       "[18357 rows x 14 columns]"
      ]
     },
     "execution_count": 21,
     "metadata": {},
     "output_type": "execute_result"
    }
   ],
   "source": [
    "#Checking for null values in 'raised_amount_usd' column of master_frame\n",
    "master_frame[master_frame['raised_amount_usd'].isna()]"
   ]
  },
  {
   "cell_type": "code",
   "execution_count": 22,
   "metadata": {},
   "outputs": [
    {
     "data": {
      "text/plain": [
       "0"
      ]
     },
     "execution_count": 22,
     "metadata": {},
     "output_type": "execute_result"
    }
   ],
   "source": [
    "## considering all null value rows from our dataframe as zero..\n",
    "master_frame['raised_amount_usd'].fillna(0,inplace=True)\n",
    "master_frame.raised_amount_usd.isnull().sum()"
   ]
  },
  {
   "cell_type": "code",
   "execution_count": 23,
   "metadata": {},
   "outputs": [
    {
     "data": {
      "text/plain": [
       "(106449, 14)"
      ]
     },
     "execution_count": 23,
     "metadata": {},
     "output_type": "execute_result"
    }
   ],
   "source": [
    "master_frame.shape"
   ]
  },
  {
   "cell_type": "markdown",
   "metadata": {},
   "source": [
    "# Problem 2 <-  FUNDING TYPE ANALYSIS"
   ]
  },
  {
   "cell_type": "markdown",
   "metadata": {},
   "source": [
    "### Q1. Most representative value of the investment amount for each of the four funding types (venture, angel, seed, and private equity) "
   ]
  },
  {
   "cell_type": "code",
   "execution_count": 24,
   "metadata": {},
   "outputs": [
    {
     "data": {
      "text/plain": [
       "array(['venture', 'seed', 'undisclosed', 'equity_crowdfunding',\n",
       "       'convertible_note', 'private_equity', 'debt_financing', 'angel',\n",
       "       'grant', 'secondary_market', 'post_ipo_equity', 'post_ipo_debt',\n",
       "       'product_crowdfunding', 'non_equity_assistance'], dtype=object)"
      ]
     },
     "execution_count": 24,
     "metadata": {},
     "output_type": "execute_result"
    }
   ],
   "source": [
    "master_frame['funding_round_type'].unique() ### These are the unique funding_round_type that we have"
   ]
  },
  {
   "cell_type": "code",
   "execution_count": 25,
   "metadata": {},
   "outputs": [
    {
     "data": {
      "text/plain": [
       "0"
      ]
     },
     "execution_count": 25,
     "metadata": {},
     "output_type": "execute_result"
    }
   ],
   "source": [
    "## Checking for missing values in funding_round_type column of master_frame.\n",
    "master_frame.funding_round_type.isna().sum()"
   ]
  },
  {
   "cell_type": "code",
   "execution_count": 26,
   "metadata": {},
   "outputs": [
    {
     "data": {
      "text/plain": [
       "6844"
      ]
     },
     "execution_count": 26,
     "metadata": {},
     "output_type": "execute_result"
    }
   ],
   "source": [
    "## Checking for missing values in country_code column of master_frame.\n",
    "master_frame.country_code.isna().sum()"
   ]
  },
  {
   "cell_type": "code",
   "execution_count": 27,
   "metadata": {},
   "outputs": [
    {
     "data": {
      "text/plain": [
       "0"
      ]
     },
     "execution_count": 27,
     "metadata": {},
     "output_type": "execute_result"
    }
   ],
   "source": [
    "## Considering missing values of column country_code as zero.\n",
    "master_frame['country_code'].fillna('0',inplace=True)\n",
    "master_frame.country_code.isna().sum()"
   ]
  },
  {
   "cell_type": "code",
   "execution_count": 28,
   "metadata": {},
   "outputs": [
    {
     "data": {
      "text/plain": [
       "funding_round_type\n",
       "angel                     5384\n",
       "convertible_note          1731\n",
       "debt_financing            6468\n",
       "equity_crowdfunding       3185\n",
       "grant                     2042\n",
       "non_equity_assistance      182\n",
       "post_ipo_debt              139\n",
       "post_ipo_equity            579\n",
       "private_equity            2105\n",
       "product_crowdfunding       392\n",
       "secondary_market            89\n",
       "seed                     27969\n",
       "undisclosed               4603\n",
       "venture                  51581\n",
       "Name: funding_round_type, dtype: int64"
      ]
     },
     "execution_count": 28,
     "metadata": {},
     "output_type": "execute_result"
    }
   ],
   "source": [
    "master_frame.groupby('funding_round_type')['funding_round_type'].count() #Mostly companies are investing in \"Venture\"."
   ]
  },
  {
   "cell_type": "markdown",
   "metadata": {},
   "source": [
    "### Therefore 51,581 is the most representative value in our data which is for \"Venture\" type."
   ]
  },
  {
   "cell_type": "code",
   "execution_count": 29,
   "metadata": {},
   "outputs": [
    {
     "data": {
      "text/plain": [
       "funding_round_type\n",
       "angel             False\n",
       "private_equity    False\n",
       "seed              False\n",
       "venture            True\n",
       "Name: raised_amount_usd, dtype: bool"
      ]
     },
     "execution_count": 29,
     "metadata": {},
     "output_type": "execute_result"
    }
   ],
   "source": [
    "x = master_frame.query('funding_round_type == \"venture\" or funding_round_type == \"seed\" or funding_round_type == \"angel\" or funding_round_type == \"private_equity\"')\n",
    "x.groupby('funding_round_type')['raised_amount_usd'].mean().between(5000000,15000000,inclusive=True)"
   ]
  },
  {
   "cell_type": "markdown",
   "metadata": {},
   "source": [
    "### As it can be observed, the best investment type is Venture Type, we will proceed ahead with that only for further analysis."
   ]
  },
  {
   "cell_type": "markdown",
   "metadata": {},
   "source": [
    "- Creating a dataframe filtering master_frame with \"Venture\" investment type."
   ]
  },
  {
   "cell_type": "code",
   "execution_count": 30,
   "metadata": {},
   "outputs": [
    {
     "data": {
      "text/html": [
       "<div>\n",
       "<style scoped>\n",
       "    .dataframe tbody tr th:only-of-type {\n",
       "        vertical-align: middle;\n",
       "    }\n",
       "\n",
       "    .dataframe tbody tr th {\n",
       "        vertical-align: top;\n",
       "    }\n",
       "\n",
       "    .dataframe thead th {\n",
       "        text-align: right;\n",
       "    }\n",
       "</style>\n",
       "<table border=\"1\" class=\"dataframe\">\n",
       "  <thead>\n",
       "    <tr style=\"text-align: right;\">\n",
       "      <th></th>\n",
       "      <th>homepage_url</th>\n",
       "      <th>category_list</th>\n",
       "      <th>status</th>\n",
       "      <th>country_code</th>\n",
       "      <th>state_code</th>\n",
       "      <th>region</th>\n",
       "      <th>city</th>\n",
       "      <th>founded_at</th>\n",
       "      <th>Company</th>\n",
       "      <th>funding_round_permalink</th>\n",
       "      <th>funding_round_type</th>\n",
       "      <th>funding_round_code</th>\n",
       "      <th>funded_at</th>\n",
       "      <th>raised_amount_usd</th>\n",
       "    </tr>\n",
       "  </thead>\n",
       "  <tbody>\n",
       "    <tr>\n",
       "      <th>0</th>\n",
       "      <td>http://livfame.com</td>\n",
       "      <td>Media</td>\n",
       "      <td>operating</td>\n",
       "      <td>IND</td>\n",
       "      <td>16</td>\n",
       "      <td>Mumbai</td>\n",
       "      <td>Mumbai</td>\n",
       "      <td>NaN</td>\n",
       "      <td>fame</td>\n",
       "      <td>/funding-round/9a01d05418af9f794eebff7ace91f638</td>\n",
       "      <td>venture</td>\n",
       "      <td>B</td>\n",
       "      <td>05-01-2015</td>\n",
       "      <td>10000000.0</td>\n",
       "    </tr>\n",
       "    <tr>\n",
       "      <th>1</th>\n",
       "      <td>http://www.qounter.com</td>\n",
       "      <td>Application Platforms|Real Time|Social Network...</td>\n",
       "      <td>operating</td>\n",
       "      <td>USA</td>\n",
       "      <td>DE</td>\n",
       "      <td>DE - Other</td>\n",
       "      <td>Delaware City</td>\n",
       "      <td>04-09-2014</td>\n",
       "      <td>qounter</td>\n",
       "      <td>/funding-round/22dacff496eb7acb2b901dec1dfe5633</td>\n",
       "      <td>venture</td>\n",
       "      <td>A</td>\n",
       "      <td>14-10-2014</td>\n",
       "      <td>0.0</td>\n",
       "    </tr>\n",
       "    <tr>\n",
       "      <th>3</th>\n",
       "      <td>http://oneofthem.jp</td>\n",
       "      <td>Apps|Games|Mobile</td>\n",
       "      <td>operating</td>\n",
       "      <td>0</td>\n",
       "      <td>NaN</td>\n",
       "      <td>NaN</td>\n",
       "      <td>NaN</td>\n",
       "      <td>NaN</td>\n",
       "      <td>theoneoftheminc</td>\n",
       "      <td>/funding-round/650b8f704416801069bb178a1418776b</td>\n",
       "      <td>venture</td>\n",
       "      <td>B</td>\n",
       "      <td>30-01-2014</td>\n",
       "      <td>3406878.0</td>\n",
       "    </tr>\n",
       "    <tr>\n",
       "      <th>4</th>\n",
       "      <td>http://www.0-6.com</td>\n",
       "      <td>Curated Web</td>\n",
       "      <td>operating</td>\n",
       "      <td>CHN</td>\n",
       "      <td>22</td>\n",
       "      <td>Beijing</td>\n",
       "      <td>Beijing</td>\n",
       "      <td>01-01-2007</td>\n",
       "      <td>06com</td>\n",
       "      <td>/funding-round/5727accaeaa57461bd22a9bdd945382d</td>\n",
       "      <td>venture</td>\n",
       "      <td>A</td>\n",
       "      <td>19-03-2008</td>\n",
       "      <td>2000000.0</td>\n",
       "    </tr>\n",
       "    <tr>\n",
       "      <th>5</th>\n",
       "      <td>http://004gmbh.de/en/004-interact</td>\n",
       "      <td>Software</td>\n",
       "      <td>operating</td>\n",
       "      <td>USA</td>\n",
       "      <td>IL</td>\n",
       "      <td>Springfield, Illinois</td>\n",
       "      <td>Champaign</td>\n",
       "      <td>01-01-2010</td>\n",
       "      <td>004technologies</td>\n",
       "      <td>/funding-round/1278dd4e6a37fa4b7d7e06c21b3c1830</td>\n",
       "      <td>venture</td>\n",
       "      <td>NaN</td>\n",
       "      <td>24-07-2014</td>\n",
       "      <td>0.0</td>\n",
       "    </tr>\n",
       "  </tbody>\n",
       "</table>\n",
       "</div>"
      ],
      "text/plain": [
       "                        homepage_url  \\\n",
       "0                 http://livfame.com   \n",
       "1             http://www.qounter.com   \n",
       "3                http://oneofthem.jp   \n",
       "4                 http://www.0-6.com   \n",
       "5  http://004gmbh.de/en/004-interact   \n",
       "\n",
       "                                       category_list     status country_code  \\\n",
       "0                                              Media  operating          IND   \n",
       "1  Application Platforms|Real Time|Social Network...  operating          USA   \n",
       "3                                  Apps|Games|Mobile  operating            0   \n",
       "4                                        Curated Web  operating          CHN   \n",
       "5                                           Software  operating          USA   \n",
       "\n",
       "  state_code                 region           city  founded_at  \\\n",
       "0         16                 Mumbai         Mumbai         NaN   \n",
       "1         DE             DE - Other  Delaware City  04-09-2014   \n",
       "3        NaN                    NaN            NaN         NaN   \n",
       "4         22                Beijing        Beijing  01-01-2007   \n",
       "5         IL  Springfield, Illinois      Champaign  01-01-2010   \n",
       "\n",
       "           Company                          funding_round_permalink  \\\n",
       "0             fame  /funding-round/9a01d05418af9f794eebff7ace91f638   \n",
       "1          qounter  /funding-round/22dacff496eb7acb2b901dec1dfe5633   \n",
       "3  theoneoftheminc  /funding-round/650b8f704416801069bb178a1418776b   \n",
       "4            06com  /funding-round/5727accaeaa57461bd22a9bdd945382d   \n",
       "5  004technologies  /funding-round/1278dd4e6a37fa4b7d7e06c21b3c1830   \n",
       "\n",
       "  funding_round_type funding_round_code   funded_at  raised_amount_usd  \n",
       "0            venture                  B  05-01-2015         10000000.0  \n",
       "1            venture                  A  14-10-2014                0.0  \n",
       "3            venture                  B  30-01-2014          3406878.0  \n",
       "4            venture                  A  19-03-2008          2000000.0  \n",
       "5            venture                NaN  24-07-2014                0.0  "
      ]
     },
     "execution_count": 30,
     "metadata": {},
     "output_type": "execute_result"
    }
   ],
   "source": [
    "master_frame_venture = master_frame.query('funding_round_type == \"venture\"')\n",
    "master_frame_venture.head()"
   ]
  },
  {
   "cell_type": "code",
   "execution_count": 31,
   "metadata": {},
   "outputs": [
    {
     "data": {
      "text/plain": [
       "homepage_url                2543\n",
       "category_list                721\n",
       "status                         0\n",
       "country_code                   0\n",
       "state_code                  3142\n",
       "region                      2904\n",
       "city                        2904\n",
       "founded_at                  9603\n",
       "Company                        0\n",
       "funding_round_permalink        0\n",
       "funding_round_type             0\n",
       "funding_round_code         22700\n",
       "funded_at                      0\n",
       "raised_amount_usd              0\n",
       "dtype: int64"
      ]
     },
     "execution_count": 31,
     "metadata": {},
     "output_type": "execute_result"
    }
   ],
   "source": [
    "## Checking for missing values.\n",
    "master_frame_venture.isna().sum()"
   ]
  },
  {
   "cell_type": "markdown",
   "metadata": {},
   "source": [
    "# Problem 3 <- COUNTRY ANALYSIS"
   ]
  },
  {
   "cell_type": "markdown",
   "metadata": {},
   "source": [
    "### Q1.Top nine countries which have received the highest total funding ?"
   ]
  },
  {
   "cell_type": "code",
   "execution_count": 32,
   "metadata": {},
   "outputs": [
    {
     "data": {
      "text/html": [
       "<div>\n",
       "<style scoped>\n",
       "    .dataframe tbody tr th:only-of-type {\n",
       "        vertical-align: middle;\n",
       "    }\n",
       "\n",
       "    .dataframe tbody tr th {\n",
       "        vertical-align: top;\n",
       "    }\n",
       "\n",
       "    .dataframe thead th {\n",
       "        text-align: right;\n",
       "    }\n",
       "</style>\n",
       "<table border=\"1\" class=\"dataframe\">\n",
       "  <thead>\n",
       "    <tr style=\"text-align: right;\">\n",
       "      <th></th>\n",
       "      <th>country_code</th>\n",
       "      <th>raised_amount_usd</th>\n",
       "    </tr>\n",
       "  </thead>\n",
       "  <tbody>\n",
       "    <tr>\n",
       "      <th>0</th>\n",
       "      <td>USA</td>\n",
       "      <td>4.008023e+11</td>\n",
       "    </tr>\n",
       "    <tr>\n",
       "      <th>1</th>\n",
       "      <td>CHN</td>\n",
       "      <td>3.910177e+10</td>\n",
       "    </tr>\n",
       "    <tr>\n",
       "      <th>2</th>\n",
       "      <td>0</td>\n",
       "      <td>1.979664e+10</td>\n",
       "    </tr>\n",
       "    <tr>\n",
       "      <th>3</th>\n",
       "      <td>GBR</td>\n",
       "      <td>1.834651e+10</td>\n",
       "    </tr>\n",
       "    <tr>\n",
       "      <th>4</th>\n",
       "      <td>IND</td>\n",
       "      <td>1.409556e+10</td>\n",
       "    </tr>\n",
       "    <tr>\n",
       "      <th>5</th>\n",
       "      <td>CAN</td>\n",
       "      <td>8.839931e+09</td>\n",
       "    </tr>\n",
       "    <tr>\n",
       "      <th>6</th>\n",
       "      <td>FRA</td>\n",
       "      <td>6.775044e+09</td>\n",
       "    </tr>\n",
       "    <tr>\n",
       "      <th>7</th>\n",
       "      <td>ISR</td>\n",
       "      <td>6.503021e+09</td>\n",
       "    </tr>\n",
       "    <tr>\n",
       "      <th>8</th>\n",
       "      <td>DEU</td>\n",
       "      <td>6.061141e+09</td>\n",
       "    </tr>\n",
       "  </tbody>\n",
       "</table>\n",
       "</div>"
      ],
      "text/plain": [
       "  country_code  raised_amount_usd\n",
       "0          USA       4.008023e+11\n",
       "1          CHN       3.910177e+10\n",
       "2            0       1.979664e+10\n",
       "3          GBR       1.834651e+10\n",
       "4          IND       1.409556e+10\n",
       "5          CAN       8.839931e+09\n",
       "6          FRA       6.775044e+09\n",
       "7          ISR       6.503021e+09\n",
       "8          DEU       6.061141e+09"
      ]
     },
     "execution_count": 32,
     "metadata": {},
     "output_type": "execute_result"
    }
   ],
   "source": [
    "top9 = master_frame_venture.groupby('country_code')['raised_amount_usd'].sum().sort_values(ascending=False).head(9)\n",
    "top9 = pd.DataFrame(top9)\n",
    "top9 = top9.reset_index(inplace=False)\n",
    "top9"
   ]
  },
  {
   "cell_type": "markdown",
   "metadata": {},
   "source": [
    "### Q2. Identify the top three English-speaking countries in the data frame top9 ?"
   ]
  },
  {
   "cell_type": "code",
   "execution_count": 33,
   "metadata": {},
   "outputs": [],
   "source": [
    "country_code = ['USA','CHN','GBR','IND','CAN','FRA','ISR','DEU','JPN']"
   ]
  },
  {
   "cell_type": "markdown",
   "metadata": {},
   "source": [
    "- Importing files of countries code and countries where english is an official language and finally merging both the files"
   ]
  },
  {
   "cell_type": "code",
   "execution_count": 34,
   "metadata": {},
   "outputs": [],
   "source": [
    "a = pd.read_excel('C:/Users/Administrator/Desktop/Python/Teclov/Teclov/countries english official.xlsx')\n",
    "b = pd.read_excel('C:/Users/Administrator/Desktop/Python/Teclov/Teclov/countries with codes.xlsx')\n",
    "c = pd.merge(a,b)\n",
    "c = c.drop('country_name',axis=1)"
   ]
  },
  {
   "cell_type": "markdown",
   "metadata": {},
   "source": [
    "- Checking how many countries in our Top 9 dataframe have english as their official language"
   ]
  },
  {
   "cell_type": "code",
   "execution_count": 35,
   "metadata": {},
   "outputs": [],
   "source": [
    "d = c[c['country_code'].isin(country_code)]   # There are 4 countries in our Top 9 dataframe that have english as official language."
   ]
  },
  {
   "cell_type": "code",
   "execution_count": 36,
   "metadata": {},
   "outputs": [
    {
     "data": {
      "text/html": [
       "<div>\n",
       "<style scoped>\n",
       "    .dataframe tbody tr th:only-of-type {\n",
       "        vertical-align: middle;\n",
       "    }\n",
       "\n",
       "    .dataframe tbody tr th {\n",
       "        vertical-align: top;\n",
       "    }\n",
       "\n",
       "    .dataframe thead th {\n",
       "        text-align: right;\n",
       "    }\n",
       "</style>\n",
       "<table border=\"1\" class=\"dataframe\">\n",
       "  <thead>\n",
       "    <tr style=\"text-align: right;\">\n",
       "      <th></th>\n",
       "      <th>country_code</th>\n",
       "      <th>raised_amount_usd</th>\n",
       "    </tr>\n",
       "  </thead>\n",
       "  <tbody>\n",
       "    <tr>\n",
       "      <th>0</th>\n",
       "      <td>USA</td>\n",
       "      <td>4.008023e+11</td>\n",
       "    </tr>\n",
       "    <tr>\n",
       "      <th>1</th>\n",
       "      <td>GBR</td>\n",
       "      <td>1.834651e+10</td>\n",
       "    </tr>\n",
       "    <tr>\n",
       "      <th>2</th>\n",
       "      <td>IND</td>\n",
       "      <td>1.409556e+10</td>\n",
       "    </tr>\n",
       "  </tbody>\n",
       "</table>\n",
       "</div>"
      ],
      "text/plain": [
       "  country_code  raised_amount_usd\n",
       "0          USA       4.008023e+11\n",
       "1          GBR       1.834651e+10\n",
       "2          IND       1.409556e+10"
      ]
     },
     "execution_count": 36,
     "metadata": {},
     "output_type": "execute_result"
    }
   ],
   "source": [
    "e = pd.merge(top9,d,how='inner')   ### These are the countries that have english as an official language\n",
    "e.sort_values('raised_amount_usd',ascending=False).head(3)     "
   ]
  },
  {
   "cell_type": "markdown",
   "metadata": {},
   "source": [
    "### Q3. Top English-speaking country ?"
   ]
  },
  {
   "cell_type": "code",
   "execution_count": 37,
   "metadata": {},
   "outputs": [
    {
     "data": {
      "text/plain": [
       "country_code                 USA\n",
       "raised_amount_usd    4.00802e+11\n",
       "Name: 0, dtype: object"
      ]
     },
     "execution_count": 37,
     "metadata": {},
     "output_type": "execute_result"
    }
   ],
   "source": [
    "e.sort_values('raised_amount_usd',ascending=False).iloc[0,:]"
   ]
  },
  {
   "cell_type": "markdown",
   "metadata": {},
   "source": [
    "### Q2. Second English-speaking country ?"
   ]
  },
  {
   "cell_type": "code",
   "execution_count": 38,
   "metadata": {},
   "outputs": [
    {
     "data": {
      "text/plain": [
       "country_code                 GBR\n",
       "raised_amount_usd    1.83465e+10\n",
       "Name: 1, dtype: object"
      ]
     },
     "execution_count": 38,
     "metadata": {},
     "output_type": "execute_result"
    }
   ],
   "source": [
    "e.sort_values('raised_amount_usd',ascending=False).iloc[1,:]"
   ]
  },
  {
   "cell_type": "markdown",
   "metadata": {},
   "source": [
    "### Q4. Third English-speaking country ?"
   ]
  },
  {
   "cell_type": "code",
   "execution_count": 39,
   "metadata": {},
   "outputs": [
    {
     "data": {
      "text/plain": [
       "country_code                 IND\n",
       "raised_amount_usd    1.40956e+10\n",
       "Name: 2, dtype: object"
      ]
     },
     "execution_count": 39,
     "metadata": {},
     "output_type": "execute_result"
    }
   ],
   "source": [
    "e.sort_values('raised_amount_usd',ascending=False).iloc[2,:]"
   ]
  },
  {
   "cell_type": "code",
   "execution_count": 40,
   "metadata": {},
   "outputs": [
    {
     "data": {
      "text/plain": [
       "(51581, 14)"
      ]
     },
     "execution_count": 40,
     "metadata": {},
     "output_type": "execute_result"
    }
   ],
   "source": [
    "master_frame_venture.shape"
   ]
  },
  {
   "cell_type": "markdown",
   "metadata": {},
   "source": [
    "### From our analysis till now, we can say that we know the three most investment-friendly countries and the most suited funding type i.e. \"Venture\" for Teclov."
   ]
  },
  {
   "cell_type": "markdown",
   "metadata": {},
   "source": [
    "# Problem 4 <- SECTOR ANALYSIS 1"
   ]
  },
  {
   "cell_type": "markdown",
   "metadata": {},
   "source": [
    "### Q1. Extracting primary sector of category_list from companies dataframe ?"
   ]
  },
  {
   "cell_type": "code",
   "execution_count": 41,
   "metadata": {},
   "outputs": [],
   "source": [
    "## Importing mapping dataset\n",
    "mapping = pd.read_csv('C:/Users/Administrator/Desktop/Python/Teclov/Teclov/mapping.csv')"
   ]
  },
  {
   "cell_type": "code",
   "execution_count": 42,
   "metadata": {},
   "outputs": [
    {
     "data": {
      "text/plain": [
       "(688, 10)"
      ]
     },
     "execution_count": 42,
     "metadata": {},
     "output_type": "execute_result"
    }
   ],
   "source": [
    "mapping.shape"
   ]
  },
  {
   "cell_type": "code",
   "execution_count": 43,
   "metadata": {},
   "outputs": [
    {
     "data": {
      "text/html": [
       "<div>\n",
       "<style scoped>\n",
       "    .dataframe tbody tr th:only-of-type {\n",
       "        vertical-align: middle;\n",
       "    }\n",
       "\n",
       "    .dataframe tbody tr th {\n",
       "        vertical-align: top;\n",
       "    }\n",
       "\n",
       "    .dataframe thead th {\n",
       "        text-align: right;\n",
       "    }\n",
       "</style>\n",
       "<table border=\"1\" class=\"dataframe\">\n",
       "  <thead>\n",
       "    <tr style=\"text-align: right;\">\n",
       "      <th></th>\n",
       "      <th>0</th>\n",
       "      <th>1</th>\n",
       "    </tr>\n",
       "  </thead>\n",
       "  <tbody>\n",
       "    <tr>\n",
       "      <th>0</th>\n",
       "      <td>Media</td>\n",
       "      <td>None</td>\n",
       "    </tr>\n",
       "    <tr>\n",
       "      <th>1</th>\n",
       "      <td>Application Platforms</td>\n",
       "      <td>Real Time|Social Network Media</td>\n",
       "    </tr>\n",
       "    <tr>\n",
       "      <th>3</th>\n",
       "      <td>Apps</td>\n",
       "      <td>Games|Mobile</td>\n",
       "    </tr>\n",
       "    <tr>\n",
       "      <th>4</th>\n",
       "      <td>Curated Web</td>\n",
       "      <td>None</td>\n",
       "    </tr>\n",
       "    <tr>\n",
       "      <th>5</th>\n",
       "      <td>Software</td>\n",
       "      <td>None</td>\n",
       "    </tr>\n",
       "  </tbody>\n",
       "</table>\n",
       "</div>"
      ],
      "text/plain": [
       "                       0                               1\n",
       "0                  Media                            None\n",
       "1  Application Platforms  Real Time|Social Network Media\n",
       "3                   Apps                    Games|Mobile\n",
       "4            Curated Web                            None\n",
       "5               Software                            None"
      ]
     },
     "execution_count": 43,
     "metadata": {},
     "output_type": "execute_result"
    }
   ],
   "source": [
    "prim_sector = master_frame_venture['category_list'].str.split('|',n=1,expand=True)\n",
    "prim_sector.head()"
   ]
  },
  {
   "cell_type": "code",
   "execution_count": 44,
   "metadata": {},
   "outputs": [
    {
     "data": {
      "text/plain": [
       "(51581, 2)"
      ]
     },
     "execution_count": 44,
     "metadata": {},
     "output_type": "execute_result"
    }
   ],
   "source": [
    "prim_sector.shape"
   ]
  },
  {
   "cell_type": "code",
   "execution_count": 45,
   "metadata": {},
   "outputs": [
    {
     "name": "stderr",
     "output_type": "stream",
     "text": [
      "C:\\ProgramData\\Anaconda3\\lib\\site-packages\\ipykernel_launcher.py:2: SettingWithCopyWarning: \n",
      "A value is trying to be set on a copy of a slice from a DataFrame.\n",
      "Try using .loc[row_indexer,col_indexer] = value instead\n",
      "\n",
      "See the caveats in the documentation: http://pandas.pydata.org/pandas-docs/stable/indexing.html#indexing-view-versus-copy\n",
      "  \n"
     ]
    }
   ],
   "source": [
    "# Filling the 'Primary_Sector' column with the extrated category values.\n",
    "master_frame_venture['Primary_Sector']= prim_sector[0]"
   ]
  },
  {
   "cell_type": "code",
   "execution_count": 46,
   "metadata": {},
   "outputs": [
    {
     "data": {
      "text/plain": [
       "1"
      ]
     },
     "execution_count": 46,
     "metadata": {},
     "output_type": "execute_result"
    }
   ],
   "source": [
    "## Checking for null values in category_list of mapping dataframe\n",
    "mapping['category_list'].isnull().sum()"
   ]
  },
  {
   "cell_type": "code",
   "execution_count": 47,
   "metadata": {},
   "outputs": [],
   "source": [
    "## Replacing 'NAN' value with 0.\n",
    "mapping['category_list']=mapping['category_list'].str.replace('0','NaN')"
   ]
  },
  {
   "cell_type": "code",
   "execution_count": 48,
   "metadata": {},
   "outputs": [
    {
     "data": {
      "text/plain": [
       "Index(['category_list', 'Automotive & Sports', 'Blanks',\n",
       "       'Cleantech / Semiconductors', 'Entertainment', 'Health',\n",
       "       'Manufacturing', 'News, Search and Messaging', 'Others',\n",
       "       'Social, Finance, Analytics, Advertising'],\n",
       "      dtype='object')"
      ]
     },
     "execution_count": 48,
     "metadata": {},
     "output_type": "execute_result"
    }
   ],
   "source": [
    "mapping.columns"
   ]
  },
  {
   "cell_type": "code",
   "execution_count": 49,
   "metadata": {},
   "outputs": [],
   "source": [
    "## Using melt function to get all the columns(8 main sectors) as rows.\n",
    "melted=pd.melt(mapping, id_vars=['category_list'],value_vars=['Automotive & Sports', 'Blanks',\n",
    "       'Cleantech / Semiconductors', 'Entertainment', 'Health',\n",
    "       'Manufacturing', 'News, Search and Messaging', 'Others',\n",
    "       'Social, Finance, Analytics, Advertising'])"
   ]
  },
  {
   "cell_type": "code",
   "execution_count": 50,
   "metadata": {},
   "outputs": [
    {
     "data": {
      "text/html": [
       "<div>\n",
       "<style scoped>\n",
       "    .dataframe tbody tr th:only-of-type {\n",
       "        vertical-align: middle;\n",
       "    }\n",
       "\n",
       "    .dataframe tbody tr th {\n",
       "        vertical-align: top;\n",
       "    }\n",
       "\n",
       "    .dataframe thead th {\n",
       "        text-align: right;\n",
       "    }\n",
       "</style>\n",
       "<table border=\"1\" class=\"dataframe\">\n",
       "  <thead>\n",
       "    <tr style=\"text-align: right;\">\n",
       "      <th></th>\n",
       "      <th>category_list</th>\n",
       "      <th>variable</th>\n",
       "      <th>value</th>\n",
       "    </tr>\n",
       "  </thead>\n",
       "  <tbody>\n",
       "    <tr>\n",
       "      <th>8</th>\n",
       "      <td>Adventure Travel</td>\n",
       "      <td>Automotive &amp; Sports</td>\n",
       "      <td>1</td>\n",
       "    </tr>\n",
       "    <tr>\n",
       "      <th>14</th>\n",
       "      <td>Aerospace</td>\n",
       "      <td>Automotive &amp; Sports</td>\n",
       "      <td>1</td>\n",
       "    </tr>\n",
       "    <tr>\n",
       "      <th>45</th>\n",
       "      <td>Auto</td>\n",
       "      <td>Automotive &amp; Sports</td>\n",
       "      <td>1</td>\n",
       "    </tr>\n",
       "    <tr>\n",
       "      <th>46</th>\n",
       "      <td>Automated Kiosk</td>\n",
       "      <td>Automotive &amp; Sports</td>\n",
       "      <td>1</td>\n",
       "    </tr>\n",
       "    <tr>\n",
       "      <th>47</th>\n",
       "      <td>Automotive</td>\n",
       "      <td>Automotive &amp; Sports</td>\n",
       "      <td>1</td>\n",
       "    </tr>\n",
       "  </tbody>\n",
       "</table>\n",
       "</div>"
      ],
      "text/plain": [
       "       category_list             variable  value\n",
       "8   Adventure Travel  Automotive & Sports      1\n",
       "14         Aerospace  Automotive & Sports      1\n",
       "45              Auto  Automotive & Sports      1\n",
       "46   Automated Kiosk  Automotive & Sports      1\n",
       "47        Automotive  Automotive & Sports      1"
      ]
     },
     "execution_count": 50,
     "metadata": {},
     "output_type": "execute_result"
    }
   ],
   "source": [
    "# Filtering melted dataframe with value as 1\n",
    "melted = melted.query('value == 1')\n",
    "melted.head()"
   ]
  },
  {
   "cell_type": "code",
   "execution_count": 51,
   "metadata": {},
   "outputs": [],
   "source": [
    "# Changing column names\n",
    "melted=melted.rename(columns={'category_list':'Primary_Sector','variable':'main_sector'})"
   ]
  },
  {
   "cell_type": "code",
   "execution_count": 52,
   "metadata": {},
   "outputs": [],
   "source": [
    "# Dropping the value column as it is not necessary.\n",
    "melted=melted.drop('value',axis=1)"
   ]
  },
  {
   "cell_type": "code",
   "execution_count": 53,
   "metadata": {},
   "outputs": [
    {
     "data": {
      "text/plain": [
       "main_sector\n",
       "Automotive & Sports                          832\n",
       "Blanks                                       721\n",
       "Cleantech / Semiconductors                  9958\n",
       "Entertainment                               2994\n",
       "Health                                      4132\n",
       "Manufacturing                               3552\n",
       "News, Search and Messaging                  6360\n",
       "Others                                     12015\n",
       "Social, Finance, Analytics, Advertising     7607\n",
       "Name: main_sector, dtype: int64"
      ]
     },
     "execution_count": 53,
     "metadata": {},
     "output_type": "execute_result"
    }
   ],
   "source": [
    "# Creating a merged dataframe as melted_FT\n",
    "master_FT = pd.merge(master_frame_venture,melted,on='Primary_Sector',how='inner')\n",
    "master_FT.groupby('main_sector')['main_sector'].count()"
   ]
  },
  {
   "cell_type": "code",
   "execution_count": 54,
   "metadata": {},
   "outputs": [
    {
     "data": {
      "text/html": [
       "<div>\n",
       "<style scoped>\n",
       "    .dataframe tbody tr th:only-of-type {\n",
       "        vertical-align: middle;\n",
       "    }\n",
       "\n",
       "    .dataframe tbody tr th {\n",
       "        vertical-align: top;\n",
       "    }\n",
       "\n",
       "    .dataframe thead th {\n",
       "        text-align: right;\n",
       "    }\n",
       "</style>\n",
       "<table border=\"1\" class=\"dataframe\">\n",
       "  <thead>\n",
       "    <tr style=\"text-align: right;\">\n",
       "      <th></th>\n",
       "      <th>homepage_url</th>\n",
       "      <th>category_list</th>\n",
       "      <th>status</th>\n",
       "      <th>country_code</th>\n",
       "      <th>state_code</th>\n",
       "      <th>region</th>\n",
       "      <th>city</th>\n",
       "      <th>founded_at</th>\n",
       "      <th>Company</th>\n",
       "      <th>funding_round_permalink</th>\n",
       "      <th>funding_round_type</th>\n",
       "      <th>funding_round_code</th>\n",
       "      <th>funded_at</th>\n",
       "      <th>raised_amount_usd</th>\n",
       "      <th>Primary_Sector</th>\n",
       "      <th>main_sector</th>\n",
       "    </tr>\n",
       "  </thead>\n",
       "  <tbody>\n",
       "    <tr>\n",
       "      <th>0</th>\n",
       "      <td>http://livfame.com</td>\n",
       "      <td>Media</td>\n",
       "      <td>operating</td>\n",
       "      <td>IND</td>\n",
       "      <td>16</td>\n",
       "      <td>Mumbai</td>\n",
       "      <td>Mumbai</td>\n",
       "      <td>NaN</td>\n",
       "      <td>fame</td>\n",
       "      <td>/funding-round/9a01d05418af9f794eebff7ace91f638</td>\n",
       "      <td>venture</td>\n",
       "      <td>B</td>\n",
       "      <td>05-01-2015</td>\n",
       "      <td>10000000.0</td>\n",
       "      <td>Media</td>\n",
       "      <td>Entertainment</td>\n",
       "    </tr>\n",
       "    <tr>\n",
       "      <th>1</th>\n",
       "      <td>http://www.90min.com</td>\n",
       "      <td>Media|News|Publishing|Soccer|Sports</td>\n",
       "      <td>operating</td>\n",
       "      <td>GBR</td>\n",
       "      <td>H9</td>\n",
       "      <td>London</td>\n",
       "      <td>London</td>\n",
       "      <td>01-01-2011</td>\n",
       "      <td>90min</td>\n",
       "      <td>/funding-round/21a2cbf6f2fb2a1c2a61e04bf930dfe6</td>\n",
       "      <td>venture</td>\n",
       "      <td>NaN</td>\n",
       "      <td>06-10-2015</td>\n",
       "      <td>15000000.0</td>\n",
       "      <td>Media</td>\n",
       "      <td>Entertainment</td>\n",
       "    </tr>\n",
       "    <tr>\n",
       "      <th>2</th>\n",
       "      <td>http://www.90min.com</td>\n",
       "      <td>Media|News|Publishing|Soccer|Sports</td>\n",
       "      <td>operating</td>\n",
       "      <td>GBR</td>\n",
       "      <td>H9</td>\n",
       "      <td>London</td>\n",
       "      <td>London</td>\n",
       "      <td>01-01-2011</td>\n",
       "      <td>90min</td>\n",
       "      <td>/funding-round/bd626ed022f5c66574b1afe234f3c90d</td>\n",
       "      <td>venture</td>\n",
       "      <td>NaN</td>\n",
       "      <td>07-05-2013</td>\n",
       "      <td>5800000.0</td>\n",
       "      <td>Media</td>\n",
       "      <td>Entertainment</td>\n",
       "    </tr>\n",
       "    <tr>\n",
       "      <th>3</th>\n",
       "      <td>http://www.90min.com</td>\n",
       "      <td>Media|News|Publishing|Soccer|Sports</td>\n",
       "      <td>operating</td>\n",
       "      <td>GBR</td>\n",
       "      <td>H9</td>\n",
       "      <td>London</td>\n",
       "      <td>London</td>\n",
       "      <td>01-01-2011</td>\n",
       "      <td>90min</td>\n",
       "      <td>/funding-round/fd4b15e8c97ee2ffc0acccdbe1a98810</td>\n",
       "      <td>venture</td>\n",
       "      <td>NaN</td>\n",
       "      <td>26-03-2014</td>\n",
       "      <td>18000000.0</td>\n",
       "      <td>Media</td>\n",
       "      <td>Entertainment</td>\n",
       "    </tr>\n",
       "    <tr>\n",
       "      <th>4</th>\n",
       "      <td>http://alldefdigital.com</td>\n",
       "      <td>Media</td>\n",
       "      <td>operating</td>\n",
       "      <td>USA</td>\n",
       "      <td>CA</td>\n",
       "      <td>Los Angeles</td>\n",
       "      <td>Los Angeles</td>\n",
       "      <td>NaN</td>\n",
       "      <td>alldefdigital</td>\n",
       "      <td>/funding-round/452a2342fe720285c3b92e9bd927d9ba</td>\n",
       "      <td>venture</td>\n",
       "      <td>A</td>\n",
       "      <td>06-08-2014</td>\n",
       "      <td>5000000.0</td>\n",
       "      <td>Media</td>\n",
       "      <td>Entertainment</td>\n",
       "    </tr>\n",
       "  </tbody>\n",
       "</table>\n",
       "</div>"
      ],
      "text/plain": [
       "               homepage_url                        category_list     status  \\\n",
       "0        http://livfame.com                                Media  operating   \n",
       "1      http://www.90min.com  Media|News|Publishing|Soccer|Sports  operating   \n",
       "2      http://www.90min.com  Media|News|Publishing|Soccer|Sports  operating   \n",
       "3      http://www.90min.com  Media|News|Publishing|Soccer|Sports  operating   \n",
       "4  http://alldefdigital.com                                Media  operating   \n",
       "\n",
       "  country_code state_code       region         city  founded_at  \\\n",
       "0          IND         16       Mumbai       Mumbai         NaN   \n",
       "1          GBR         H9       London       London  01-01-2011   \n",
       "2          GBR         H9       London       London  01-01-2011   \n",
       "3          GBR         H9       London       London  01-01-2011   \n",
       "4          USA         CA  Los Angeles  Los Angeles         NaN   \n",
       "\n",
       "         Company                          funding_round_permalink  \\\n",
       "0           fame  /funding-round/9a01d05418af9f794eebff7ace91f638   \n",
       "1          90min  /funding-round/21a2cbf6f2fb2a1c2a61e04bf930dfe6   \n",
       "2          90min  /funding-round/bd626ed022f5c66574b1afe234f3c90d   \n",
       "3          90min  /funding-round/fd4b15e8c97ee2ffc0acccdbe1a98810   \n",
       "4  alldefdigital  /funding-round/452a2342fe720285c3b92e9bd927d9ba   \n",
       "\n",
       "  funding_round_type funding_round_code   funded_at  raised_amount_usd  \\\n",
       "0            venture                  B  05-01-2015         10000000.0   \n",
       "1            venture                NaN  06-10-2015         15000000.0   \n",
       "2            venture                NaN  07-05-2013          5800000.0   \n",
       "3            venture                NaN  26-03-2014         18000000.0   \n",
       "4            venture                  A  06-08-2014          5000000.0   \n",
       "\n",
       "  Primary_Sector    main_sector  \n",
       "0          Media  Entertainment  \n",
       "1          Media  Entertainment  \n",
       "2          Media  Entertainment  \n",
       "3          Media  Entertainment  \n",
       "4          Media  Entertainment  "
      ]
     },
     "execution_count": 54,
     "metadata": {},
     "output_type": "execute_result"
    }
   ],
   "source": [
    "#We are removing Blank main sectors as those are having no part in our analysis.\n",
    "master_FT = master_FT.query('main_sector != \"Blanks\"')\n",
    "master_FT.head()"
   ]
  },
  {
   "cell_type": "code",
   "execution_count": 55,
   "metadata": {},
   "outputs": [
    {
     "data": {
      "text/plain": [
       "main_sector\n",
       "Automotive & Sports                          832\n",
       "Cleantech / Semiconductors                  9958\n",
       "Entertainment                               2994\n",
       "Health                                      4132\n",
       "Manufacturing                               3552\n",
       "News, Search and Messaging                  6360\n",
       "Others                                     12015\n",
       "Social, Finance, Analytics, Advertising     7607\n",
       "Name: main_sector, dtype: int64"
      ]
     },
     "execution_count": 55,
     "metadata": {},
     "output_type": "execute_result"
    }
   ],
   "source": [
    "# Now we have 8 main sectors.\n",
    "master_FT.groupby('main_sector')['main_sector'].count()"
   ]
  },
  {
   "cell_type": "code",
   "execution_count": 56,
   "metadata": {},
   "outputs": [
    {
     "data": {
      "text/plain": [
       "(47450, 16)"
      ]
     },
     "execution_count": 56,
     "metadata": {},
     "output_type": "execute_result"
    }
   ],
   "source": [
    "master_FT.shape"
   ]
  },
  {
   "cell_type": "markdown",
   "metadata": {},
   "source": [
    "# Problem 5 <- SECTOR ANALYSIS 2"
   ]
  },
  {
   "cell_type": "code",
   "execution_count": 57,
   "metadata": {},
   "outputs": [],
   "source": [
    "# Copying only those company details for which investemnts have been been between 5 to 15 milions in a new Dataframe 'master_FT_5M_15M'. \n",
    "master_FT_5M_15M = master_FT[master_FT['raised_amount_usd'].between(5000000,15000000,inclusive=True)]"
   ]
  },
  {
   "cell_type": "code",
   "execution_count": 58,
   "metadata": {},
   "outputs": [
    {
     "data": {
      "text/plain": [
       "(14212, 16)"
      ]
     },
     "execution_count": 58,
     "metadata": {},
     "output_type": "execute_result"
    }
   ],
   "source": [
    "master_FT_5M_15M.shape"
   ]
  },
  {
   "cell_type": "markdown",
   "metadata": {},
   "source": [
    "### Q1. Creating three separate data frames D1, D2 and D3 for each of the three countries containing the observations of funding type FT falling within the 5-15 million USD range with certain conditions"
   ]
  },
  {
   "cell_type": "code",
   "execution_count": 59,
   "metadata": {},
   "outputs": [],
   "source": [
    "## Creating D1\n",
    "D1 = master_FT_5M_15M.query('country_code == \"USA\" and 5000000<= raised_amount_usd <= 15000000')\n",
    "D1 = D1.assign(count_of_invest =D1.groupby('main_sector')['main_sector'].transform('count'))\n",
    "D1 = D1.assign(sum_of_invest =D1.groupby('main_sector')['raised_amount_usd'].transform('sum'))"
   ]
  },
  {
   "cell_type": "code",
   "execution_count": 60,
   "metadata": {},
   "outputs": [],
   "source": [
    "## Creating D2\n",
    "D2 = master_FT_5M_15M.query('country_code == \"GBR\" and 5000000<= raised_amount_usd <= 15000000')\n",
    "D2 = D2.assign(count_of_invest =D2.groupby('main_sector')['main_sector'].transform('count'))\n",
    "D2 = D2.assign(sum_of_invest =D2.groupby('main_sector')['raised_amount_usd'].transform('sum'))"
   ]
  },
  {
   "cell_type": "code",
   "execution_count": 61,
   "metadata": {},
   "outputs": [],
   "source": [
    "## Creating D3\n",
    "D3 = master_FT_5M_15M.query('country_code == \"IND\" and 5000000<= raised_amount_usd <= 15000000')\n",
    "D3 = D3.assign(count_of_invest =D3.groupby('main_sector')['main_sector'].transform('count'))\n",
    "D3 = D3.assign(sum_of_invest =D3.groupby('main_sector')['raised_amount_usd'].transform('sum'))"
   ]
  },
  {
   "cell_type": "code",
   "execution_count": 62,
   "metadata": {},
   "outputs": [
    {
     "data": {
      "text/html": [
       "<div>\n",
       "<style scoped>\n",
       "    .dataframe tbody tr th:only-of-type {\n",
       "        vertical-align: middle;\n",
       "    }\n",
       "\n",
       "    .dataframe tbody tr th {\n",
       "        vertical-align: top;\n",
       "    }\n",
       "\n",
       "    .dataframe thead th {\n",
       "        text-align: right;\n",
       "    }\n",
       "</style>\n",
       "<table border=\"1\" class=\"dataframe\">\n",
       "  <thead>\n",
       "    <tr style=\"text-align: right;\">\n",
       "      <th></th>\n",
       "      <th>homepage_url</th>\n",
       "      <th>category_list</th>\n",
       "      <th>status</th>\n",
       "      <th>country_code</th>\n",
       "      <th>state_code</th>\n",
       "      <th>region</th>\n",
       "      <th>city</th>\n",
       "      <th>founded_at</th>\n",
       "      <th>Company</th>\n",
       "      <th>funding_round_permalink</th>\n",
       "      <th>funding_round_type</th>\n",
       "      <th>funding_round_code</th>\n",
       "      <th>funded_at</th>\n",
       "      <th>raised_amount_usd</th>\n",
       "      <th>Primary_Sector</th>\n",
       "      <th>main_sector</th>\n",
       "    </tr>\n",
       "  </thead>\n",
       "  <tbody>\n",
       "  </tbody>\n",
       "</table>\n",
       "</div>"
      ],
      "text/plain": [
       "Empty DataFrame\n",
       "Columns: [homepage_url, category_list, status, country_code, state_code, region, city, founded_at, Company, funding_round_permalink, funding_round_type, funding_round_code, funded_at, raised_amount_usd, Primary_Sector, main_sector]\n",
       "Index: []"
      ]
     },
     "execution_count": 62,
     "metadata": {},
     "output_type": "execute_result"
    }
   ],
   "source": [
    "## Checking for null values in column 'main_sector' master_FT_5M_15M\n",
    "master_FT_5M_15M[master_FT_5M_15M['main_sector'].isnull()]"
   ]
  },
  {
   "cell_type": "code",
   "execution_count": 63,
   "metadata": {},
   "outputs": [
    {
     "data": {
      "text/html": [
       "<div>\n",
       "<style scoped>\n",
       "    .dataframe tbody tr th:only-of-type {\n",
       "        vertical-align: middle;\n",
       "    }\n",
       "\n",
       "    .dataframe tbody tr th {\n",
       "        vertical-align: top;\n",
       "    }\n",
       "\n",
       "    .dataframe thead th {\n",
       "        text-align: right;\n",
       "    }\n",
       "</style>\n",
       "<table border=\"1\" class=\"dataframe\">\n",
       "  <thead>\n",
       "    <tr style=\"text-align: right;\">\n",
       "      <th></th>\n",
       "      <th>homepage_url</th>\n",
       "      <th>category_list</th>\n",
       "      <th>status</th>\n",
       "      <th>country_code</th>\n",
       "      <th>state_code</th>\n",
       "      <th>region</th>\n",
       "      <th>city</th>\n",
       "      <th>founded_at</th>\n",
       "      <th>Company</th>\n",
       "      <th>funding_round_permalink</th>\n",
       "      <th>funding_round_type</th>\n",
       "      <th>funding_round_code</th>\n",
       "      <th>funded_at</th>\n",
       "      <th>raised_amount_usd</th>\n",
       "      <th>Primary_Sector</th>\n",
       "      <th>main_sector</th>\n",
       "      <th>count_of_invest</th>\n",
       "      <th>sum_of_invest</th>\n",
       "    </tr>\n",
       "  </thead>\n",
       "  <tbody>\n",
       "    <tr>\n",
       "      <th>4</th>\n",
       "      <td>http://alldefdigital.com</td>\n",
       "      <td>Media</td>\n",
       "      <td>operating</td>\n",
       "      <td>USA</td>\n",
       "      <td>CA</td>\n",
       "      <td>Los Angeles</td>\n",
       "      <td>Los Angeles</td>\n",
       "      <td>NaN</td>\n",
       "      <td>alldefdigital</td>\n",
       "      <td>/funding-round/452a2342fe720285c3b92e9bd927d9ba</td>\n",
       "      <td>venture</td>\n",
       "      <td>A</td>\n",
       "      <td>06-08-2014</td>\n",
       "      <td>5000000.0</td>\n",
       "      <td>Media</td>\n",
       "      <td>Entertainment</td>\n",
       "      <td>521</td>\n",
       "      <td>4.510748e+09</td>\n",
       "    </tr>\n",
       "    <tr>\n",
       "      <th>14</th>\n",
       "      <td>http://www.chefsfeed.com</td>\n",
       "      <td>Media|Mobile|Restaurants|Technology</td>\n",
       "      <td>operating</td>\n",
       "      <td>USA</td>\n",
       "      <td>CA</td>\n",
       "      <td>SF Bay Area</td>\n",
       "      <td>San Francisco</td>\n",
       "      <td>01-01-2012</td>\n",
       "      <td>chefsfeed</td>\n",
       "      <td>/funding-round/adca195749ae9ace84684723fbe75e5b</td>\n",
       "      <td>venture</td>\n",
       "      <td>A</td>\n",
       "      <td>26-02-2015</td>\n",
       "      <td>5000000.0</td>\n",
       "      <td>Media</td>\n",
       "      <td>Entertainment</td>\n",
       "      <td>521</td>\n",
       "      <td>4.510748e+09</td>\n",
       "    </tr>\n",
       "    <tr>\n",
       "      <th>21</th>\n",
       "      <td>http://www.huffingtonpost.com</td>\n",
       "      <td>Media|News|Publishing</td>\n",
       "      <td>acquired</td>\n",
       "      <td>USA</td>\n",
       "      <td>NY</td>\n",
       "      <td>New York City</td>\n",
       "      <td>New York</td>\n",
       "      <td>09-05-2005</td>\n",
       "      <td>huffingtonpost</td>\n",
       "      <td>/funding-round/7f05940c4d2dfecb8e50a0e5720e5065</td>\n",
       "      <td>venture</td>\n",
       "      <td>A</td>\n",
       "      <td>01-08-2006</td>\n",
       "      <td>5000000.0</td>\n",
       "      <td>Media</td>\n",
       "      <td>Entertainment</td>\n",
       "      <td>521</td>\n",
       "      <td>4.510748e+09</td>\n",
       "    </tr>\n",
       "    <tr>\n",
       "      <th>22</th>\n",
       "      <td>http://www.huffingtonpost.com</td>\n",
       "      <td>Media|News|Publishing</td>\n",
       "      <td>acquired</td>\n",
       "      <td>USA</td>\n",
       "      <td>NY</td>\n",
       "      <td>New York City</td>\n",
       "      <td>New York</td>\n",
       "      <td>09-05-2005</td>\n",
       "      <td>huffingtonpost</td>\n",
       "      <td>/funding-round/9241ae16e08df17ebdc064e49e23035a</td>\n",
       "      <td>venture</td>\n",
       "      <td>B</td>\n",
       "      <td>01-09-2007</td>\n",
       "      <td>5000000.0</td>\n",
       "      <td>Media</td>\n",
       "      <td>Entertainment</td>\n",
       "      <td>521</td>\n",
       "      <td>4.510748e+09</td>\n",
       "    </tr>\n",
       "    <tr>\n",
       "      <th>33</th>\n",
       "      <td>http://www.mediabong.com</td>\n",
       "      <td>Media|Semantic Search|Video</td>\n",
       "      <td>operating</td>\n",
       "      <td>USA</td>\n",
       "      <td>NY</td>\n",
       "      <td>New York City</td>\n",
       "      <td>New York</td>\n",
       "      <td>30-05-2011</td>\n",
       "      <td>mediabong</td>\n",
       "      <td>/funding-round/9282890ca87072025dc1807f400acee6</td>\n",
       "      <td>venture</td>\n",
       "      <td>B</td>\n",
       "      <td>13-05-2015</td>\n",
       "      <td>5000000.0</td>\n",
       "      <td>Media</td>\n",
       "      <td>Entertainment</td>\n",
       "      <td>521</td>\n",
       "      <td>4.510748e+09</td>\n",
       "    </tr>\n",
       "  </tbody>\n",
       "</table>\n",
       "</div>"
      ],
      "text/plain": [
       "                     homepage_url                        category_list  \\\n",
       "4        http://alldefdigital.com                                Media   \n",
       "14       http://www.chefsfeed.com  Media|Mobile|Restaurants|Technology   \n",
       "21  http://www.huffingtonpost.com                Media|News|Publishing   \n",
       "22  http://www.huffingtonpost.com                Media|News|Publishing   \n",
       "33       http://www.mediabong.com          Media|Semantic Search|Video   \n",
       "\n",
       "       status country_code state_code         region           city  \\\n",
       "4   operating          USA         CA    Los Angeles    Los Angeles   \n",
       "14  operating          USA         CA    SF Bay Area  San Francisco   \n",
       "21   acquired          USA         NY  New York City       New York   \n",
       "22   acquired          USA         NY  New York City       New York   \n",
       "33  operating          USA         NY  New York City       New York   \n",
       "\n",
       "    founded_at         Company  \\\n",
       "4          NaN   alldefdigital   \n",
       "14  01-01-2012       chefsfeed   \n",
       "21  09-05-2005  huffingtonpost   \n",
       "22  09-05-2005  huffingtonpost   \n",
       "33  30-05-2011       mediabong   \n",
       "\n",
       "                            funding_round_permalink funding_round_type  \\\n",
       "4   /funding-round/452a2342fe720285c3b92e9bd927d9ba            venture   \n",
       "14  /funding-round/adca195749ae9ace84684723fbe75e5b            venture   \n",
       "21  /funding-round/7f05940c4d2dfecb8e50a0e5720e5065            venture   \n",
       "22  /funding-round/9241ae16e08df17ebdc064e49e23035a            venture   \n",
       "33  /funding-round/9282890ca87072025dc1807f400acee6            venture   \n",
       "\n",
       "   funding_round_code   funded_at  raised_amount_usd Primary_Sector  \\\n",
       "4                   A  06-08-2014          5000000.0          Media   \n",
       "14                  A  26-02-2015          5000000.0          Media   \n",
       "21                  A  01-08-2006          5000000.0          Media   \n",
       "22                  B  01-09-2007          5000000.0          Media   \n",
       "33                  B  13-05-2015          5000000.0          Media   \n",
       "\n",
       "      main_sector  count_of_invest  sum_of_invest  \n",
       "4   Entertainment              521   4.510748e+09  \n",
       "14  Entertainment              521   4.510748e+09  \n",
       "21  Entertainment              521   4.510748e+09  \n",
       "22  Entertainment              521   4.510748e+09  \n",
       "33  Entertainment              521   4.510748e+09  "
      ]
     },
     "execution_count": 63,
     "metadata": {},
     "output_type": "execute_result"
    }
   ],
   "source": [
    "D1.head()"
   ]
  },
  {
   "cell_type": "code",
   "execution_count": 64,
   "metadata": {},
   "outputs": [
    {
     "data": {
      "text/html": [
       "<div>\n",
       "<style scoped>\n",
       "    .dataframe tbody tr th:only-of-type {\n",
       "        vertical-align: middle;\n",
       "    }\n",
       "\n",
       "    .dataframe tbody tr th {\n",
       "        vertical-align: top;\n",
       "    }\n",
       "\n",
       "    .dataframe thead th {\n",
       "        text-align: right;\n",
       "    }\n",
       "</style>\n",
       "<table border=\"1\" class=\"dataframe\">\n",
       "  <thead>\n",
       "    <tr style=\"text-align: right;\">\n",
       "      <th></th>\n",
       "      <th>homepage_url</th>\n",
       "      <th>category_list</th>\n",
       "      <th>status</th>\n",
       "      <th>country_code</th>\n",
       "      <th>state_code</th>\n",
       "      <th>region</th>\n",
       "      <th>city</th>\n",
       "      <th>founded_at</th>\n",
       "      <th>Company</th>\n",
       "      <th>funding_round_permalink</th>\n",
       "      <th>funding_round_type</th>\n",
       "      <th>funding_round_code</th>\n",
       "      <th>funded_at</th>\n",
       "      <th>raised_amount_usd</th>\n",
       "      <th>Primary_Sector</th>\n",
       "      <th>main_sector</th>\n",
       "      <th>count_of_invest</th>\n",
       "      <th>sum_of_invest</th>\n",
       "    </tr>\n",
       "  </thead>\n",
       "  <tbody>\n",
       "    <tr>\n",
       "      <th>1</th>\n",
       "      <td>http://www.90min.com</td>\n",
       "      <td>Media|News|Publishing|Soccer|Sports</td>\n",
       "      <td>operating</td>\n",
       "      <td>GBR</td>\n",
       "      <td>H9</td>\n",
       "      <td>London</td>\n",
       "      <td>London</td>\n",
       "      <td>01-01-2011</td>\n",
       "      <td>90min</td>\n",
       "      <td>/funding-round/21a2cbf6f2fb2a1c2a61e04bf930dfe6</td>\n",
       "      <td>venture</td>\n",
       "      <td>NaN</td>\n",
       "      <td>06-10-2015</td>\n",
       "      <td>15000000.0</td>\n",
       "      <td>Media</td>\n",
       "      <td>Entertainment</td>\n",
       "      <td>52</td>\n",
       "      <td>454411059.0</td>\n",
       "    </tr>\n",
       "    <tr>\n",
       "      <th>2</th>\n",
       "      <td>http://www.90min.com</td>\n",
       "      <td>Media|News|Publishing|Soccer|Sports</td>\n",
       "      <td>operating</td>\n",
       "      <td>GBR</td>\n",
       "      <td>H9</td>\n",
       "      <td>London</td>\n",
       "      <td>London</td>\n",
       "      <td>01-01-2011</td>\n",
       "      <td>90min</td>\n",
       "      <td>/funding-round/bd626ed022f5c66574b1afe234f3c90d</td>\n",
       "      <td>venture</td>\n",
       "      <td>NaN</td>\n",
       "      <td>07-05-2013</td>\n",
       "      <td>5800000.0</td>\n",
       "      <td>Media</td>\n",
       "      <td>Entertainment</td>\n",
       "      <td>52</td>\n",
       "      <td>454411059.0</td>\n",
       "    </tr>\n",
       "    <tr>\n",
       "      <th>85</th>\n",
       "      <td>http://commoninterestcommunities.com/</td>\n",
       "      <td>Application Platforms|Internet|Software|Startups</td>\n",
       "      <td>operating</td>\n",
       "      <td>GBR</td>\n",
       "      <td>H9</td>\n",
       "      <td>London</td>\n",
       "      <td>London</td>\n",
       "      <td>NaN</td>\n",
       "      <td>commoninterestcommunities</td>\n",
       "      <td>/funding-round/8195587cbd5e51af7514ee92ef4ba6ba</td>\n",
       "      <td>venture</td>\n",
       "      <td>NaN</td>\n",
       "      <td>09-07-2014</td>\n",
       "      <td>10000000.0</td>\n",
       "      <td>Application Platforms</td>\n",
       "      <td>News, Search and Messaging</td>\n",
       "      <td>66</td>\n",
       "      <td>558500705.0</td>\n",
       "    </tr>\n",
       "    <tr>\n",
       "      <th>101</th>\n",
       "      <td>http://www.geospock.com</td>\n",
       "      <td>Application Platforms|Databases|Real Time</td>\n",
       "      <td>operating</td>\n",
       "      <td>GBR</td>\n",
       "      <td>C3</td>\n",
       "      <td>London</td>\n",
       "      <td>Cambridge</td>\n",
       "      <td>01-01-2013</td>\n",
       "      <td>geospockltd</td>\n",
       "      <td>/funding-round/cf3fe3b7c86186b9f478d0ea37613f7a</td>\n",
       "      <td>venture</td>\n",
       "      <td>NaN</td>\n",
       "      <td>01-10-2014</td>\n",
       "      <td>5460000.0</td>\n",
       "      <td>Application Platforms</td>\n",
       "      <td>News, Search and Messaging</td>\n",
       "      <td>66</td>\n",
       "      <td>558500705.0</td>\n",
       "    </tr>\n",
       "    <tr>\n",
       "      <th>102</th>\n",
       "      <td>http://www.geospock.com</td>\n",
       "      <td>Application Platforms|Databases|Real Time</td>\n",
       "      <td>operating</td>\n",
       "      <td>GBR</td>\n",
       "      <td>C3</td>\n",
       "      <td>London</td>\n",
       "      <td>Cambridge</td>\n",
       "      <td>01-01-2013</td>\n",
       "      <td>geospockltd</td>\n",
       "      <td>/funding-round/e5e4ef4ebae63fc36ef0cd57dd20ff1c</td>\n",
       "      <td>venture</td>\n",
       "      <td>A</td>\n",
       "      <td>05-10-2015</td>\n",
       "      <td>5400000.0</td>\n",
       "      <td>Application Platforms</td>\n",
       "      <td>News, Search and Messaging</td>\n",
       "      <td>66</td>\n",
       "      <td>558500705.0</td>\n",
       "    </tr>\n",
       "  </tbody>\n",
       "</table>\n",
       "</div>"
      ],
      "text/plain": [
       "                              homepage_url  \\\n",
       "1                     http://www.90min.com   \n",
       "2                     http://www.90min.com   \n",
       "85   http://commoninterestcommunities.com/   \n",
       "101                http://www.geospock.com   \n",
       "102                http://www.geospock.com   \n",
       "\n",
       "                                        category_list     status country_code  \\\n",
       "1                 Media|News|Publishing|Soccer|Sports  operating          GBR   \n",
       "2                 Media|News|Publishing|Soccer|Sports  operating          GBR   \n",
       "85   Application Platforms|Internet|Software|Startups  operating          GBR   \n",
       "101         Application Platforms|Databases|Real Time  operating          GBR   \n",
       "102         Application Platforms|Databases|Real Time  operating          GBR   \n",
       "\n",
       "    state_code  region       city  founded_at                    Company  \\\n",
       "1           H9  London     London  01-01-2011                      90min   \n",
       "2           H9  London     London  01-01-2011                      90min   \n",
       "85          H9  London     London         NaN  commoninterestcommunities   \n",
       "101         C3  London  Cambridge  01-01-2013                geospockltd   \n",
       "102         C3  London  Cambridge  01-01-2013                geospockltd   \n",
       "\n",
       "                             funding_round_permalink funding_round_type  \\\n",
       "1    /funding-round/21a2cbf6f2fb2a1c2a61e04bf930dfe6            venture   \n",
       "2    /funding-round/bd626ed022f5c66574b1afe234f3c90d            venture   \n",
       "85   /funding-round/8195587cbd5e51af7514ee92ef4ba6ba            venture   \n",
       "101  /funding-round/cf3fe3b7c86186b9f478d0ea37613f7a            venture   \n",
       "102  /funding-round/e5e4ef4ebae63fc36ef0cd57dd20ff1c            venture   \n",
       "\n",
       "    funding_round_code   funded_at  raised_amount_usd         Primary_Sector  \\\n",
       "1                  NaN  06-10-2015         15000000.0                  Media   \n",
       "2                  NaN  07-05-2013          5800000.0                  Media   \n",
       "85                 NaN  09-07-2014         10000000.0  Application Platforms   \n",
       "101                NaN  01-10-2014          5460000.0  Application Platforms   \n",
       "102                  A  05-10-2015          5400000.0  Application Platforms   \n",
       "\n",
       "                    main_sector  count_of_invest  sum_of_invest  \n",
       "1                 Entertainment               52    454411059.0  \n",
       "2                 Entertainment               52    454411059.0  \n",
       "85   News, Search and Messaging               66    558500705.0  \n",
       "101  News, Search and Messaging               66    558500705.0  \n",
       "102  News, Search and Messaging               66    558500705.0  "
      ]
     },
     "execution_count": 64,
     "metadata": {},
     "output_type": "execute_result"
    }
   ],
   "source": [
    "D2.head()"
   ]
  },
  {
   "cell_type": "code",
   "execution_count": 65,
   "metadata": {},
   "outputs": [
    {
     "data": {
      "text/html": [
       "<div>\n",
       "<style scoped>\n",
       "    .dataframe tbody tr th:only-of-type {\n",
       "        vertical-align: middle;\n",
       "    }\n",
       "\n",
       "    .dataframe tbody tr th {\n",
       "        vertical-align: top;\n",
       "    }\n",
       "\n",
       "    .dataframe thead th {\n",
       "        text-align: right;\n",
       "    }\n",
       "</style>\n",
       "<table border=\"1\" class=\"dataframe\">\n",
       "  <thead>\n",
       "    <tr style=\"text-align: right;\">\n",
       "      <th></th>\n",
       "      <th>homepage_url</th>\n",
       "      <th>category_list</th>\n",
       "      <th>status</th>\n",
       "      <th>country_code</th>\n",
       "      <th>state_code</th>\n",
       "      <th>region</th>\n",
       "      <th>city</th>\n",
       "      <th>founded_at</th>\n",
       "      <th>Company</th>\n",
       "      <th>funding_round_permalink</th>\n",
       "      <th>funding_round_type</th>\n",
       "      <th>funding_round_code</th>\n",
       "      <th>funded_at</th>\n",
       "      <th>raised_amount_usd</th>\n",
       "      <th>Primary_Sector</th>\n",
       "      <th>main_sector</th>\n",
       "      <th>count_of_invest</th>\n",
       "      <th>sum_of_invest</th>\n",
       "    </tr>\n",
       "  </thead>\n",
       "  <tbody>\n",
       "    <tr>\n",
       "      <th>0</th>\n",
       "      <td>http://livfame.com</td>\n",
       "      <td>Media</td>\n",
       "      <td>operating</td>\n",
       "      <td>IND</td>\n",
       "      <td>16</td>\n",
       "      <td>Mumbai</td>\n",
       "      <td>Mumbai</td>\n",
       "      <td>NaN</td>\n",
       "      <td>fame</td>\n",
       "      <td>/funding-round/9a01d05418af9f794eebff7ace91f638</td>\n",
       "      <td>venture</td>\n",
       "      <td>B</td>\n",
       "      <td>05-01-2015</td>\n",
       "      <td>10000000.0</td>\n",
       "      <td>Media</td>\n",
       "      <td>Entertainment</td>\n",
       "      <td>32</td>\n",
       "      <td>272080000.0</td>\n",
       "    </tr>\n",
       "    <tr>\n",
       "      <th>254</th>\n",
       "      <td>http://chillr.in</td>\n",
       "      <td>Apps|Banking|Mobile Payments</td>\n",
       "      <td>operating</td>\n",
       "      <td>IND</td>\n",
       "      <td>13</td>\n",
       "      <td>Cochin</td>\n",
       "      <td>Cochin</td>\n",
       "      <td>22-12-2013</td>\n",
       "      <td>chillr2</td>\n",
       "      <td>/funding-round/c5477ed0c5d0f47db4d010094abcd317</td>\n",
       "      <td>venture</td>\n",
       "      <td>A</td>\n",
       "      <td>02-10-2015</td>\n",
       "      <td>6000000.0</td>\n",
       "      <td>Apps</td>\n",
       "      <td>News, Search and Messaging</td>\n",
       "      <td>51</td>\n",
       "      <td>423834545.0</td>\n",
       "    </tr>\n",
       "    <tr>\n",
       "      <th>404</th>\n",
       "      <td>https://jugnoo.in/#/</td>\n",
       "      <td>Apps|Social Business|Software</td>\n",
       "      <td>operating</td>\n",
       "      <td>IND</td>\n",
       "      <td>5</td>\n",
       "      <td>Chandigarh</td>\n",
       "      <td>Chandigarh</td>\n",
       "      <td>01-11-2014</td>\n",
       "      <td>jugnoo</td>\n",
       "      <td>/funding-round/89fc1dc3e31be5732df0fcabca9a0c08</td>\n",
       "      <td>venture</td>\n",
       "      <td>A</td>\n",
       "      <td>05-06-2015</td>\n",
       "      <td>5000000.0</td>\n",
       "      <td>Apps</td>\n",
       "      <td>News, Search and Messaging</td>\n",
       "      <td>51</td>\n",
       "      <td>423834545.0</td>\n",
       "    </tr>\n",
       "    <tr>\n",
       "      <th>521</th>\n",
       "      <td>http://www.peppertap.com</td>\n",
       "      <td>Apps|Groceries|Online Shopping</td>\n",
       "      <td>operating</td>\n",
       "      <td>IND</td>\n",
       "      <td>10</td>\n",
       "      <td>New Delhi</td>\n",
       "      <td>Gurgaon</td>\n",
       "      <td>26-11-2014</td>\n",
       "      <td>peppertap</td>\n",
       "      <td>/funding-round/2c5621fec872c82f48ebbab0b7cfa6a0</td>\n",
       "      <td>venture</td>\n",
       "      <td>A</td>\n",
       "      <td>14-04-2015</td>\n",
       "      <td>10000000.0</td>\n",
       "      <td>Apps</td>\n",
       "      <td>News, Search and Messaging</td>\n",
       "      <td>51</td>\n",
       "      <td>423834545.0</td>\n",
       "    </tr>\n",
       "    <tr>\n",
       "      <th>671</th>\n",
       "      <td>http://tinyowl.com/</td>\n",
       "      <td>Apps|Mobile|Specialty Foods</td>\n",
       "      <td>operating</td>\n",
       "      <td>IND</td>\n",
       "      <td>16</td>\n",
       "      <td>Mumbai</td>\n",
       "      <td>Mumbai</td>\n",
       "      <td>NaN</td>\n",
       "      <td>tinyowltechnology</td>\n",
       "      <td>/funding-round/6139214390beddb0910642f6c5bf27b6</td>\n",
       "      <td>venture</td>\n",
       "      <td>C</td>\n",
       "      <td>30-10-2015</td>\n",
       "      <td>7665775.0</td>\n",
       "      <td>Apps</td>\n",
       "      <td>News, Search and Messaging</td>\n",
       "      <td>51</td>\n",
       "      <td>423834545.0</td>\n",
       "    </tr>\n",
       "  </tbody>\n",
       "</table>\n",
       "</div>"
      ],
      "text/plain": [
       "                 homepage_url                   category_list     status  \\\n",
       "0          http://livfame.com                           Media  operating   \n",
       "254          http://chillr.in    Apps|Banking|Mobile Payments  operating   \n",
       "404      https://jugnoo.in/#/   Apps|Social Business|Software  operating   \n",
       "521  http://www.peppertap.com  Apps|Groceries|Online Shopping  operating   \n",
       "671       http://tinyowl.com/     Apps|Mobile|Specialty Foods  operating   \n",
       "\n",
       "    country_code state_code      region        city  founded_at  \\\n",
       "0            IND         16      Mumbai      Mumbai         NaN   \n",
       "254          IND         13      Cochin      Cochin  22-12-2013   \n",
       "404          IND          5  Chandigarh  Chandigarh  01-11-2014   \n",
       "521          IND         10   New Delhi     Gurgaon  26-11-2014   \n",
       "671          IND         16      Mumbai      Mumbai         NaN   \n",
       "\n",
       "               Company                          funding_round_permalink  \\\n",
       "0                 fame  /funding-round/9a01d05418af9f794eebff7ace91f638   \n",
       "254            chillr2  /funding-round/c5477ed0c5d0f47db4d010094abcd317   \n",
       "404             jugnoo  /funding-round/89fc1dc3e31be5732df0fcabca9a0c08   \n",
       "521          peppertap  /funding-round/2c5621fec872c82f48ebbab0b7cfa6a0   \n",
       "671  tinyowltechnology  /funding-round/6139214390beddb0910642f6c5bf27b6   \n",
       "\n",
       "    funding_round_type funding_round_code   funded_at  raised_amount_usd  \\\n",
       "0              venture                  B  05-01-2015         10000000.0   \n",
       "254            venture                  A  02-10-2015          6000000.0   \n",
       "404            venture                  A  05-06-2015          5000000.0   \n",
       "521            venture                  A  14-04-2015         10000000.0   \n",
       "671            venture                  C  30-10-2015          7665775.0   \n",
       "\n",
       "    Primary_Sector                 main_sector  count_of_invest  sum_of_invest  \n",
       "0            Media               Entertainment               32    272080000.0  \n",
       "254           Apps  News, Search and Messaging               51    423834545.0  \n",
       "404           Apps  News, Search and Messaging               51    423834545.0  \n",
       "521           Apps  News, Search and Messaging               51    423834545.0  \n",
       "671           Apps  News, Search and Messaging               51    423834545.0  "
      ]
     },
     "execution_count": 65,
     "metadata": {},
     "output_type": "execute_result"
    }
   ],
   "source": [
    "D3.head()"
   ]
  },
  {
   "cell_type": "markdown",
   "metadata": {},
   "source": [
    "### Q2. Total number of investment of each country?"
   ]
  },
  {
   "cell_type": "code",
   "execution_count": 156,
   "metadata": {},
   "outputs": [
    {
     "data": {
      "text/plain": [
       "10421"
      ]
     },
     "execution_count": 156,
     "metadata": {},
     "output_type": "execute_result"
    }
   ],
   "source": [
    "D1.count_of_invest.unique().sum() #USA"
   ]
  },
  {
   "cell_type": "code",
   "execution_count": 157,
   "metadata": {},
   "outputs": [
    {
     "data": {
      "text/plain": [
       "545"
      ]
     },
     "execution_count": 157,
     "metadata": {},
     "output_type": "execute_result"
    }
   ],
   "source": [
    "D2.count_of_invest.unique().sum() #GBR"
   ]
  },
  {
   "cell_type": "code",
   "execution_count": 158,
   "metadata": {},
   "outputs": [
    {
     "data": {
      "text/plain": [
       "257"
      ]
     },
     "execution_count": 158,
     "metadata": {},
     "output_type": "execute_result"
    }
   ],
   "source": [
    "D3.count_of_invest.unique().sum() #INDIA"
   ]
  },
  {
   "cell_type": "markdown",
   "metadata": {},
   "source": [
    "### Q3. Total amount of investment of each country?"
   ]
  },
  {
   "cell_type": "code",
   "execution_count": 69,
   "metadata": {},
   "outputs": [
    {
     "data": {
      "text/plain": [
       "country_code\n",
       "USA    1.710196e+14\n",
       "Name: sum_of_invest, dtype: float64"
      ]
     },
     "execution_count": 69,
     "metadata": {},
     "output_type": "execute_result"
    }
   ],
   "source": [
    "D1.groupby('country_code')['sum_of_invest'].sum()"
   ]
  },
  {
   "cell_type": "code",
   "execution_count": 70,
   "metadata": {},
   "outputs": [
    {
     "data": {
      "text/plain": [
       "country_code\n",
       "GBR    4.391079e+11\n",
       "Name: sum_of_invest, dtype: float64"
      ]
     },
     "execution_count": 70,
     "metadata": {},
     "output_type": "execute_result"
    }
   ],
   "source": [
    "D2.groupby('country_code')['sum_of_invest'].sum()"
   ]
  },
  {
   "cell_type": "code",
   "execution_count": 71,
   "metadata": {},
   "outputs": [
    {
     "data": {
      "text/plain": [
       "country_code\n",
       "IND    1.471166e+11\n",
       "Name: sum_of_invest, dtype: float64"
      ]
     },
     "execution_count": 71,
     "metadata": {},
     "output_type": "execute_result"
    }
   ],
   "source": [
    "D3.groupby('country_code')['sum_of_invest'].sum()"
   ]
  },
  {
   "cell_type": "markdown",
   "metadata": {},
   "source": [
    "### Q4. Top sector (based on count of investments)? "
   ]
  },
  {
   "cell_type": "code",
   "execution_count": 72,
   "metadata": {},
   "outputs": [
    {
     "data": {
      "text/plain": [
       "country_code  main_sector\n",
       "USA           Others         2735\n",
       "Name: count_of_invest, dtype: int64"
      ]
     },
     "execution_count": 72,
     "metadata": {},
     "output_type": "execute_result"
    }
   ],
   "source": [
    "D1.groupby(['country_code','main_sector'])['count_of_invest'].count().sort_values(ascending=False).head(1)"
   ]
  },
  {
   "cell_type": "code",
   "execution_count": 73,
   "metadata": {},
   "outputs": [
    {
     "data": {
      "text/plain": [
       "country_code  main_sector\n",
       "GBR           Others         137\n",
       "Name: count_of_invest, dtype: int64"
      ]
     },
     "execution_count": 73,
     "metadata": {},
     "output_type": "execute_result"
    }
   ],
   "source": [
    "D2.groupby(['country_code','main_sector'])['count_of_invest'].count().sort_values(ascending=False).head(1)"
   ]
  },
  {
   "cell_type": "code",
   "execution_count": 74,
   "metadata": {},
   "outputs": [
    {
     "data": {
      "text/plain": [
       "country_code  main_sector\n",
       "IND           Others         102\n",
       "Name: count_of_invest, dtype: int64"
      ]
     },
     "execution_count": 74,
     "metadata": {},
     "output_type": "execute_result"
    }
   ],
   "source": [
    "D3.groupby(['country_code','main_sector'])['count_of_invest'].count().sort_values(ascending=False).head(1)"
   ]
  },
  {
   "cell_type": "markdown",
   "metadata": {},
   "source": [
    "### Q5. Second best sector (based on count of investments)? "
   ]
  },
  {
   "cell_type": "markdown",
   "metadata": {},
   "source": [
    "- USA"
   ]
  },
  {
   "cell_type": "code",
   "execution_count": 75,
   "metadata": {},
   "outputs": [],
   "source": [
    "r = D1.groupby(['country_code','main_sector'])['count_of_invest'].count().sort_values(ascending=False)\n",
    "x = r.reset_index(inplace=False)"
   ]
  },
  {
   "cell_type": "code",
   "execution_count": 76,
   "metadata": {},
   "outputs": [
    {
     "data": {
      "text/plain": [
       "country_code                              USA\n",
       "main_sector        Cleantech / Semiconductors\n",
       "count_of_invest                          2146\n",
       "Name: 1, dtype: object"
      ]
     },
     "execution_count": 76,
     "metadata": {},
     "output_type": "execute_result"
    }
   ],
   "source": [
    "x.iloc[1,:]"
   ]
  },
  {
   "cell_type": "markdown",
   "metadata": {},
   "source": [
    "- UK"
   ]
  },
  {
   "cell_type": "code",
   "execution_count": 77,
   "metadata": {},
   "outputs": [],
   "source": [
    "r = D2.groupby(['country_code','main_sector'])['count_of_invest'].count().sort_values(ascending=False)\n",
    "x = r.reset_index(inplace=False)"
   ]
  },
  {
   "cell_type": "code",
   "execution_count": 78,
   "metadata": {},
   "outputs": [
    {
     "data": {
      "text/plain": [
       "country_code                              GBR\n",
       "main_sector        Cleantech / Semiconductors\n",
       "count_of_invest                           114\n",
       "Name: 1, dtype: object"
      ]
     },
     "execution_count": 78,
     "metadata": {},
     "output_type": "execute_result"
    }
   ],
   "source": [
    "x.iloc[1,:]"
   ]
  },
  {
   "cell_type": "markdown",
   "metadata": {},
   "source": [
    "- INDIA"
   ]
  },
  {
   "cell_type": "code",
   "execution_count": 79,
   "metadata": {},
   "outputs": [],
   "source": [
    "r = D3.groupby(['country_code','main_sector'])['count_of_invest'].count().sort_values(ascending=False)\n",
    "x = r.reset_index(inplace=False)"
   ]
  },
  {
   "cell_type": "code",
   "execution_count": 80,
   "metadata": {},
   "outputs": [
    {
     "data": {
      "text/plain": [
       "country_code                              IND\n",
       "main_sector        News, Search and Messaging\n",
       "count_of_invest                            51\n",
       "Name: 1, dtype: object"
      ]
     },
     "execution_count": 80,
     "metadata": {},
     "output_type": "execute_result"
    }
   ],
   "source": [
    "x.iloc[1,:]"
   ]
  },
  {
   "cell_type": "markdown",
   "metadata": {},
   "source": [
    "### Q6. Third best sector (based on count of investments)? "
   ]
  },
  {
   "cell_type": "markdown",
   "metadata": {},
   "source": [
    "- USA"
   ]
  },
  {
   "cell_type": "code",
   "execution_count": 81,
   "metadata": {},
   "outputs": [],
   "source": [
    "r = D1.groupby(['country_code','main_sector'])['count_of_invest'].count().sort_values(ascending=False)\n",
    "x = r.reset_index(inplace=False)"
   ]
  },
  {
   "cell_type": "code",
   "execution_count": 82,
   "metadata": {},
   "outputs": [
    {
     "data": {
      "text/plain": [
       "country_code                                           USA\n",
       "main_sector        Social, Finance, Analytics, Advertising\n",
       "count_of_invest                                       1817\n",
       "Name: 2, dtype: object"
      ]
     },
     "execution_count": 82,
     "metadata": {},
     "output_type": "execute_result"
    }
   ],
   "source": [
    "x.iloc[2,:]"
   ]
  },
  {
   "cell_type": "markdown",
   "metadata": {},
   "source": [
    "- UK"
   ]
  },
  {
   "cell_type": "code",
   "execution_count": 83,
   "metadata": {},
   "outputs": [],
   "source": [
    "r = D2.groupby(['country_code','main_sector'])['count_of_invest'].count().sort_values(ascending=False)\n",
    "x = r.reset_index(inplace=False)"
   ]
  },
  {
   "cell_type": "code",
   "execution_count": 84,
   "metadata": {},
   "outputs": [
    {
     "data": {
      "text/plain": [
       "country_code                                           GBR\n",
       "main_sector        Social, Finance, Analytics, Advertising\n",
       "count_of_invest                                         95\n",
       "Name: 2, dtype: object"
      ]
     },
     "execution_count": 84,
     "metadata": {},
     "output_type": "execute_result"
    }
   ],
   "source": [
    "x.iloc[2,:]"
   ]
  },
  {
   "cell_type": "markdown",
   "metadata": {},
   "source": [
    "- INDIA"
   ]
  },
  {
   "cell_type": "code",
   "execution_count": 85,
   "metadata": {},
   "outputs": [],
   "source": [
    "r = D3.groupby(['country_code','main_sector'])['count_of_invest'].count().sort_values(ascending=False)\n",
    "x = r.reset_index(inplace=False)"
   ]
  },
  {
   "cell_type": "code",
   "execution_count": 86,
   "metadata": {},
   "outputs": [
    {
     "data": {
      "text/plain": [
       "country_code                                           IND\n",
       "main_sector        Social, Finance, Analytics, Advertising\n",
       "count_of_invest                                         32\n",
       "Name: 2, dtype: object"
      ]
     },
     "execution_count": 86,
     "metadata": {},
     "output_type": "execute_result"
    }
   ],
   "source": [
    "x.iloc[2,:]"
   ]
  },
  {
   "cell_type": "markdown",
   "metadata": {},
   "source": [
    "### Q7.  For the top sector count-wise , which company received the highest investment?\n",
    " "
   ]
  },
  {
   "cell_type": "markdown",
   "metadata": {},
   "source": [
    "- USA"
   ]
  },
  {
   "cell_type": "code",
   "execution_count": 87,
   "metadata": {},
   "outputs": [
    {
     "data": {
      "text/plain": [
       "country_code  Company          \n",
       "USA           blackducksoftware    1.466644e+11\n",
       "Name: sum_of_invest, dtype: float64"
      ]
     },
     "execution_count": 87,
     "metadata": {},
     "output_type": "execute_result"
    }
   ],
   "source": [
    "x = D1.query('main_sector == \"Others\"')\n",
    "x.groupby(['country_code','Company'])['sum_of_invest'].sum().sort_values(ascending=False).head(1)"
   ]
  },
  {
   "cell_type": "markdown",
   "metadata": {},
   "source": [
    "- UK"
   ]
  },
  {
   "cell_type": "code",
   "execution_count": 88,
   "metadata": {},
   "outputs": [
    {
     "data": {
      "text/plain": [
       "country_code  Company\n",
       "GBR           sensage    4.757769e+09\n",
       "Name: sum_of_invest, dtype: float64"
      ]
     },
     "execution_count": 88,
     "metadata": {},
     "output_type": "execute_result"
    }
   ],
   "source": [
    "x = D2.query('main_sector == \"Others\"')\n",
    "x.groupby(['country_code','Company'])['sum_of_invest'].sum().sort_values(ascending=False).head(1)"
   ]
  },
  {
   "cell_type": "markdown",
   "metadata": {},
   "source": [
    "- INDIA"
   ]
  },
  {
   "cell_type": "code",
   "execution_count": 89,
   "metadata": {},
   "outputs": [
    {
     "data": {
      "text/plain": [
       "country_code  Company\n",
       "IND           myntra     3.737158e+09\n",
       "Name: sum_of_invest, dtype: float64"
      ]
     },
     "execution_count": 89,
     "metadata": {},
     "output_type": "execute_result"
    }
   ],
   "source": [
    "x = D3.query('main_sector == \"Others\"')\n",
    "x.groupby(['country_code','Company'])['sum_of_invest'].sum().sort_values(ascending=False).head(1)"
   ]
  },
  {
   "cell_type": "markdown",
   "metadata": {},
   "source": [
    "### Q8. For the second-best sector count-wise , which company received the highest investment?\n",
    " "
   ]
  },
  {
   "cell_type": "markdown",
   "metadata": {},
   "source": [
    "- USA"
   ]
  },
  {
   "cell_type": "code",
   "execution_count": 90,
   "metadata": {},
   "outputs": [],
   "source": [
    "x = D1.query('main_sector == \"Cleantech / Semiconductors\"')\n",
    "y = x.groupby(['country_code','Company'])['sum_of_invest'].sum().sort_values(ascending=False).head()\n",
    "z = y.reset_index(inplace=False)"
   ]
  },
  {
   "cell_type": "code",
   "execution_count": 91,
   "metadata": {},
   "outputs": [
    {
     "data": {
      "text/plain": [
       "country_code             USA\n",
       "Company           tigoenergy\n",
       "sum_of_invest    1.57935e+11\n",
       "Name: 1, dtype: object"
      ]
     },
     "execution_count": 91,
     "metadata": {},
     "output_type": "execute_result"
    }
   ],
   "source": [
    "z.iloc[1,:]"
   ]
  },
  {
   "cell_type": "markdown",
   "metadata": {},
   "source": [
    "- UK"
   ]
  },
  {
   "cell_type": "code",
   "execution_count": 92,
   "metadata": {},
   "outputs": [],
   "source": [
    "x = D2.query('main_sector == \"Cleantech / Semiconductors\"')\n",
    "y = x.groupby(['country_code','Company'])['sum_of_invest'].sum().sort_values(ascending=False).head()\n",
    "z = y.reset_index(inplace=False)"
   ]
  },
  {
   "cell_type": "code",
   "execution_count": 93,
   "metadata": {},
   "outputs": [
    {
     "data": {
      "text/plain": [
       "country_code                                                   GBR\n",
       "Company          fstarbiotechnologischeforschungsundentwicklung...\n",
       "sum_of_invest                                          3.08409e+09\n",
       "Name: 1, dtype: object"
      ]
     },
     "execution_count": 93,
     "metadata": {},
     "output_type": "execute_result"
    }
   ],
   "source": [
    "z.iloc[1,:]"
   ]
  },
  {
   "cell_type": "markdown",
   "metadata": {},
   "source": [
    "- INDIA"
   ]
  },
  {
   "cell_type": "code",
   "execution_count": 94,
   "metadata": {},
   "outputs": [],
   "source": [
    "x = D3.query('main_sector == \"News, Search and Messaging\"')\n",
    "y = x.groupby(['country_code','Company'])['sum_of_invest'].sum().sort_values(ascending=False).head()\n",
    "z = y.reset_index(inplace=False)"
   ]
  },
  {
   "cell_type": "code",
   "execution_count": 95,
   "metadata": {},
   "outputs": [
    {
     "data": {
      "text/plain": [
       "country_code              IND\n",
       "Company          bluestonecom\n",
       "sum_of_invest     8.47669e+08\n",
       "Name: 1, dtype: object"
      ]
     },
     "execution_count": 95,
     "metadata": {},
     "output_type": "execute_result"
    }
   ],
   "source": [
    "z.iloc[1,:]"
   ]
  },
  {
   "cell_type": "markdown",
   "metadata": {},
   "source": [
    "# PLOTS"
   ]
  },
  {
   "cell_type": "markdown",
   "metadata": {},
   "source": [
    "### Q1. A plot showing the fraction of total investments (globally) in venture, seed, and private equity, and the average amount of investment in each funding type. "
   ]
  },
  {
   "cell_type": "code",
   "execution_count": 108,
   "metadata": {},
   "outputs": [
    {
     "data": {
      "text/plain": [
       "Text(0.5, 1.0, 'Funding Type along with Count of Investments')"
      ]
     },
     "execution_count": 108,
     "metadata": {},
     "output_type": "execute_result"
    },
    {
     "data": {
      "image/png": "[encoded data removed]",
      "text/plain": [
       "<Figure size 432x288 with 1 Axes>"
      ]
     },
     "metadata": {},
     "output_type": "display_data"
    }
   ],
   "source": [
    "import matplotlib.pyplot as plt\n",
    "x = master_frame.query('funding_round_type==\"venture\" or funding_round_type==\"private_equity\" or funding_round_type==\"seed\"')\n",
    "#Applying condition on our master_frame as Teclov wants to invest between 5 million to 15 million.\n",
    "y = x.query('5000000<= raised_amount_usd <= 15000000')\n",
    "z = y.groupby('funding_round_type')['funding_round_type'].count()\n",
    "#Lets plot the same on bar graph.\n",
    "plt.style.use('ggplot')\n",
    "z.plot(kind='bar')\n",
    "plt.ylabel('Count')\n",
    "plt.xlabel('Funding Type')\n",
    "plt.title('Funding Type along with Count of Investments')"
   ]
  },
  {
   "cell_type": "code",
   "execution_count": 97,
   "metadata": {},
   "outputs": [
    {
     "data": {
      "text/plain": [
       "Text(0.5, 1.0, 'Funding Type along with Mean Amount Invested')"
      ]
     },
     "execution_count": 97,
     "metadata": {},
     "output_type": "execute_result"
    },
    {
     "data": {
      "image/png": "[encoded data removed]",
      "text/plain": [
       "<Figure size 432x288 with 1 Axes>"
      ]
     },
     "metadata": {},
     "output_type": "display_data"
    }
   ],
   "source": [
    "z = y.groupby('funding_round_type')['raised_amount_usd'].mean()\n",
    "#Lets plot the same.\n",
    "plt.style.use('ggplot')\n",
    "z.plot(kind='bar')\n",
    "plt.ylabel('Mean amount invested')\n",
    "plt.xlabel('Funding Type')\n",
    "plt.title('Funding Type along with Mean Amount Invested')"
   ]
  },
  {
   "cell_type": "markdown",
   "metadata": {},
   "source": [
    "### From above we can analyze that \"Venture\" is the most suited type of investment for Teclov."
   ]
  },
  {
   "cell_type": "markdown",
   "metadata": {},
   "source": [
    "### Q2.A plot showing the top 9 countries against the total amount of investments of funding type FT."
   ]
  },
  {
   "cell_type": "code",
   "execution_count": 98,
   "metadata": {},
   "outputs": [
    {
     "data": {
      "text/plain": [
       "Text(0.5, 1.0, 'Top 9 countries along with total investment')"
      ]
     },
     "execution_count": 98,
     "metadata": {},
     "output_type": "execute_result"
    },
    {
     "data": {
      "image/png": "[encoded data removed]",
      "text/plain": [
       "<Figure size 432x288 with 1 Axes>"
      ]
     },
     "metadata": {},
     "output_type": "display_data"
    }
   ],
   "source": [
    "a = master_frame_venture.query('5000000<= raised_amount_usd <= 15000000')\n",
    "x = a.groupby('country_code')['raised_amount_usd'].sum().sort_values(ascending=False).head(9)\n",
    "# Lets plot the same.\n",
    "plt.style.use('ggplot')\n",
    "x.plot(kind='bar',colormap='Paired')\n",
    "plt.ylabel('Total amount invested')\n",
    "plt.xlabel('Countries')\n",
    "plt.title('Top 9 countries along with total investment')"
   ]
  },
  {
   "cell_type": "code",
   "execution_count": 99,
   "metadata": {},
   "outputs": [],
   "source": [
    "### As Teclov wants to invest in english speaking country so we will be plotting with the same."
   ]
  },
  {
   "cell_type": "code",
   "execution_count": 100,
   "metadata": {},
   "outputs": [
    {
     "data": {
      "text/html": [
       "<div>\n",
       "<style scoped>\n",
       "    .dataframe tbody tr th:only-of-type {\n",
       "        vertical-align: middle;\n",
       "    }\n",
       "\n",
       "    .dataframe tbody tr th {\n",
       "        vertical-align: top;\n",
       "    }\n",
       "\n",
       "    .dataframe thead th {\n",
       "        text-align: right;\n",
       "    }\n",
       "</style>\n",
       "<table border=\"1\" class=\"dataframe\">\n",
       "  <thead>\n",
       "    <tr style=\"text-align: right;\">\n",
       "      <th></th>\n",
       "      <th>country_code</th>\n",
       "      <th>raised_amount_usd</th>\n",
       "    </tr>\n",
       "  </thead>\n",
       "  <tbody>\n",
       "    <tr>\n",
       "      <th>0</th>\n",
       "      <td>USA</td>\n",
       "      <td>4.008023e+11</td>\n",
       "    </tr>\n",
       "    <tr>\n",
       "      <th>1</th>\n",
       "      <td>CHN</td>\n",
       "      <td>3.910177e+10</td>\n",
       "    </tr>\n",
       "    <tr>\n",
       "      <th>2</th>\n",
       "      <td>0</td>\n",
       "      <td>1.979664e+10</td>\n",
       "    </tr>\n",
       "    <tr>\n",
       "      <th>3</th>\n",
       "      <td>GBR</td>\n",
       "      <td>1.834651e+10</td>\n",
       "    </tr>\n",
       "    <tr>\n",
       "      <th>4</th>\n",
       "      <td>IND</td>\n",
       "      <td>1.409556e+10</td>\n",
       "    </tr>\n",
       "    <tr>\n",
       "      <th>5</th>\n",
       "      <td>CAN</td>\n",
       "      <td>8.839931e+09</td>\n",
       "    </tr>\n",
       "    <tr>\n",
       "      <th>6</th>\n",
       "      <td>FRA</td>\n",
       "      <td>6.775044e+09</td>\n",
       "    </tr>\n",
       "    <tr>\n",
       "      <th>7</th>\n",
       "      <td>ISR</td>\n",
       "      <td>6.503021e+09</td>\n",
       "    </tr>\n",
       "    <tr>\n",
       "      <th>8</th>\n",
       "      <td>DEU</td>\n",
       "      <td>6.061141e+09</td>\n",
       "    </tr>\n",
       "  </tbody>\n",
       "</table>\n",
       "</div>"
      ],
      "text/plain": [
       "  country_code  raised_amount_usd\n",
       "0          USA       4.008023e+11\n",
       "1          CHN       3.910177e+10\n",
       "2            0       1.979664e+10\n",
       "3          GBR       1.834651e+10\n",
       "4          IND       1.409556e+10\n",
       "5          CAN       8.839931e+09\n",
       "6          FRA       6.775044e+09\n",
       "7          ISR       6.503021e+09\n",
       "8          DEU       6.061141e+09"
      ]
     },
     "execution_count": 100,
     "metadata": {},
     "output_type": "execute_result"
    }
   ],
   "source": [
    "top9 = master_frame_venture.groupby('country_code')['raised_amount_usd'].sum().sort_values(ascending=False).head(9)\n",
    "top9 = top9.reset_index(inplace=False)\n",
    "top9"
   ]
  },
  {
   "cell_type": "code",
   "execution_count": 101,
   "metadata": {},
   "outputs": [],
   "source": [
    "top3 = top9.query('country_code==\"USA\" or country_code==\"IND\" or country_code==\"GBR\"')\n",
    "top3.set_index('country_code',inplace=True)"
   ]
  },
  {
   "cell_type": "code",
   "execution_count": 102,
   "metadata": {},
   "outputs": [
    {
     "data": {
      "text/plain": [
       "Text(0.5, 1.0, 'Top 9 countries along with total investment')"
      ]
     },
     "execution_count": 102,
     "metadata": {},
     "output_type": "execute_result"
    },
    {
     "data": {
      "image/png": "[encoded data removed]",
      "text/plain": [
       "<Figure size 432x288 with 1 Axes>"
      ]
     },
     "metadata": {},
     "output_type": "display_data"
    }
   ],
   "source": [
    "# Lets plot the same.\n",
    "plt.style.use('ggplot')\n",
    "top3.plot(kind='bar',colormap='Paired')\n",
    "plt.ylabel('Total amount invested')\n",
    "plt.xlabel('Countries')\n",
    "plt.title('Top 9 countries along with total investment')"
   ]
  },
  {
   "cell_type": "markdown",
   "metadata": {},
   "source": [
    "### Q3.A plot showing the number of investments in the top 3 sectors of the top 3 countries on one chart (for the chosen investment type FT). "
   ]
  },
  {
   "cell_type": "code",
   "execution_count": 103,
   "metadata": {},
   "outputs": [
    {
     "data": {
      "text/html": [
       "<div>\n",
       "<style scoped>\n",
       "    .dataframe tbody tr th:only-of-type {\n",
       "        vertical-align: middle;\n",
       "    }\n",
       "\n",
       "    .dataframe tbody tr th {\n",
       "        vertical-align: top;\n",
       "    }\n",
       "\n",
       "    .dataframe thead th {\n",
       "        text-align: right;\n",
       "    }\n",
       "</style>\n",
       "<table border=\"1\" class=\"dataframe\">\n",
       "  <thead>\n",
       "    <tr style=\"text-align: right;\">\n",
       "      <th></th>\n",
       "      <th>Main_sector</th>\n",
       "      <th>count</th>\n",
       "      <th>Country</th>\n",
       "    </tr>\n",
       "  </thead>\n",
       "  <tbody>\n",
       "    <tr>\n",
       "      <th>0</th>\n",
       "      <td>Others</td>\n",
       "      <td>2735</td>\n",
       "      <td>USA</td>\n",
       "    </tr>\n",
       "    <tr>\n",
       "      <th>1</th>\n",
       "      <td>Cleantech / Semiconductors</td>\n",
       "      <td>2146</td>\n",
       "      <td>USA</td>\n",
       "    </tr>\n",
       "    <tr>\n",
       "      <th>2</th>\n",
       "      <td>Social, Finance, Analytics, Advertising</td>\n",
       "      <td>1817</td>\n",
       "      <td>USA</td>\n",
       "    </tr>\n",
       "  </tbody>\n",
       "</table>\n",
       "</div>"
      ],
      "text/plain": [
       "                               Main_sector  count Country\n",
       "0                                   Others   2735     USA\n",
       "1               Cleantech / Semiconductors   2146     USA\n",
       "2  Social, Finance, Analytics, Advertising   1817     USA"
      ]
     },
     "execution_count": 103,
     "metadata": {},
     "output_type": "execute_result"
    }
   ],
   "source": [
    "a = D1['main_sector'].value_counts().head(3)\n",
    "a = pd.DataFrame(a)\n",
    "a.reset_index(inplace=True)\n",
    "a = a.rename(columns={'index':'Main_sector','main_sector':'count'})\n",
    "lst = ['USA','USA','USA']\n",
    "a['Country'] = lst\n",
    "a"
   ]
  },
  {
   "cell_type": "code",
   "execution_count": 104,
   "metadata": {},
   "outputs": [
    {
     "data": {
      "text/html": [
       "<div>\n",
       "<style scoped>\n",
       "    .dataframe tbody tr th:only-of-type {\n",
       "        vertical-align: middle;\n",
       "    }\n",
       "\n",
       "    .dataframe tbody tr th {\n",
       "        vertical-align: top;\n",
       "    }\n",
       "\n",
       "    .dataframe thead th {\n",
       "        text-align: right;\n",
       "    }\n",
       "</style>\n",
       "<table border=\"1\" class=\"dataframe\">\n",
       "  <thead>\n",
       "    <tr style=\"text-align: right;\">\n",
       "      <th></th>\n",
       "      <th>Main_sector</th>\n",
       "      <th>count</th>\n",
       "      <th>Country</th>\n",
       "    </tr>\n",
       "  </thead>\n",
       "  <tbody>\n",
       "    <tr>\n",
       "      <th>0</th>\n",
       "      <td>Others</td>\n",
       "      <td>137</td>\n",
       "      <td>GBR</td>\n",
       "    </tr>\n",
       "    <tr>\n",
       "      <th>1</th>\n",
       "      <td>Cleantech / Semiconductors</td>\n",
       "      <td>114</td>\n",
       "      <td>GBR</td>\n",
       "    </tr>\n",
       "    <tr>\n",
       "      <th>2</th>\n",
       "      <td>Social, Finance, Analytics, Advertising</td>\n",
       "      <td>95</td>\n",
       "      <td>GBR</td>\n",
       "    </tr>\n",
       "  </tbody>\n",
       "</table>\n",
       "</div>"
      ],
      "text/plain": [
       "                               Main_sector  count Country\n",
       "0                                   Others    137     GBR\n",
       "1               Cleantech / Semiconductors    114     GBR\n",
       "2  Social, Finance, Analytics, Advertising     95     GBR"
      ]
     },
     "execution_count": 104,
     "metadata": {},
     "output_type": "execute_result"
    }
   ],
   "source": [
    "b = D2['main_sector'].value_counts().head(3)\n",
    "b = pd.DataFrame(b)\n",
    "b.reset_index(inplace=True)\n",
    "b = b.rename(columns={'index':'Main_sector','main_sector':'count'})\n",
    "lst = ['GBR','GBR','GBR']\n",
    "b['Country'] = lst\n",
    "b"
   ]
  },
  {
   "cell_type": "code",
   "execution_count": 105,
   "metadata": {},
   "outputs": [
    {
     "data": {
      "text/html": [
       "<div>\n",
       "<style scoped>\n",
       "    .dataframe tbody tr th:only-of-type {\n",
       "        vertical-align: middle;\n",
       "    }\n",
       "\n",
       "    .dataframe tbody tr th {\n",
       "        vertical-align: top;\n",
       "    }\n",
       "\n",
       "    .dataframe thead th {\n",
       "        text-align: right;\n",
       "    }\n",
       "</style>\n",
       "<table border=\"1\" class=\"dataframe\">\n",
       "  <thead>\n",
       "    <tr style=\"text-align: right;\">\n",
       "      <th></th>\n",
       "      <th>Main_sector</th>\n",
       "      <th>count</th>\n",
       "      <th>Country</th>\n",
       "    </tr>\n",
       "  </thead>\n",
       "  <tbody>\n",
       "    <tr>\n",
       "      <th>0</th>\n",
       "      <td>Others</td>\n",
       "      <td>102</td>\n",
       "      <td>INDIA</td>\n",
       "    </tr>\n",
       "    <tr>\n",
       "      <th>1</th>\n",
       "      <td>News, Search and Messaging</td>\n",
       "      <td>51</td>\n",
       "      <td>INDIA</td>\n",
       "    </tr>\n",
       "    <tr>\n",
       "      <th>2</th>\n",
       "      <td>Entertainment</td>\n",
       "      <td>32</td>\n",
       "      <td>INDIA</td>\n",
       "    </tr>\n",
       "  </tbody>\n",
       "</table>\n",
       "</div>"
      ],
      "text/plain": [
       "                  Main_sector  count Country\n",
       "0                      Others    102   INDIA\n",
       "1  News, Search and Messaging     51   INDIA\n",
       "2               Entertainment     32   INDIA"
      ]
     },
     "execution_count": 105,
     "metadata": {},
     "output_type": "execute_result"
    }
   ],
   "source": [
    "c = D3['main_sector'].value_counts().head(3)\n",
    "c = pd.DataFrame(c)\n",
    "c.reset_index(inplace=True)\n",
    "c = c.rename(columns={'index':'Main_sector','main_sector':'count'})\n",
    "lst = ['INDIA','INDIA','INDIA']\n",
    "c['Country'] = lst\n",
    "c"
   ]
  },
  {
   "cell_type": "code",
   "execution_count": 112,
   "metadata": {},
   "outputs": [
    {
     "data": {
      "text/html": [
       "<div>\n",
       "<style scoped>\n",
       "    .dataframe tbody tr th:only-of-type {\n",
       "        vertical-align: middle;\n",
       "    }\n",
       "\n",
       "    .dataframe tbody tr th {\n",
       "        vertical-align: top;\n",
       "    }\n",
       "\n",
       "    .dataframe thead th {\n",
       "        text-align: right;\n",
       "    }\n",
       "</style>\n",
       "<table border=\"1\" class=\"dataframe\">\n",
       "  <thead>\n",
       "    <tr style=\"text-align: right;\">\n",
       "      <th></th>\n",
       "      <th>Main_sector</th>\n",
       "      <th>count</th>\n",
       "      <th>Country</th>\n",
       "    </tr>\n",
       "  </thead>\n",
       "  <tbody>\n",
       "    <tr>\n",
       "      <th>0</th>\n",
       "      <td>Others</td>\n",
       "      <td>2735</td>\n",
       "      <td>USA</td>\n",
       "    </tr>\n",
       "    <tr>\n",
       "      <th>1</th>\n",
       "      <td>Cleantech / Semiconductors</td>\n",
       "      <td>2146</td>\n",
       "      <td>USA</td>\n",
       "    </tr>\n",
       "    <tr>\n",
       "      <th>2</th>\n",
       "      <td>Social, Finance, Analytics, Advertising</td>\n",
       "      <td>1817</td>\n",
       "      <td>USA</td>\n",
       "    </tr>\n",
       "    <tr>\n",
       "      <th>3</th>\n",
       "      <td>Others</td>\n",
       "      <td>137</td>\n",
       "      <td>GBR</td>\n",
       "    </tr>\n",
       "    <tr>\n",
       "      <th>4</th>\n",
       "      <td>Cleantech / Semiconductors</td>\n",
       "      <td>114</td>\n",
       "      <td>GBR</td>\n",
       "    </tr>\n",
       "    <tr>\n",
       "      <th>5</th>\n",
       "      <td>Social, Finance, Analytics, Advertising</td>\n",
       "      <td>95</td>\n",
       "      <td>GBR</td>\n",
       "    </tr>\n",
       "    <tr>\n",
       "      <th>6</th>\n",
       "      <td>Others</td>\n",
       "      <td>102</td>\n",
       "      <td>INDIA</td>\n",
       "    </tr>\n",
       "    <tr>\n",
       "      <th>7</th>\n",
       "      <td>News, Search and Messaging</td>\n",
       "      <td>51</td>\n",
       "      <td>INDIA</td>\n",
       "    </tr>\n",
       "    <tr>\n",
       "      <th>8</th>\n",
       "      <td>Entertainment</td>\n",
       "      <td>32</td>\n",
       "      <td>INDIA</td>\n",
       "    </tr>\n",
       "  </tbody>\n",
       "</table>\n",
       "</div>"
      ],
      "text/plain": [
       "                               Main_sector  count Country\n",
       "0                                   Others   2735     USA\n",
       "1               Cleantech / Semiconductors   2146     USA\n",
       "2  Social, Finance, Analytics, Advertising   1817     USA\n",
       "3                                   Others    137     GBR\n",
       "4               Cleantech / Semiconductors    114     GBR\n",
       "5  Social, Finance, Analytics, Advertising     95     GBR\n",
       "6                                   Others    102   INDIA\n",
       "7               News, Search and Messaging     51   INDIA\n",
       "8                            Entertainment     32   INDIA"
      ]
     },
     "execution_count": 112,
     "metadata": {},
     "output_type": "execute_result"
    }
   ],
   "source": [
    "x = pd.merge(a,b,how='outer')\n",
    "y = pd.merge(x,c,how='outer')\n",
    "y"
   ]
  },
  {
   "cell_type": "code",
   "execution_count": 169,
   "metadata": {},
   "outputs": [
    {
     "data": {
      "text/plain": [
       "(array([0, 1, 2]), <a list of 3 Text xticklabel objects>)"
      ]
     },
     "execution_count": 169,
     "metadata": {},
     "output_type": "execute_result"
    },
    {
     "data": {
      "image/png": "[encoded data removed]",
      "text/plain": [
       "<Figure size 576x576 with 1 Axes>"
      ]
     },
     "metadata": {},
     "output_type": "display_data"
    }
   ],
   "source": [
    "import seaborn as sns\n",
    "%matplotlib inline\n",
    "sns.set(style=\"whitegrid\")\n",
    "plt.figure(figsize=(8,8))\n",
    "sns.barplot(x='Country',y=y['count'],hue='Main_sector',data=y)\n",
    "plt.xticks(rotation=90)"
   ]
  },
  {
   "cell_type": "code",
   "execution_count": null,
   "metadata": {},
   "outputs": [],
   "source": []
  }
 ],
 "metadata": {
  "kernelspec": {
   "display_name": "Python 3",
   "language": "python",
   "name": "python3"
  },
  "language_info": {
   "codemirror_mode": {
    "name": "ipython",
    "version": 3
   },
   "file_extension": ".py",
   "mimetype": "text/x-python",
   "name": "python",
   "nbconvert_exporter": "python",
   "pygments_lexer": "ipython3",
   "version": "3.7.3"
  }
 },
 "nbformat": 4,
 "nbformat_minor": 2
}
